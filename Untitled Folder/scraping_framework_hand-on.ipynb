{
 "cells": [
  {
   "cell_type": "markdown",
   "metadata": {},
   "source": [
    "# Machine Learning for Data Science: Scraping Framework"
   ]
  },
  {
   "cell_type": "markdown",
   "metadata": {},
   "source": [
    "---"
   ]
  },
  {
   "cell_type": "markdown",
   "metadata": {},
   "source": [
    "## Table of Contents"
   ]
  },
  {
   "cell_type": "markdown",
   "metadata": {},
   "source": [
    "### 1. Web Scraping\n",
    "- Step 1. First of all, you will have to install Beautifulsoup and Requests\n",
    "- Step 2. Find the URL you want to scrape\n",
    "- Step 3. Define what information you want to scrape\n",
    "- Step 4. Identify the structure of the sites HTML\n",
    "- Step 5. Write the scraping code for retrieving the “soup”\n",
    "- Step 6. Extract the information from the “soup”"
   ]
  },
  {
   "cell_type": "markdown",
   "metadata": {},
   "source": [
    "### 2. Write the data to SQLite"
   ]
  },
  {
   "cell_type": "markdown",
   "metadata": {},
   "source": [
    "### 3. Write the data to Excel"
   ]
  },
  {
   "cell_type": "markdown",
   "metadata": {},
   "source": [
    "### 4. Plot the accident data"
   ]
  },
  {
   "cell_type": "markdown",
   "metadata": {},
   "source": [
    "---"
   ]
  },
  {
   "cell_type": "markdown",
   "metadata": {},
   "source": [
    "## Web Scraping with Beautiful Soup\n",
    "### What is Beautiful Soup?\n",
    "<br>\n",
    "The major concept with Beautiful Soup is that it allows you to access elements of your page by following the CSS structures. Once we grab elements, Python makes it easy to write the elements or relevant components of the elements into other files, such as a CSV, that can be stored in a database or opened in other software.\n",
    "<br><br>\n",
    "__First__, we have to turn the website code into a Python object. <br>\n",
    "print response.text. Then turns the text into an Python object named soup. <br>\n",
    "__Second__, the built in Python parser, which we can call using html.parser that Beautiful Soup uses to parse your text. "
   ]
  },
  {
   "cell_type": "markdown",
   "metadata": {},
   "source": [
    "#### Step 1. First of all, you will have to install Beautifulsoup and Requests<br>\n",
    "Beautiful Soup 4 is published through PyPi, so you can install it with pip. <br>\n",
    "> _pip install beautifulsoup4_"
   ]
  },
  {
   "cell_type": "code",
   "execution_count": 57,
   "metadata": {},
   "outputs": [],
   "source": [
    "import requests as rq\n",
    "import bs4 as b\n",
    "import re \n",
    "import pandas as pd"
   ]
  },
  {
   "cell_type": "code",
   "execution_count": null,
   "metadata": {},
   "outputs": [],
   "source": []
  },
  {
   "cell_type": "code",
   "execution_count": null,
   "metadata": {},
   "outputs": [],
   "source": []
  },
  {
   "cell_type": "code",
   "execution_count": null,
   "metadata": {},
   "outputs": [],
   "source": []
  },
  {
   "cell_type": "markdown",
   "metadata": {},
   "source": [
    "#### Step 2 and 3\n",
    "- Find the URL\n",
    "- Define what information you want"
   ]
  },
  {
   "cell_type": "code",
   "execution_count": 4,
   "metadata": {},
   "outputs": [],
   "source": [
    "res = rq.get('http://www.thairsc.com/th/BigAccidentAll.aspx?l=th')"
   ]
  },
  {
   "cell_type": "code",
   "execution_count": 5,
   "metadata": {},
   "outputs": [
    {
     "data": {
      "text/plain": [
       "'\\r\\n\\r\\n<!DOCTYPE html PUBLIC \"-//W3C//DTD XHTML 1.0 Transitional//EN\" \"http://www.w3.org/TR/xhtml1/DTD/xhtml1-transitional.dtd\">\\r\\n<html xmlns=\"http://www.w3.org/1999/xhtml\">\\r\\n<head><meta http-equiv=\"X-UA-Compatible\" content=\"IE=edge,chrome=1\" /><meta name=\"viewport\" content=\"width=device-width, initial-scale=1\" /><meta name=\"Keywords\" content=\"thai rsc, thairsc, thai-rsc, strive for by,road safety culture, road safety citizens,  road safety collaboration, ศูนย์ข้อมูล, ศูนย์ข้อมูลอุบัติเหตุ, ศูนย์ข้อมูลอุบัติเหตุ Thai Rsc, ศูนย์ข้อมูลอุบัติเหตุ ThaiRsc, ศูนย์ข้อมูลอุบัติเหตุ Thai-Rsc , อุบัติเหตุ, ข้อมูลอุบัติเหตุ , ทศวรรษ, White Paper, เครือข่ายเฝ้าระวัง อบถ., สถิติ, Remembrance, ปฏิทินกิจกรรม, พ.ร.บ., ข้อมูลรับแจ้งอุบัติเหตุทางถนน, ข้อมูลรับแจ้ง, อุบัติเหตุทางถนน, ทางถนน, บาดเจ็บ, เสียชีวิต, ข้อมูลสะสมปี, ศูนย์รับแจ้งเหตุ, สถานที่เกิดอุบัติเหตุ, ทศวรรษแห่งความปลอดภัยทางถนน 2554-2563, ทศวรรษแห่งความปลอดภัยทางถนน, 2554-2563, ความปลอดภัยทางถนน\" /><meta name=\"Description\" content=\"ศูนย์ข้อมูลอุบัติเหตุ เพื่อเสริมสร้างวัฒนธรรม ความปลอดภัยทางถนน ทศวรรษแห่งความปลอดภัยทางถนน 2554-2563\" /><link rel=\"shortcut icon\" type=\"image/x-icon\" href=\"images/favicon.ico\" /><title>\\r\\n\\tศูนย์ข้อมูลอุบัติเหตุ\\r\\n</title><link href=\"App_Themes/rsc_mp_dt.css\" rel=\"stylesheet\" type=\"text/css\" />\\r\\n\\r\\n    <script src=\"js/jquery-1.8.3.min.js\" type=\"text/javascript\"></script>\\r\\n\\r\\n    <style type=\"text/css\">\\r\\n        *\\r\\n        {\\r\\n            padding: 0;\\r\\n            margin: 0;\\r\\n        }\\r\\n        html, body\\r\\n        {\\r\\n            height: 100%;\\r\\n        }\\r\\n        body\\r\\n        {\\r\\n            font-family: \\'Lucida Grande\\' , Tahoma, Verdana, Arial, sans-serif;\\r\\n            font-size: 13px;\\r\\n        }\\r\\n        h1\\r\\n        {\\r\\n            color: #FF8000;\\r\\n            font-size: 16px;\\r\\n            padding: 10px 0px 10px;\\r\\n            border-bottom: 1px dashed #144865;\\r\\n            margin-bottom: 10px;\\r\\n        }\\r\\n        p\\r\\n        {\\r\\n            padding: 0 0 1em;\\r\\n        }\\r\\n        #page\\r\\n        {\\r\\n            min-height: 100%;\\r\\n            position: relative;\\r\\n        }\\r\\n        .wrapper\\r\\n        {\\r\\n            width: 980px;\\r\\n            margin: 0 auto;\\r\\n            text-align: left;\\r\\n        }\\r\\n        #header\\r\\n        {\\r\\n        }\\r\\n        div.top\\r\\n        {\\r\\n            line-height: 30px;\\r\\n            background: #16A2EB;\\r\\n            color: white;\\r\\n            font-family: \"ProximaNova\" , \"Helvetica Neue\" ,Arial,sans-serif;\\r\\n            border-top: 0px solid #484848;\\r\\n            margin-bottom: 0px;\\r\\n            border-bottom: 0px solid #333;\\r\\n        }\\r\\n        div.top .pagewidth\\r\\n        {\\r\\n            width: 980px;\\r\\n            margin: 0 auto;\\r\\n            position: relative;\\r\\n        }\\r\\n        * html #page\\r\\n        {\\r\\n            height: 100%;\\r\\n        }\\r\\n        .clear\\r\\n        {\\r\\n            clear: both;\\r\\n        }\\r\\n        #container\\r\\n        {\\r\\n            padding-bottom: 120px;\\r\\n        }\\r\\n        #footer\\r\\n        {\\r\\n            background: #16A2EB;\\r\\n            min-height: 100px;\\r\\n            position: absolute;\\r\\n            bottom: 0;\\r\\n            width: 100%;\\r\\n        }\\r\\n        #footer .wrapper\\r\\n        {\\r\\n            margin: 25px auto 10px;\\r\\n        }\\r\\n        #ft-link\\r\\n        {\\r\\n            margin-bottom: 10px;\\r\\n            display: none;\\r\\n        }\\r\\n        #footer .ft1, #footer .ft2, #footer .ft3, #footer .ft4\\r\\n        {\\r\\n            float: left;\\r\\n            width: 230px;\\r\\n            color: #fff;\\r\\n        }\\r\\n        #footer .ft2, #footer .ft3, #footer .ft4\\r\\n        {\\r\\n            margin-left: 20px;\\r\\n        }\\r\\n        #footer h4\\r\\n        {\\r\\n            margin: 0;\\r\\n            margin-bottom: 10px;\\r\\n            padding-bottom: 10px;\\r\\n            border-bottom: 1px dashed #fff;\\r\\n        }\\r\\n        .ft-box div\\r\\n        {\\r\\n            line-height: 22px;\\r\\n        }\\r\\n        #copyright\\r\\n        {\\r\\n            color: #fff;\\r\\n            padding: 10px 0 0 0;\\r\\n            border-top: 1px dashed #fff;\\r\\n            font-size: 11px;\\r\\n            font-weight: bold;\\r\\n        }\\r\\n        #copyright #cL\\r\\n        {\\r\\n            float: left;\\r\\n        }\\r\\n        #copyright #cR\\r\\n        {\\r\\n            float: right;\\r\\n        }\\r\\n    </style>\\r\\n    \\r\\n    <style type=\"text/css\">\\r\\n        /*#FirstRight\\r\\n        {\\r\\n            margin-top: 20px;\\r\\n            background: #dedede; //#766771;//#16A2EB;border-radius:4px4px00;border:1pxsolid#cecece;border-bottom:0;}\\r\\n        #FirstRight h1\\r\\n        {\\r\\n            color: #fff;\\r\\n            font-size: 16px;\\r\\n            line-height: 36px;\\r\\n            padding: 5px;\\r\\n        }\\r\\n        #FirstRight h2\\r\\n        {\\r\\n            color: #000;\\r\\n            font-size: 16px;\\r\\n            padding: 5px;\\r\\n            margin: 0;\\r\\n        }\\r\\n        #FirstRight p\\r\\n        {\\r\\n            padding: 0px 5px 5px;\\r\\n            color: #666;\\r\\n        }\\r\\n        #FirstRight p.source_by_rvp\\r\\n        {\\r\\n            margin-bottom: 0px;\\r\\n        }\\r\\n        #FirstRight span\\r\\n        {\\r\\n            color: #16A2EB;\\r\\n            text-decoration: none;\\r\\n        }\\r\\n        .s-box\\r\\n        {\\r\\n            margin: 0;\\r\\n            border: 0px solid #ddd;\\r\\n            border-top: 0;\\r\\n        }\\r\\n        table.gv-list\\r\\n        {\\r\\n            border-collapse: collapse;\\r\\n            width: 100%;\\r\\n            border-width: 0;\\r\\n            border: 1px solid #ddd;\\r\\n            border-top: 0;\\r\\n        }\\r\\n        table.gv-list td\\r\\n        {\\r\\n            padding: 7px;\\r\\n            border: 1px solid #ddd;\\r\\n            border-top: 0;\\r\\n        }\\r\\n        table.gv-list td a\\r\\n        {\\r\\n            color: #3B5998;\\r\\n            text-decoration: none;\\r\\n        }\\r\\n        table.gv-list td a:hover\\r\\n        {\\r\\n            text-decoration: underline;\\r\\n        }\\r\\n        */\\r\\n\\r\\n        .gv-list tr:last-child td {\\r\\n            padding: 7px;\\r\\n            border: 0px solid #ddd;\\r\\n            border-top: 0;\\r\\n        }\\r\\n    </style>\\r\\n</head>\\r\\n<body>\\r\\n    <div id=\"wrap\">\\r\\n        <form method=\"post\" action=\"./BigAccidentAll.aspx?l=th\" id=\"form1\">\\r\\n<input type=\"hidden\" name=\"__VIEWSTATE\" id=\"__VIEWSTATE\" value=\"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\" />\\r\\n\\r\\n<input type=\"hidden\" name=\"__VIEWSTATEGENERATOR\" id=\"__VIEWSTATEGENERATOR\" value=\"1AC41D59\" />\\r\\n<input type=\"hidden\" name=\"__EVENTVALIDATION\" id=\"__EVENTVALIDATION\" value=\"PnR1rEfOxHYHgE8ZJw053E+X8r8QKmjqyL88tUi8FWL65va0x26UUHkvrZg8e9B3XqCAXEgSVnqXYhcF/IJ1Yggd+MV9UeGCEYN5dnpMl/sACVb/sfkBYjgLcJT0xmlMOZQgHBeWR6LkGJbW5ACJsV2xxAS4hFu9/XvP5jsrBiS7lbGvzj+n8YkVy1KAqy+0T0VKp8iQ++epfOffDCBQRFVvhBgKRs32csAvpv68bBpVLtjLh8B5X3SnkwgveqI+AqEKUQJ/ECRYSeHzlMgCvrD05KgR9BkaOnEmtO4x6OufHoGylVoaGPcG2TqI2ef2\" />\\r\\n        <header id=\"header\">\\r\\n            <div class=\"wrap-in\">\\r\\n                <div class=\"clearfix\">\\r\\n                    <div id=\"logoheader\">\\r\\n                        <img alt=\"\" src=\"images/clear.gif\" class=\"toplogo\" width=\"980\" height=\"170\" />\\r\\n                    </div>\\r\\n                    <div style=\"text-align: center; padding-top: 15px; color: orange; display: none;\">\\r\\n                        <h2 style=\"font-size: 20px;\">\\r\\n                            ศูนย์ข้อมูลอุบัติเหตุ</h2>\\r\\n                        <h1 style=\"font-size: 30px; color: #444;\">\\r\\n                            Thai RSC</h1>\\r\\n                        <h2 style=\"font-size: 20px; border-bottom: 0px solid #ddd; padding-bottom: 10px;\">\\r\\n                            เพื่อเสริมสร้างวัฒนธรรมการขับขี่ปลอดภัยทางถนน</h2>\\r\\n                    </div>\\r\\n                </div>\\r\\n                <div class=\"clear\">\\r\\n                </div>\\r\\n            </div>\\r\\n            <div class=\"top\">\\r\\n                <div class=\"wrap-in\">\\r\\n                    ศูนย์ข้อมูลอุบัติเหตุ Thai Rsc :: ทศวรรษแห่งความปลอดภัยทางถนน พ.ศ. 2554 - 2563\\r\\n                </div>\\r\\n            </div>\\r\\n            <!-- / .top -->\\r\\n        </header>\\r\\n        <!-- / #header -->\\r\\n        <section id=\"section\">\\r\\n            <div class=\"wrap-in\">\\r\\n                \\r\\n    <div id=\"FirstRight\">\\r\\n        <h2>รายงานอุบัติเหตุรายใหญ่</h2>\\r\\n        <p class=\"source_by_rvp\">\\r\\n            คลิ๊กรายการเพื่ออ่านรายละเอียดเพิ่มเติม <span></span>\\r\\n        </p>\\r\\n        <span class=\"bdTip\"></span>\\r\\n        <span class=\"bdTip bdTip-bg\"></span>\\r\\n    </div>\\r\\n    <!-- End FirstLeftTitleBox-->\\r\\n    <div class=\"s-box\">\\r\\n        <div class=\"s-sum-content\" style=\"margin: 0px;\">\\r\\n            <div>\\r\\n\\t<table class=\"gv-list\" cellspacing=\"0\" rules=\"all\" border=\"1\" id=\"ContentPlaceHolder1_gv_list\">\\r\\n\\t\\t<tr>\\r\\n\\t\\t\\t<td class=\"col-hide\">1</td><td class=\"col-hide\">\\r\\n                            27/11/2561 10:40\\r\\n                        </td><td>\\r\\n                            <a class=\"text-detail\" href=\\'BigAccDetail.aspx?qid=47149&l=th\\' target=\"_blank\">\\r\\n                                อุบัติเหตุ \"รถปิคอัพ ประสานงาน รถ จยย. ดับคาที่ 2  ศพ \" ที่ เขตหนองแขม กรุงเทพฯ (เหตุเกิด วันที่ 27/11/2561 เวลาประมาณ 03.30น.)</a>\\r\\n                            <p class=\"postdate-detail\">\\r\\n                                <span class=\"order-no\">1</span><span class=\"postdate\">27/11/2561 10:40</span>\\r\\n                            </p>\\r\\n                        </td>\\r\\n\\t\\t</tr><tr>\\r\\n\\t\\t\\t<td class=\"col-hide\">2</td><td class=\"col-hide\">\\r\\n                            27/11/2561 09:55\\r\\n                        </td><td>\\r\\n                            <a class=\"text-detail\" href=\\'BigAccDetail.aspx?qid=47148&l=th\\' target=\"_blank\">\\r\\n                                อุบัติเหตุ \"รถยนต์กระบะ ชนกับ รถยนต์เก๋ง เสียชีวิต 2 ราย \" อ.สร้างคอม จ.อุดรธานี (เหตุเกิด วันที่ 26/11/2561 เวลาประมาณ 14.00น.)</a>\\r\\n                            <p class=\"postdate-detail\">\\r\\n                                <span class=\"order-no\">2</span><span class=\"postdate\">27/11/2561 09:55</span>\\r\\n                            </p>\\r\\n                        </td>\\r\\n\\t\\t</tr><tr>\\r\\n\\t\\t\\t<td class=\"col-hide\">3</td><td class=\"col-hide\">\\r\\n                            26/11/2561 22:42\\r\\n                        </td><td>\\r\\n                            <a class=\"text-detail\" href=\\'BigAccDetail.aspx?qid=47147&l=th\\' target=\"_blank\">\\r\\n                                อุบัติเหตุ \"รถจักรยานยนต์ ชนกับ รถจักรยานยนต์ เสียชีวิต 2 ราย      “ที่  อ.สูงเนิน  จ.นครราชสีมา  (เหตุเกิด วันที่ 26/11/2561 เวลา 20.00 น.)</a>\\r\\n                            <p class=\"postdate-detail\">\\r\\n                                <span class=\"order-no\">3</span><span class=\"postdate\">26/11/2561 22:42</span>\\r\\n                            </p>\\r\\n                        </td>\\r\\n\\t\\t</tr><tr>\\r\\n\\t\\t\\t<td class=\"col-hide\">4</td><td class=\"col-hide\">\\r\\n                            26/11/2561 14:21\\r\\n                        </td><td>\\r\\n                            <a class=\"text-detail\" href=\\'BigAccDetail.aspx?qid=47146&l=th\\' target=\"_blank\">\\r\\n                                อุบัติเหตุ  “รถกระบะเสียหลักหลุดขอบทาง เจ็บ 15 คน”  ที่เกิดเหตุ อ.สะเมิง จ.เชียงใหม่ (เหตุเกิดวันที่ 26-11-61  เวลาประมาณ  08.00น.)</a>\\r\\n                            <p class=\"postdate-detail\">\\r\\n                                <span class=\"order-no\">4</span><span class=\"postdate\">26/11/2561 14:21</span>\\r\\n                            </p>\\r\\n                        </td>\\r\\n\\t\\t</tr><tr>\\r\\n\\t\\t\\t<td class=\"col-hide\">5</td><td class=\"col-hide\">\\r\\n                            26/11/2561 09:38\\r\\n                        </td><td>\\r\\n                            <a class=\"text-detail\" href=\\'BigAccDetail.aspx?qid=47145&l=th\\' target=\"_blank\">\\r\\n                                อุบัติเหตุ \"รถยนต์ตู้ เสียหลักพลิกคว่ำ เจ็บ 12 คน \" ที่ อ.ประโคนชัย จ.บุรีรัมย์(เหตุเกิด วันที่ 26/11/2561 เวลาประมาณ 00.20น.)</a>\\r\\n                            <p class=\"postdate-detail\">\\r\\n                                <span class=\"order-no\">5</span><span class=\"postdate\">26/11/2561 09:38</span>\\r\\n                            </p>\\r\\n                        </td>\\r\\n\\t\\t</tr><tr>\\r\\n\\t\\t\\t<td class=\"col-hide\">6</td><td class=\"col-hide\">\\r\\n                            25/11/2561 15:30\\r\\n                        </td><td>\\r\\n                            <a class=\"text-detail\" href=\\'BigAccDetail.aspx?qid=47144&l=th\\' target=\"_blank\">\\r\\n                                อุบัติเหตุ \"รถสิบล้อ ชนกับรถกระบะ ดับ 3 เจ็บ 6 คน \" ที่ อ.แกลง จ.ระยอง (เหตุเกิด วันที่ 25/11/2561 เวลาประมาณ 10.30น.)</a>\\r\\n                            <p class=\"postdate-detail\">\\r\\n                                <span class=\"order-no\">6</span><span class=\"postdate\">25/11/2561 15:30</span>\\r\\n                            </p>\\r\\n                        </td>\\r\\n\\t\\t</tr><tr>\\r\\n\\t\\t\\t<td class=\"col-hide\">7</td><td class=\"col-hide\">\\r\\n                            24/11/2561 07:59\\r\\n                        </td><td>\\r\\n                            <a class=\"text-detail\" href=\\'BigAccDetail.aspx?qid=47143&l=th\\' target=\"_blank\">\\r\\n                                อุบัติเหตุ \"รถยนต์เก๋ง ชนกับ รถบรรทุก เสียชีวิต 4 ราย     “ที่  อ.บางละมุง  จ.ชลบุรี  (เหตุเกิด วันที่ 24/11/2561 เวลา 02.00 น.)</a>\\r\\n                            <p class=\"postdate-detail\">\\r\\n                                <span class=\"order-no\">7</span><span class=\"postdate\">24/11/2561 07:59</span>\\r\\n                            </p>\\r\\n                        </td>\\r\\n\\t\\t</tr><tr>\\r\\n\\t\\t\\t<td class=\"col-hide\">8</td><td class=\"col-hide\">\\r\\n                            23/11/2561 11:24\\r\\n                        </td><td>\\r\\n                            <a class=\"text-detail\" href=\\'BigAccDetail.aspx?qid=47142&l=th\\' target=\"_blank\">\\r\\n                                อุบัติเหตุ  “กระบะชนเสาไฟฟ้าข้างทาง  เสียชีวิต 2 ราย”  ที่เกิดเหตุ อ.ชะอำ จ.เพชรบุรี (เหตุเกิดวันที่ 23-11-60 เวลาประมาณ 03.57 น.)</a>\\r\\n                            <p class=\"postdate-detail\">\\r\\n                                <span class=\"order-no\">8</span><span class=\"postdate\">23/11/2561 11:24</span>\\r\\n                            </p>\\r\\n                        </td>\\r\\n\\t\\t</tr><tr>\\r\\n\\t\\t\\t<td class=\"col-hide\">9</td><td class=\"col-hide\">\\r\\n                            22/11/2561 13:59\\r\\n                        </td><td>\\r\\n                            <a class=\"text-detail\" href=\\'BigAccDetail.aspx?qid=47141&l=th\\' target=\"_blank\">\\r\\n                                อุบัติเหตุ \"รถยนต์บรรทุกชนกับจยย. นักกีฬาทีมชาติ เสียชีวิต 1 ราย \" เขตประเวศ จ.กรุงเทพมหานคร (เหตุเกิด วันที่ 21/11/2561 เวลาประมาณ 20.30 น.)</a>\\r\\n                            <p class=\"postdate-detail\">\\r\\n                                <span class=\"order-no\">9</span><span class=\"postdate\">22/11/2561 13:59</span>\\r\\n                            </p>\\r\\n                        </td>\\r\\n\\t\\t</tr><tr>\\r\\n\\t\\t\\t<td class=\"col-hide\">10</td><td class=\"col-hide\">\\r\\n                            21/11/2561 17:13\\r\\n                        </td><td>\\r\\n                            <a class=\"text-detail\" href=\\'BigAccDetail.aspx?qid=47140&l=th\\' target=\"_blank\">\\r\\n                                อุบัติเหตุ \"รถรับส่งนักเรียนถูกรถบรรทุกชนท้าย แล้วเสียหลักชนต้นไม้ข้างทาง เจ็บ 18 คน \" ที่ อ.เกษตรสมบูรณ์ จ.ชัยภูมิ (เหตุเกิด วันที่ 21/11/2561 เวลาประมาณ 07.45น.)</a>\\r\\n                            <p class=\"postdate-detail\">\\r\\n                                <span class=\"order-no\">10</span><span class=\"postdate\">21/11/2561 17:13</span>\\r\\n                            </p>\\r\\n                        </td>\\r\\n\\t\\t</tr><tr>\\r\\n\\t\\t\\t<td class=\"col-hide\">11</td><td class=\"col-hide\">\\r\\n                            21/11/2561 08:27\\r\\n                        </td><td>\\r\\n                            <a class=\"text-detail\" href=\\'BigAccDetail.aspx?qid=47139&l=th\\' target=\"_blank\">\\r\\n                                อุบัติเหตุ   \"   รถยนต์ส่วนบุคคลเสียหลักพลิกคว่ำ   เสียชีวิต 2 ราย \"  ที่        อ.ปากเกร็ด  จ.นนทบุรี  (เหตุเกิด วันที่    21/11/2561 เวลาประมาณ  01.10 น.)</a>\\r\\n                            <p class=\"postdate-detail\">\\r\\n                                <span class=\"order-no\">11</span><span class=\"postdate\">21/11/2561 08:27</span>\\r\\n                            </p>\\r\\n                        </td>\\r\\n\\t\\t</tr><tr>\\r\\n\\t\\t\\t<td class=\"col-hide\">12</td><td class=\"col-hide\">\\r\\n                            20/11/2561 21:20\\r\\n                        </td><td>\\r\\n                            <a class=\"text-detail\" href=\\'BigAccDetail.aspx?qid=47138&l=th\\' target=\"_blank\">\\r\\n                                อุบัติเหตุ \"รถจักรยานยนต์ ชนกับ รถพ่วง เสียชีวิต 2 ราย     “ที่  อ.เมือง จ.สระแก้ว  (เหตุเกิด วันที่ 20/11/2561 เวลา 17.20 น.)</a>\\r\\n                            <p class=\"postdate-detail\">\\r\\n                                <span class=\"order-no\">12</span><span class=\"postdate\">20/11/2561 21:20</span>\\r\\n                            </p>\\r\\n                        </td>\\r\\n\\t\\t</tr><tr>\\r\\n\\t\\t\\t<td class=\"col-hide\">13</td><td class=\"col-hide\">\\r\\n                            20/11/2561 20:30\\r\\n                        </td><td>\\r\\n                            <a class=\"text-detail\" href=\\'BigAccDetail.aspx?qid=47137&l=th\\' target=\"_blank\">\\r\\n                                อุบัติเหตุ \"รถยนต์กระบะชนต้นไม้ เสียชีวิต 1 ราย บาดเจ็บ 4 ราย     “ที่  อ.ชื่นชม จ.มหาสารคาม  (เหตุเกิด วันที่ 20/11/2561 เวลา 11.20 น.)</a>\\r\\n                            <p class=\"postdate-detail\">\\r\\n                                <span class=\"order-no\">13</span><span class=\"postdate\">20/11/2561 20:30</span>\\r\\n                            </p>\\r\\n                        </td>\\r\\n\\t\\t</tr><tr>\\r\\n\\t\\t\\t<td class=\"col-hide\">14</td><td class=\"col-hide\">\\r\\n                            20/11/2561 09:44\\r\\n                        </td><td>\\r\\n                            <a class=\"text-detail\" href=\\'BigAccDetail.aspx?qid=47136&l=th\\' target=\"_blank\">\\r\\n                                อุบัติเหตุ \"รถยนต์กระบะเสียหลักชนเสาไฟฟ้า เสียชีวิต 4 ราย “ที่ อ.ศรีราชา จ.ชลบุรี (เหตุเกิดวันที่ 20/11/2561 เวลา01.20น.)</a>\\r\\n                            <p class=\"postdate-detail\">\\r\\n                                <span class=\"order-no\">14</span><span class=\"postdate\">20/11/2561 09:44</span>\\r\\n                            </p>\\r\\n                        </td>\\r\\n\\t\\t</tr><tr>\\r\\n\\t\\t\\t<td class=\"col-hide\">15</td><td class=\"col-hide\">\\r\\n                            19/11/2561 21:36\\r\\n                        </td><td>\\r\\n                            <a class=\"text-detail\" href=\\'BigAccDetail.aspx?qid=47135&l=th\\' target=\"_blank\">\\r\\n                                อุบัติเหตุ \"รถยนต์ชนกัน 4 คัน มีผู้ได้รับบาดเจ็บ 23 ราย    “ที่  อ.กงไกรลาศ จ.สุโขทัย  (เหตุเกิด วันที่ 19/11/2561 เวลา 17.03 น.)</a>\\r\\n                            <p class=\"postdate-detail\">\\r\\n                                <span class=\"order-no\">15</span><span class=\"postdate\">19/11/2561 21:36</span>\\r\\n                            </p>\\r\\n                        </td>\\r\\n\\t\\t</tr><tr>\\r\\n\\t\\t\\t<td class=\"col-hide\">16</td><td class=\"col-hide\">\\r\\n                            19/11/2561 09:43\\r\\n                        </td><td>\\r\\n                            <a class=\"text-detail\" href=\\'BigAccDetail.aspx?qid=47134&l=th\\' target=\"_blank\">\\r\\n                                อุบัติเหตุ \"รถยนต์ตู้ เสียหลักชนต้นไม้ เสียชีวิต 1 ราย เจ็บ 5 คน \" ที่ อ.วิเชียรบุรี จ.เพชรบูรณ์ (เหตุเกิด วันที่ 19/11/2561 เวลาประมาณ 02.00น.)</a>\\r\\n                            <p class=\"postdate-detail\">\\r\\n                                <span class=\"order-no\">16</span><span class=\"postdate\">19/11/2561 09:43</span>\\r\\n                            </p>\\r\\n                        </td>\\r\\n\\t\\t</tr><tr>\\r\\n\\t\\t\\t<td class=\"col-hide\">17</td><td class=\"col-hide\">\\r\\n                            19/11/2561 08:24\\r\\n                        </td><td>\\r\\n                            <a class=\"text-detail\" href=\\'BigAccDetail.aspx?qid=47133&l=th\\' target=\"_blank\">\\r\\n                                อุบัติเหตุ  “รถยนต์กระบะ  ชนกับ รถยนต์เก๋ง เสียชีวิต 2 ราย เจ็บ 1 คน”  ที่ อ.ท่าม่วง จ.กาญจนบุรี (เหตุเกิดวันที่  18-11-61  เวลาประมาณ 23.53 น.)</a>\\r\\n                            <p class=\"postdate-detail\">\\r\\n                                <span class=\"order-no\">17</span><span class=\"postdate\">19/11/2561 08:24</span>\\r\\n                            </p>\\r\\n                        </td>\\r\\n\\t\\t</tr><tr>\\r\\n\\t\\t\\t<td class=\"col-hide\">18</td><td class=\"col-hide\">\\r\\n                            18/11/2561 09:43\\r\\n                        </td><td>\\r\\n                            <a class=\"text-detail\" href=\\'BigAccDetail.aspx?qid=47132&l=th\\' target=\"_blank\">\\r\\n                                อุบัติเหตุ \"รถยนต์กระบะ ชนกับ รถยนต์ตู้ มีผู้เสียชีวิต 2 ราย บาดเจ็บ 13 ราย     “ที่  อ.ด่านขุนทด จ.นครราชสีมา  (เหตุเกิด วันที่ 18/11/2561 เวลา 03.20 น.)</a>\\r\\n                            <p class=\"postdate-detail\">\\r\\n                                <span class=\"order-no\">18</span><span class=\"postdate\">18/11/2561 09:43</span>\\r\\n                            </p>\\r\\n                        </td>\\r\\n\\t\\t</tr><tr>\\r\\n\\t\\t\\t<td class=\"col-hide\">19</td><td class=\"col-hide\">\\r\\n                            18/11/2561 06:45\\r\\n                        </td><td>\\r\\n                            <a class=\"text-detail\" href=\\'BigAccDetail.aspx?qid=47131&l=th\\' target=\"_blank\">\\r\\n                                อุบัติเหตุ \"รถยนต์เก๋ง ชนกับ รถบรรทุกพ่วง มีผู้เสียชีวิต 2 ราย    “ที่  อ.เมือง  จ.สิงห์บุรี  (เหตุเกิด วันที่ 17/11/2561 เวลา 21.55 น.)</a>\\r\\n                            <p class=\"postdate-detail\">\\r\\n                                <span class=\"order-no\">19</span><span class=\"postdate\">18/11/2561 06:45</span>\\r\\n                            </p>\\r\\n                        </td>\\r\\n\\t\\t</tr><tr>\\r\\n\\t\\t\\t<td class=\"col-hide\">20</td><td class=\"col-hide\">\\r\\n                            17/11/2561 19:49\\r\\n                        </td><td>\\r\\n                            <a class=\"text-detail\" href=\\'BigAccDetail.aspx?qid=47130&l=th\\' target=\"_blank\">\\r\\n                                อุบัติเหตุ   \"   รถยนต์ชนกับรถกระบะและชนกับรถบรรทุกตู้คอนเทนเนอร์   เสียชีวิต 2 ราย \"  ที่    อ.บางปะหัน จ.พระนครศรีอยุธยา     (เหตุเกิด วันที่    17/11/2561 เวลาประมาณ  15.00 น.)</a>\\r\\n                            <p class=\"postdate-detail\">\\r\\n                                <span class=\"order-no\">20</span><span class=\"postdate\">17/11/2561 19:49</span>\\r\\n                            </p>\\r\\n                        </td>\\r\\n\\t\\t</tr><tr>\\r\\n\\t\\t\\t<td class=\"col-hide\">21</td><td class=\"col-hide\">\\r\\n                            17/11/2561 19:12\\r\\n                        </td><td>\\r\\n                            <a class=\"text-detail\" href=\\'BigAccDetail.aspx?qid=47129&l=th\\' target=\"_blank\">\\r\\n                                 อุบัติเหตุ   \"   รถยนต์กระบะชนกับรถยนต์กระบะ เจ็บ 4 คนเสียชีวิต 2 ราย \"  ที่       อ.น้ำโสม จ.อุดรธานี (เหตุเกิด วันที่    17/11/2561 เวลาประมาณ  14.00 น.)</a>\\r\\n                            <p class=\"postdate-detail\">\\r\\n                                <span class=\"order-no\">21</span><span class=\"postdate\">17/11/2561 19:12</span>\\r\\n                            </p>\\r\\n                        </td>\\r\\n\\t\\t</tr><tr>\\r\\n\\t\\t\\t<td class=\"col-hide\">22</td><td class=\"col-hide\">\\r\\n                            17/11/2561 12:37\\r\\n                        </td><td>\\r\\n                            <a class=\"text-detail\" href=\\'BigAccDetail.aspx?qid=47128&l=th\\' target=\"_blank\">\\r\\n                                อุบัติเหตุ \"รถยนต์โดยสารเสียหลักพลิกคว่ำ เจ็บกว่าสิบราย\"  อ.วิเชียรบุรี จ.เพชรบูรณ์ (เหตุเกิด วันที่ 17/11/2561 เวลา 01.55น.)</a>\\r\\n                            <p class=\"postdate-detail\">\\r\\n                                <span class=\"order-no\">22</span><span class=\"postdate\">17/11/2561 12:37</span>\\r\\n                            </p>\\r\\n                        </td>\\r\\n\\t\\t</tr><tr>\\r\\n\\t\\t\\t<td class=\"col-hide\">23</td><td class=\"col-hide\">\\r\\n                            16/11/2561 20:22\\r\\n                        </td><td>\\r\\n                            <a class=\"text-detail\" href=\\'BigAccDetail.aspx?qid=47127&l=th\\' target=\"_blank\">\\r\\n                                อุบัติเหตุ \"รถบรรทุกหกล้อห้องเย็นชนท้ายกับรถโดยสารสองแถว เสียชีวิต 1 ราย เจ็บ 19 คน \" ที่ อ.เมือง จ.พัทลุง (เหตุเกิด วันที่ 16/11/2561 เวลาประมาณ 06.58น.)</a>\\r\\n                            <p class=\"postdate-detail\">\\r\\n                                <span class=\"order-no\">23</span><span class=\"postdate\">16/11/2561 20:22</span>\\r\\n                            </p>\\r\\n                        </td>\\r\\n\\t\\t</tr><tr>\\r\\n\\t\\t\\t<td class=\"col-hide\">24</td><td class=\"col-hide\">\\r\\n                            16/11/2561 11:43\\r\\n                        </td><td>\\r\\n                            <a class=\"text-detail\" href=\\'BigAccDetail.aspx?qid=47126&l=th\\' target=\"_blank\">\\r\\n                                อุบัติเหตุ “รถกระบะชนรถกระบะ เสียชีวิต 1 ราย เจ็บ 6 ราย ”  ที่เกิดเหตุ อ.ศรีนคร จ.สุโขทัย (เหตุเกิดวันที่ 16-11-61  เวลาประมาณ 22.50 น.)</a>\\r\\n                            <p class=\"postdate-detail\">\\r\\n                                <span class=\"order-no\">24</span><span class=\"postdate\">16/11/2561 11:43</span>\\r\\n                            </p>\\r\\n                        </td>\\r\\n\\t\\t</tr><tr>\\r\\n\\t\\t\\t<td class=\"col-hide\">25</td><td class=\"col-hide\">\\r\\n                            15/11/2561 09:40\\r\\n                        </td><td>\\r\\n                            <a class=\"text-detail\" href=\\'BigAccDetail.aspx?qid=47125&l=th\\' target=\"_blank\">\\r\\n                                อุบัติเหตุ   \"   รถตู้โดยสารชนกับรถกระบะ เจ็บ 10 คน\"  ที่      อำเภอ วังทอง  จังหวัด พิษณุโลก (เหตุเกิด วันที่    14/11/2561 เวลาประมาณ  22.55 น.)</a>\\r\\n                            <p class=\"postdate-detail\">\\r\\n                                <span class=\"order-no\">25</span><span class=\"postdate\">15/11/2561 09:40</span>\\r\\n                            </p>\\r\\n                        </td>\\r\\n\\t\\t</tr><tr>\\r\\n\\t\\t\\t<td class=\"col-hide\">26</td><td class=\"col-hide\">\\r\\n                            14/11/2561 12:45\\r\\n                        </td><td>\\r\\n                            <a class=\"text-detail\" href=\\'BigAccDetail.aspx?qid=47124&l=th\\' target=\"_blank\">\\r\\n                                อุบัติเหตุ \"รถยนต์กระบะชนกับรถจักรยานยนต์พ่วงข้าง เสียชีวิต 3 ราย เจ็บ 1 คน \" ที่ อ.วังวิเศษ จ.ตรัง (เหตุเกิด วันที่ 13/11/2561 เวลาประมาณ 18.30น.)</a>\\r\\n                            <p class=\"postdate-detail\">\\r\\n                                <span class=\"order-no\">26</span><span class=\"postdate\">14/11/2561 12:45</span>\\r\\n                            </p>\\r\\n                        </td>\\r\\n\\t\\t</tr><tr>\\r\\n\\t\\t\\t<td class=\"col-hide\">27</td><td class=\"col-hide\">\\r\\n                            13/11/2561 19:05\\r\\n                        </td><td>\\r\\n                            <a class=\"text-detail\" href=\\'BigAccDetail.aspx?qid=47123&l=th\\' target=\"_blank\">\\r\\n                                อุบัติเหตุ \"รถยนต์กระบะ ชนกับ รถยนต์เก๋ง เสียชีวิต 3 ราย บาดเจ็บ 1 ราย   “ที่  อ.กุฉินารายณ์ จ.กาฬสินธุ์  (เหตุเกิด วันที่ 13/11/2561 เวลา 13.40 น.)</a>\\r\\n                            <p class=\"postdate-detail\">\\r\\n                                <span class=\"order-no\">27</span><span class=\"postdate\">13/11/2561 19:05</span>\\r\\n                            </p>\\r\\n                        </td>\\r\\n\\t\\t</tr><tr>\\r\\n\\t\\t\\t<td class=\"col-hide\">28</td><td class=\"col-hide\">\\r\\n                            13/11/2561 14:19\\r\\n                        </td><td>\\r\\n                            <a class=\"text-detail\" href=\\'BigAccDetail.aspx?qid=47122&l=th\\' target=\"_blank\">\\r\\n                                อุบัติเหตุ  “รถยนต์บุคคล ชน รถจักรยานยนต์  เสียชีวิต 2 ราย”  ที่ อ.ตาพระยา จ.สระแก้ว (เหตุเกิดวันที่  13-11-61  เวลาประมาณ 11.00 น.)</a>\\r\\n                            <p class=\"postdate-detail\">\\r\\n                                <span class=\"order-no\">28</span><span class=\"postdate\">13/11/2561 14:19</span>\\r\\n                            </p>\\r\\n                        </td>\\r\\n\\t\\t</tr><tr>\\r\\n\\t\\t\\t<td class=\"col-hide\">29</td><td class=\"col-hide\">\\r\\n                            13/11/2561 14:12\\r\\n                        </td><td>\\r\\n                            <a class=\"text-detail\" href=\\'BigAccDetail.aspx?qid=47121&l=th\\' target=\"_blank\">\\r\\n                                อุบัติเหตุ \"รถยนต์กระบะชนกับรถจักรยานยนต์ เสียชีวิต 2 ราย \" ที่ อ.ทุ่งสง จ.นครศรีธรรมราช (เหตุเกิด วันที่ 13/11/2561 เวลาประมาณ 07.45น.)</a>\\r\\n                            <p class=\"postdate-detail\">\\r\\n                                <span class=\"order-no\">29</span><span class=\"postdate\">13/11/2561 14:12</span>\\r\\n                            </p>\\r\\n                        </td>\\r\\n\\t\\t</tr><tr>\\r\\n\\t\\t\\t<td class=\"col-hide\">30</td><td class=\"col-hide\">\\r\\n                            13/11/2561 10:26\\r\\n                        </td><td>\\r\\n                            <a class=\"text-detail\" href=\\'BigAccDetail.aspx?qid=47120&l=th\\' target=\"_blank\">\\r\\n                                อุบัติเหตุ \"รถบรรทุกชนกับรถจักรยานยนต์ เสียชีวิต 2 ราย \" ที่ อ.ปากท่อ จ.ราชบุรี (เหตุเกิด วันที่ 13/11/2561 เวลาประมาณ 06.25น.)</a>\\r\\n                            <p class=\"postdate-detail\">\\r\\n                                <span class=\"order-no\">30</span><span class=\"postdate\">13/11/2561 10:26</span>\\r\\n                            </p>\\r\\n                        </td>\\r\\n\\t\\t</tr><tr>\\r\\n\\t\\t\\t<td colspan=\"3\"><table>\\r\\n\\t\\t\\t\\t<tr>\\r\\n\\t\\t\\t\\t\\t<td><span>1</span></td><td><a href=\"javascript:__doPostBack(&#39;ctl00$ContentPlaceHolder1$gv_list&#39;,&#39;Page$2&#39;)\">2</a></td><td><a href=\"javascript:__doPostBack(&#39;ctl00$ContentPlaceHolder1$gv_list&#39;,&#39;Page$3&#39;)\">3</a></td><td><a href=\"javascript:__doPostBack(&#39;ctl00$ContentPlaceHolder1$gv_list&#39;,&#39;Page$4&#39;)\">4</a></td><td><a href=\"javascript:__doPostBack(&#39;ctl00$ContentPlaceHolder1$gv_list&#39;,&#39;Page$5&#39;)\">5</a></td><td><a href=\"javascript:__doPostBack(&#39;ctl00$ContentPlaceHolder1$gv_list&#39;,&#39;Page$6&#39;)\">6</a></td><td><a href=\"javascript:__doPostBack(&#39;ctl00$ContentPlaceHolder1$gv_list&#39;,&#39;Page$7&#39;)\">7</a></td><td><a href=\"javascript:__doPostBack(&#39;ctl00$ContentPlaceHolder1$gv_list&#39;,&#39;Page$8&#39;)\">8</a></td><td><a href=\"javascript:__doPostBack(&#39;ctl00$ContentPlaceHolder1$gv_list&#39;,&#39;Page$9&#39;)\">9</a></td><td><a href=\"javascript:__doPostBack(&#39;ctl00$ContentPlaceHolder1$gv_list&#39;,&#39;Page$10&#39;)\">10</a></td><td><a href=\"javascript:__doPostBack(&#39;ctl00$ContentPlaceHolder1$gv_list&#39;,&#39;Page$11&#39;)\">...</a></td>\\r\\n\\t\\t\\t\\t</tr>\\r\\n\\t\\t\\t</table></td>\\r\\n\\t\\t</tr>\\r\\n\\t</table>\\r\\n</div>\\r\\n            <!-- serviceTb -->\\r\\n        </div>\\r\\n    </div>\\r\\n\\r\\n            </div>\\r\\n        </section>\\r\\n        <!-- / #header -->\\r\\n        <footer id=\"footer\" class=\" clearfix\">\\r\\n            <div class=\"wrap-in clearfix\">\\r\\n                <div>\\r\\n                    <h4 style=\"color: #fff; border: 0; margin: 0; font-size: 11px;\">\\r\\n                        ร่วมสร้างวัฒนธรรมแห่งความปลอดภัยทางถนนด้วย &nbsp;<a href=\"#\" style=\"text-decoration: none;\\r\\n                            font-size: 11px; color: #F5DA7A;\">\"บัญญัติเพื่อความปลอดภัยทางถนน\"</a></h4>\\r\\n                </div>\\r\\n                <div id=\"copyright\">\\r\\n                    <div id=\"cL\" >\\r\\n                        Thai RSC © 2012 All rights reserved.</div>\\r\\n                    <div id=\"cR\" >\\r\\n                        ทศวรรษแห่งความปลอดภัยทางถนน พ.ศ. 2554-2563\\r\\n                    </div>\\r\\n                    <div class=\"clear\">\\r\\n                    </div>\\r\\n                </div>\\r\\n            </div>\\r\\n            <!-- wrap-in -->\\r\\n        </footer>\\r\\n        <!-- / #footer -->\\r\\n        </form>\\r\\n    </div>\\r\\n    <!-- / #wrap -->\\r\\n</body>\\r\\n</html>\\r\\n'"
      ]
     },
     "execution_count": 5,
     "metadata": {},
     "output_type": "execute_result"
    }
   ],
   "source": [
    "res.text"
   ]
  },
  {
   "cell_type": "code",
   "execution_count": 6,
   "metadata": {},
   "outputs": [],
   "source": [
    "soup = b.BeautifulSoup(res.text,'html.parser')"
   ]
  },
  {
   "cell_type": "code",
   "execution_count": 7,
   "metadata": {},
   "outputs": [
    {
     "data": {
      "text/plain": [
       "<title>\n",
       "\tศูนย์ข้อมูลอุบัติเหตุ\n",
       "</title>"
      ]
     },
     "execution_count": 7,
     "metadata": {},
     "output_type": "execute_result"
    }
   ],
   "source": [
    "soup.attrs(\"class\")"
   ]
  },
  {
   "cell_type": "code",
   "execution_count": 11,
   "metadata": {},
   "outputs": [],
   "source": [
    "data = soup.findAll(attrs={'class' : 'text-detail'})"
   ]
  },
  {
   "cell_type": "code",
   "execution_count": 12,
   "metadata": {},
   "outputs": [
    {
     "data": {
      "text/plain": [
       "<a class=\"text-detail\" href=\"BigAccDetail.aspx?qid=47149&amp;l=th\" target=\"_blank\">\n",
       "                                อุบัติเหตุ \"รถปิคอัพ ประสานงาน รถ จยย. ดับคาที่ 2  ศพ \" ที่ เขตหนองแขม กรุงเทพฯ (เหตุเกิด วันที่ 27/11/2561 เวลาประมาณ 03.30น.)</a>"
      ]
     },
     "execution_count": 12,
     "metadata": {},
     "output_type": "execute_result"
    }
   ],
   "source": [
    "data [0]"
   ]
  },
  {
   "cell_type": "code",
   "execution_count": 13,
   "metadata": {},
   "outputs": [
    {
     "data": {
      "text/plain": [
       "'\\r\\n                                อุบัติเหตุ \"รถปิคอัพ ประสานงาน รถ จยย. ดับคาที่ 2  ศพ \" ที่ เขตหนองแขม กรุงเทพฯ (เหตุเกิด วันที่ 27/11/2561 เวลาประมาณ 03.30น.)'"
      ]
     },
     "execution_count": 13,
     "metadata": {},
     "output_type": "execute_result"
    }
   ],
   "source": [
    "data[0].text"
   ]
  },
  {
   "cell_type": "code",
   "execution_count": 14,
   "metadata": {},
   "outputs": [
    {
     "data": {
      "text/plain": [
       "30"
      ]
     },
     "execution_count": 14,
     "metadata": {},
     "output_type": "execute_result"
    }
   ],
   "source": [
    "len(data)"
   ]
  },
  {
   "cell_type": "code",
   "execution_count": 47,
   "metadata": {},
   "outputs": [
    {
     "name": "stdout",
     "output_type": "stream",
     "text": [
      "27\n",
      "26\n",
      "26\n",
      "26\n",
      "26\n",
      "25\n",
      "24\n",
      "23\n",
      "21\n",
      "21\n",
      "21\n",
      "20\n",
      "20\n",
      "20\n",
      "19\n",
      "19\n",
      "18\n",
      "18\n",
      "17\n",
      "17\n",
      "17\n",
      "17\n",
      "16\n",
      "16\n",
      "14\n",
      "13\n",
      "13\n",
      "13\n",
      "13\n",
      "13\n"
     ]
    }
   ],
   "source": [
    "\n",
    "date1=re.compile(r\"วันที่\\s*(\\d+)[/-](\\d+)[/-](\\d+)\")\n",
    "for i in data :\n",
    "    mdate = date1.search(i.string)\n",
    "    print(mdate.group(1))"
   ]
  },
  {
   "cell_type": "code",
   "execution_count": null,
   "metadata": {},
   "outputs": [],
   "source": [
    "date1=re.compile(r\" (\\w+)\")\n",
    "for i in data :\n",
    "    mdate = date1.search(i.string)\n",
    "    print(mdate.group(1))"
   ]
  },
  {
   "cell_type": "code",
   "execution_count": null,
   "metadata": {},
   "outputs": [],
   "source": []
  },
  {
   "cell_type": "code",
   "execution_count": null,
   "metadata": {},
   "outputs": [],
   "source": []
  },
  {
   "cell_type": "code",
   "execution_count": null,
   "metadata": {},
   "outputs": [],
   "source": []
  },
  {
   "cell_type": "code",
   "execution_count": null,
   "metadata": {},
   "outputs": [],
   "source": []
  },
  {
   "cell_type": "code",
   "execution_count": null,
   "metadata": {},
   "outputs": [],
   "source": []
  },
  {
   "cell_type": "code",
   "execution_count": null,
   "metadata": {},
   "outputs": [],
   "source": []
  },
  {
   "cell_type": "code",
   "execution_count": null,
   "metadata": {},
   "outputs": [],
   "source": []
  },
  {
   "cell_type": "code",
   "execution_count": null,
   "metadata": {},
   "outputs": [],
   "source": []
  },
  {
   "cell_type": "code",
   "execution_count": null,
   "metadata": {},
   "outputs": [],
   "source": []
  },
  {
   "cell_type": "code",
   "execution_count": null,
   "metadata": {},
   "outputs": [],
   "source": []
  },
  {
   "cell_type": "code",
   "execution_count": null,
   "metadata": {},
   "outputs": [],
   "source": []
  },
  {
   "cell_type": "code",
   "execution_count": null,
   "metadata": {},
   "outputs": [],
   "source": []
  },
  {
   "cell_type": "code",
   "execution_count": null,
   "metadata": {},
   "outputs": [],
   "source": []
  },
  {
   "cell_type": "code",
   "execution_count": null,
   "metadata": {},
   "outputs": [],
   "source": []
  },
  {
   "cell_type": "code",
   "execution_count": null,
   "metadata": {},
   "outputs": [],
   "source": []
  },
  {
   "cell_type": "code",
   "execution_count": null,
   "metadata": {},
   "outputs": [],
   "source": []
  },
  {
   "cell_type": "code",
   "execution_count": null,
   "metadata": {},
   "outputs": [],
   "source": []
  },
  {
   "cell_type": "code",
   "execution_count": null,
   "metadata": {},
   "outputs": [],
   "source": []
  },
  {
   "cell_type": "code",
   "execution_count": null,
   "metadata": {},
   "outputs": [],
   "source": []
  },
  {
   "cell_type": "code",
   "execution_count": null,
   "metadata": {},
   "outputs": [],
   "source": []
  },
  {
   "cell_type": "code",
   "execution_count": null,
   "metadata": {},
   "outputs": [],
   "source": []
  },
  {
   "cell_type": "code",
   "execution_count": 23,
   "metadata": {},
   "outputs": [
    {
     "name": "stdout",
     "output_type": "stream",
     "text": [
      "\r\n",
      "                                อุบัติเหตุ \"รถปิคอัพ ประสานงาน รถ จยย. ดับคาที่ 2  ศพ \" ที่ เขตหนองแขม กรุงเทพฯ (เหตุเกิด วันที่ 27/11/2561 เวลาประมาณ 03.30น.)\n",
      "\r\n",
      "                                อุบัติเหตุ \"รถยนต์กระบะ ชนกับ รถยนต์เก๋ง เสียชีวิต 2 ราย \" อ.สร้างคอม จ.อุดรธานี (เหตุเกิด วันที่ 26/11/2561 เวลาประมาณ 14.00น.)\n",
      "\r\n",
      "                                อุบัติเหตุ \"รถจักรยานยนต์ ชนกับ รถจักรยานยนต์ เสียชีวิต 2 ราย      “ที่  อ.สูงเนิน  จ.นครราชสีมา  (เหตุเกิด วันที่ 26/11/2561 เวลา 20.00 น.)\n",
      "\r\n",
      "                                อุบัติเหตุ  “รถกระบะเสียหลักหลุดขอบทาง เจ็บ 15 คน”  ที่เกิดเหตุ อ.สะเมิง จ.เชียงใหม่ (เหตุเกิดวันที่ 26-11-61  เวลาประมาณ  08.00น.)\n",
      "\r\n",
      "                                อุบัติเหตุ \"รถยนต์ตู้ เสียหลักพลิกคว่ำ เจ็บ 12 คน \" ที่ อ.ประโคนชัย จ.บุรีรัมย์(เหตุเกิด วันที่ 26/11/2561 เวลาประมาณ 00.20น.)\n",
      "\r\n",
      "                                อุบัติเหตุ \"รถสิบล้อ ชนกับรถกระบะ ดับ 3 เจ็บ 6 คน \" ที่ อ.แกลง จ.ระยอง (เหตุเกิด วันที่ 25/11/2561 เวลาประมาณ 10.30น.)\n",
      "\r\n",
      "                                อุบัติเหตุ \"รถยนต์เก๋ง ชนกับ รถบรรทุก เสียชีวิต 4 ราย     “ที่  อ.บางละมุง  จ.ชลบุรี  (เหตุเกิด วันที่ 24/11/2561 เวลา 02.00 น.)\n",
      "\r\n",
      "                                อุบัติเหตุ  “กระบะชนเสาไฟฟ้าข้างทาง  เสียชีวิต 2 ราย”  ที่เกิดเหตุ อ.ชะอำ จ.เพชรบุรี (เหตุเกิดวันที่ 23-11-60 เวลาประมาณ 03.57 น.)\n",
      "\r\n",
      "                                อุบัติเหตุ \"รถยนต์บรรทุกชนกับจยย. นักกีฬาทีมชาติ เสียชีวิต 1 ราย \" เขตประเวศ จ.กรุงเทพมหานคร (เหตุเกิด วันที่ 21/11/2561 เวลาประมาณ 20.30 น.)\n",
      "\r\n",
      "                                อุบัติเหตุ \"รถรับส่งนักเรียนถูกรถบรรทุกชนท้าย แล้วเสียหลักชนต้นไม้ข้างทาง เจ็บ 18 คน \" ที่ อ.เกษตรสมบูรณ์ จ.ชัยภูมิ (เหตุเกิด วันที่ 21/11/2561 เวลาประมาณ 07.45น.)\n",
      "\r\n",
      "                                อุบัติเหตุ   \"   รถยนต์ส่วนบุคคลเสียหลักพลิกคว่ำ   เสียชีวิต 2 ราย \"  ที่        อ.ปากเกร็ด  จ.นนทบุรี  (เหตุเกิด วันที่    21/11/2561 เวลาประมาณ  01.10 น.)\n",
      "\r\n",
      "                                อุบัติเหตุ \"รถจักรยานยนต์ ชนกับ รถพ่วง เสียชีวิต 2 ราย     “ที่  อ.เมือง จ.สระแก้ว  (เหตุเกิด วันที่ 20/11/2561 เวลา 17.20 น.)\n",
      "\r\n",
      "                                อุบัติเหตุ \"รถยนต์กระบะชนต้นไม้ เสียชีวิต 1 ราย บาดเจ็บ 4 ราย     “ที่  อ.ชื่นชม จ.มหาสารคาม  (เหตุเกิด วันที่ 20/11/2561 เวลา 11.20 น.)\n",
      "\r\n",
      "                                อุบัติเหตุ \"รถยนต์กระบะเสียหลักชนเสาไฟฟ้า เสียชีวิต 4 ราย “ที่ อ.ศรีราชา จ.ชลบุรี (เหตุเกิดวันที่ 20/11/2561 เวลา01.20น.)\n",
      "\r\n",
      "                                อุบัติเหตุ \"รถยนต์ชนกัน 4 คัน มีผู้ได้รับบาดเจ็บ 23 ราย    “ที่  อ.กงไกรลาศ จ.สุโขทัย  (เหตุเกิด วันที่ 19/11/2561 เวลา 17.03 น.)\n",
      "\r\n",
      "                                อุบัติเหตุ \"รถยนต์ตู้ เสียหลักชนต้นไม้ เสียชีวิต 1 ราย เจ็บ 5 คน \" ที่ อ.วิเชียรบุรี จ.เพชรบูรณ์ (เหตุเกิด วันที่ 19/11/2561 เวลาประมาณ 02.00น.)\n",
      "\r\n",
      "                                อุบัติเหตุ  “รถยนต์กระบะ  ชนกับ รถยนต์เก๋ง เสียชีวิต 2 ราย เจ็บ 1 คน”  ที่ อ.ท่าม่วง จ.กาญจนบุรี (เหตุเกิดวันที่  18-11-61  เวลาประมาณ 23.53 น.)\n",
      "\r\n",
      "                                อุบัติเหตุ \"รถยนต์กระบะ ชนกับ รถยนต์ตู้ มีผู้เสียชีวิต 2 ราย บาดเจ็บ 13 ราย     “ที่  อ.ด่านขุนทด จ.นครราชสีมา  (เหตุเกิด วันที่ 18/11/2561 เวลา 03.20 น.)\n",
      "\r\n",
      "                                อุบัติเหตุ \"รถยนต์เก๋ง ชนกับ รถบรรทุกพ่วง มีผู้เสียชีวิต 2 ราย    “ที่  อ.เมือง  จ.สิงห์บุรี  (เหตุเกิด วันที่ 17/11/2561 เวลา 21.55 น.)\n",
      "\r\n",
      "                                อุบัติเหตุ   \"   รถยนต์ชนกับรถกระบะและชนกับรถบรรทุกตู้คอนเทนเนอร์   เสียชีวิต 2 ราย \"  ที่    อ.บางปะหัน จ.พระนครศรีอยุธยา     (เหตุเกิด วันที่    17/11/2561 เวลาประมาณ  15.00 น.)\n",
      "\r\n",
      "                                 อุบัติเหตุ   \"   รถยนต์กระบะชนกับรถยนต์กระบะ เจ็บ 4 คนเสียชีวิต 2 ราย \"  ที่       อ.น้ำโสม จ.อุดรธานี (เหตุเกิด วันที่    17/11/2561 เวลาประมาณ  14.00 น.)\n",
      "\r\n",
      "                                อุบัติเหตุ \"รถยนต์โดยสารเสียหลักพลิกคว่ำ เจ็บกว่าสิบราย\"  อ.วิเชียรบุรี จ.เพชรบูรณ์ (เหตุเกิด วันที่ 17/11/2561 เวลา 01.55น.)\n",
      "\r\n",
      "                                อุบัติเหตุ \"รถบรรทุกหกล้อห้องเย็นชนท้ายกับรถโดยสารสองแถว เสียชีวิต 1 ราย เจ็บ 19 คน \" ที่ อ.เมือง จ.พัทลุง (เหตุเกิด วันที่ 16/11/2561 เวลาประมาณ 06.58น.)\n",
      "\r\n",
      "                                อุบัติเหตุ “รถกระบะชนรถกระบะ เสียชีวิต 1 ราย เจ็บ 6 ราย ”  ที่เกิดเหตุ อ.ศรีนคร จ.สุโขทัย (เหตุเกิดวันที่ 16-11-61  เวลาประมาณ 22.50 น.)\n",
      "\r\n",
      "                                อุบัติเหตุ   \"   รถตู้โดยสารชนกับรถกระบะ เจ็บ 10 คน\"  ที่      อำเภอ วังทอง  จังหวัด พิษณุโลก (เหตุเกิด วันที่    14/11/2561 เวลาประมาณ  22.55 น.)\n",
      "\r\n",
      "                                อุบัติเหตุ \"รถยนต์กระบะชนกับรถจักรยานยนต์พ่วงข้าง เสียชีวิต 3 ราย เจ็บ 1 คน \" ที่ อ.วังวิเศษ จ.ตรัง (เหตุเกิด วันที่ 13/11/2561 เวลาประมาณ 18.30น.)\n",
      "\r\n",
      "                                อุบัติเหตุ \"รถยนต์กระบะ ชนกับ รถยนต์เก๋ง เสียชีวิต 3 ราย บาดเจ็บ 1 ราย   “ที่  อ.กุฉินารายณ์ จ.กาฬสินธุ์  (เหตุเกิด วันที่ 13/11/2561 เวลา 13.40 น.)\n",
      "\r\n",
      "                                อุบัติเหตุ  “รถยนต์บุคคล ชน รถจักรยานยนต์  เสียชีวิต 2 ราย”  ที่ อ.ตาพระยา จ.สระแก้ว (เหตุเกิดวันที่  13-11-61  เวลาประมาณ 11.00 น.)\n",
      "\r\n",
      "                                อุบัติเหตุ \"รถยนต์กระบะชนกับรถจักรยานยนต์ เสียชีวิต 2 ราย \" ที่ อ.ทุ่งสง จ.นครศรีธรรมราช (เหตุเกิด วันที่ 13/11/2561 เวลาประมาณ 07.45น.)\n",
      "\r\n",
      "                                อุบัติเหตุ \"รถบรรทุกชนกับรถจักรยานยนต์ เสียชีวิต 2 ราย \" ที่ อ.ปากท่อ จ.ราชบุรี (เหตุเกิด วันที่ 13/11/2561 เวลาประมาณ 06.25น.)\n"
     ]
    }
   ],
   "source": [
    "for i in data :\n",
    "    \n",
    "    print(i.text)"
   ]
  },
  {
   "cell_type": "code",
   "execution_count": null,
   "metadata": {},
   "outputs": [],
   "source": []
  },
  {
   "cell_type": "code",
   "execution_count": null,
   "metadata": {},
   "outputs": [],
   "source": []
  },
  {
   "cell_type": "code",
   "execution_count": null,
   "metadata": {},
   "outputs": [],
   "source": []
  },
  {
   "cell_type": "code",
   "execution_count": 17,
   "metadata": {},
   "outputs": [],
   "source": []
  },
  {
   "cell_type": "code",
   "execution_count": null,
   "metadata": {},
   "outputs": [],
   "source": []
  },
  {
   "cell_type": "markdown",
   "metadata": {},
   "source": [
    "## Extract the data using RegEx"
   ]
  },
  {
   "cell_type": "markdown",
   "metadata": {},
   "source": [
    "#### Step 6 Extract the data"
   ]
  },
  {
   "cell_type": "code",
   "execution_count": 48,
   "metadata": {},
   "outputs": [],
   "source": [
    "#1.1 Pattern ข้อความแจ้งอุบัติเหตุ\n",
    "re_text = re.compile(r\"อุบัติเหตุ\\s*[\\\"“]*([\\s\\w\\-\\.ก-๙]+)[\\\"”]*\")\n",
    "\n",
    "#1.2 Pattern วันที่เกิดอุบัติเหตุ\n",
    "re_date = re.compile(r\"วันที่\\s*(\\d+)[/-](\\d+)[/-](\\d+)\")\n",
    "\n",
    "#1.3 Pattern เวลาเกิดเหตุ\n",
    "re_time = re.compile(r\"(เวลา|เวลาประมาณ)\\s*(\\d+\\.\\d+)\\s*\")\n",
    "\n",
    "#1.4 Pattern สถานที่เกิดเหตุ (อำเภอ และ จังหวัด)\n",
    "re_addr = re.compile(r\"(อ\\.|อำเภอ|เขต)\\s*([ก-๙]+)\\s*(จ\\.|จังหวัด)\\s*([ก-๙]+)\")\n"
   ]
  },
  {
   "cell_type": "code",
   "execution_count": null,
   "metadata": {},
   "outputs": [],
   "source": []
  },
  {
   "cell_type": "code",
   "execution_count": 51,
   "metadata": {},
   "outputs": [],
   "source": [
    "acc_day=[]\n",
    "acc_month=[]\n",
    "acc_year=[]\n",
    "acc_time=[]\n",
    "acc_addr1=[]\n",
    "acc_addr2=[]\n",
    "acc_text=[]\n",
    "\n",
    "for i in range(1,len(data)):\n",
    "    ## Date\n",
    "    mdate = re_date.search(data[i].string)\n",
    "    acc_day.append(mdate.group(1))\n",
    "    acc_month.append(mdate.group(2))\n",
    "    acc_year.append(mdate.group(3))\n",
    "    \n",
    "    ## Time\n",
    "    mtime = re_time.search(data[i].string)\n",
    "    acc_time.append(mtime.group(2))\n",
    "    \n",
    "   ## Accident Address\n",
    "    maddr = re_addr.search(data[i].string)\n",
    "    acc_addr1.append(maddr.group(2))\n",
    "    acc_addr2.append(maddr.group(4))\n",
    "    \n",
    "    ## Accident message\n",
    "    mtext = re_text.search(data[i].string)\n",
    "    acc_text.append(mtext.group(1))"
   ]
  },
  {
   "cell_type": "code",
   "execution_count": 55,
   "metadata": {},
   "outputs": [
    {
     "name": "stdout",
     "output_type": "stream",
     "text": [
      "['26', '26', '26', '26', '25']\n"
     ]
    }
   ],
   "source": [
    "print (acc_day[0:5])"
   ]
  },
  {
   "cell_type": "code",
   "execution_count": 58,
   "metadata": {},
   "outputs": [],
   "source": [
    "acc_data = {\n",
    "        'acc_text':     acc_text , \n",
    "        'acc_day':     acc_day , \n",
    "        'acc_month': acc_month , \n",
    "        'acc_year':    acc_year, \n",
    "        'acc_time':    acc_time, \n",
    "        'acc_add1':   acc_addr1, \n",
    "        'acc_add2':   acc_addr2\n",
    "}\n",
    "\n",
    "df = pd.DataFrame(acc_data)\n"
   ]
  },
  {
   "cell_type": "code",
   "execution_count": 59,
   "metadata": {},
   "outputs": [
    {
     "data": {
      "text/html": [
       "<div>\n",
       "<style scoped>\n",
       "    .dataframe tbody tr th:only-of-type {\n",
       "        vertical-align: middle;\n",
       "    }\n",
       "\n",
       "    .dataframe tbody tr th {\n",
       "        vertical-align: top;\n",
       "    }\n",
       "\n",
       "    .dataframe thead th {\n",
       "        text-align: right;\n",
       "    }\n",
       "</style>\n",
       "<table border=\"1\" class=\"dataframe\">\n",
       "  <thead>\n",
       "    <tr style=\"text-align: right;\">\n",
       "      <th></th>\n",
       "      <th>acc_text</th>\n",
       "      <th>acc_day</th>\n",
       "      <th>acc_month</th>\n",
       "      <th>acc_year</th>\n",
       "      <th>acc_time</th>\n",
       "      <th>acc_add1</th>\n",
       "      <th>acc_add2</th>\n",
       "    </tr>\n",
       "  </thead>\n",
       "  <tbody>\n",
       "    <tr>\n",
       "      <th>0</th>\n",
       "      <td>รถยนต์กระบะ ชนกับ รถยนต์เก๋ง เสียชีวิต 2 ราย</td>\n",
       "      <td>26</td>\n",
       "      <td>11</td>\n",
       "      <td>2561</td>\n",
       "      <td>14.00</td>\n",
       "      <td>สร้างคอม</td>\n",
       "      <td>อุดรธานี</td>\n",
       "    </tr>\n",
       "    <tr>\n",
       "      <th>1</th>\n",
       "      <td>รถจักรยานยนต์ ชนกับ รถจักรยานยนต์ เสียชีวิต 2 ...</td>\n",
       "      <td>26</td>\n",
       "      <td>11</td>\n",
       "      <td>2561</td>\n",
       "      <td>20.00</td>\n",
       "      <td>สูงเนิน</td>\n",
       "      <td>นครราชสีมา</td>\n",
       "    </tr>\n",
       "    <tr>\n",
       "      <th>2</th>\n",
       "      <td>รถกระบะเสียหลักหลุดขอบทาง เจ็บ 15 คน</td>\n",
       "      <td>26</td>\n",
       "      <td>11</td>\n",
       "      <td>61</td>\n",
       "      <td>08.00</td>\n",
       "      <td>สะเมิง</td>\n",
       "      <td>เชียงใหม่</td>\n",
       "    </tr>\n",
       "    <tr>\n",
       "      <th>3</th>\n",
       "      <td>รถยนต์ตู้ เสียหลักพลิกคว่ำ เจ็บ 12 คน</td>\n",
       "      <td>26</td>\n",
       "      <td>11</td>\n",
       "      <td>2561</td>\n",
       "      <td>00.20</td>\n",
       "      <td>ประโคนชัย</td>\n",
       "      <td>บุรีรัมย์</td>\n",
       "    </tr>\n",
       "    <tr>\n",
       "      <th>4</th>\n",
       "      <td>รถสิบล้อ ชนกับรถกระบะ ดับ 3 เจ็บ 6 คน</td>\n",
       "      <td>25</td>\n",
       "      <td>11</td>\n",
       "      <td>2561</td>\n",
       "      <td>10.30</td>\n",
       "      <td>แกลง</td>\n",
       "      <td>ระยอง</td>\n",
       "    </tr>\n",
       "    <tr>\n",
       "      <th>5</th>\n",
       "      <td>รถยนต์เก๋ง ชนกับ รถบรรทุก เสียชีวิต 4 ราย</td>\n",
       "      <td>24</td>\n",
       "      <td>11</td>\n",
       "      <td>2561</td>\n",
       "      <td>02.00</td>\n",
       "      <td>บางละมุง</td>\n",
       "      <td>ชลบุรี</td>\n",
       "    </tr>\n",
       "    <tr>\n",
       "      <th>6</th>\n",
       "      <td>กระบะชนเสาไฟฟ้าข้างทาง  เสียชีวิต 2 ราย</td>\n",
       "      <td>23</td>\n",
       "      <td>11</td>\n",
       "      <td>60</td>\n",
       "      <td>03.57</td>\n",
       "      <td>ชะอำ</td>\n",
       "      <td>เพชรบุรี</td>\n",
       "    </tr>\n",
       "    <tr>\n",
       "      <th>7</th>\n",
       "      <td>รถยนต์บรรทุกชนกับจยย. นักกีฬาทีมชาติ เสียชีวิต...</td>\n",
       "      <td>21</td>\n",
       "      <td>11</td>\n",
       "      <td>2561</td>\n",
       "      <td>20.30</td>\n",
       "      <td>ประเวศ</td>\n",
       "      <td>กรุงเทพมหานคร</td>\n",
       "    </tr>\n",
       "    <tr>\n",
       "      <th>8</th>\n",
       "      <td>รถรับส่งนักเรียนถูกรถบรรทุกชนท้าย แล้วเสียหลัก...</td>\n",
       "      <td>21</td>\n",
       "      <td>11</td>\n",
       "      <td>2561</td>\n",
       "      <td>07.45</td>\n",
       "      <td>เกษตรสมบูรณ์</td>\n",
       "      <td>ชัยภูมิ</td>\n",
       "    </tr>\n",
       "    <tr>\n",
       "      <th>9</th>\n",
       "      <td>รถยนต์ส่วนบุคคลเสียหลักพลิกคว่ำ   เสียชีวิต...</td>\n",
       "      <td>21</td>\n",
       "      <td>11</td>\n",
       "      <td>2561</td>\n",
       "      <td>01.10</td>\n",
       "      <td>ปากเกร็ด</td>\n",
       "      <td>นนทบุรี</td>\n",
       "    </tr>\n",
       "    <tr>\n",
       "      <th>10</th>\n",
       "      <td>รถจักรยานยนต์ ชนกับ รถพ่วง เสียชีวิต 2 ราย</td>\n",
       "      <td>20</td>\n",
       "      <td>11</td>\n",
       "      <td>2561</td>\n",
       "      <td>17.20</td>\n",
       "      <td>เมือง</td>\n",
       "      <td>สระแก้ว</td>\n",
       "    </tr>\n",
       "    <tr>\n",
       "      <th>11</th>\n",
       "      <td>รถยนต์กระบะชนต้นไม้ เสียชีวิต 1 ราย บาดเจ็บ 4 ...</td>\n",
       "      <td>20</td>\n",
       "      <td>11</td>\n",
       "      <td>2561</td>\n",
       "      <td>11.20</td>\n",
       "      <td>ชื่นชม</td>\n",
       "      <td>มหาสารคาม</td>\n",
       "    </tr>\n",
       "    <tr>\n",
       "      <th>12</th>\n",
       "      <td>รถยนต์กระบะเสียหลักชนเสาไฟฟ้า เสียชีวิต 4 ราย</td>\n",
       "      <td>20</td>\n",
       "      <td>11</td>\n",
       "      <td>2561</td>\n",
       "      <td>01.20</td>\n",
       "      <td>ศรีราชา</td>\n",
       "      <td>ชลบุรี</td>\n",
       "    </tr>\n",
       "    <tr>\n",
       "      <th>13</th>\n",
       "      <td>รถยนต์ชนกัน 4 คัน มีผู้ได้รับบาดเจ็บ 23 ราย</td>\n",
       "      <td>19</td>\n",
       "      <td>11</td>\n",
       "      <td>2561</td>\n",
       "      <td>17.03</td>\n",
       "      <td>กงไกรลาศ</td>\n",
       "      <td>สุโขทัย</td>\n",
       "    </tr>\n",
       "    <tr>\n",
       "      <th>14</th>\n",
       "      <td>รถยนต์ตู้ เสียหลักชนต้นไม้ เสียชีวิต 1 ราย เจ็...</td>\n",
       "      <td>19</td>\n",
       "      <td>11</td>\n",
       "      <td>2561</td>\n",
       "      <td>02.00</td>\n",
       "      <td>วิเชียรบุรี</td>\n",
       "      <td>เพชรบูรณ์</td>\n",
       "    </tr>\n",
       "    <tr>\n",
       "      <th>15</th>\n",
       "      <td>รถยนต์กระบะ  ชนกับ รถยนต์เก๋ง เสียชีวิต 2 ราย ...</td>\n",
       "      <td>18</td>\n",
       "      <td>11</td>\n",
       "      <td>61</td>\n",
       "      <td>23.53</td>\n",
       "      <td>ท่าม่วง</td>\n",
       "      <td>กาญจนบุรี</td>\n",
       "    </tr>\n",
       "    <tr>\n",
       "      <th>16</th>\n",
       "      <td>รถยนต์กระบะ ชนกับ รถยนต์ตู้ มีผู้เสียชีวิต 2 ร...</td>\n",
       "      <td>18</td>\n",
       "      <td>11</td>\n",
       "      <td>2561</td>\n",
       "      <td>03.20</td>\n",
       "      <td>ด่านขุนทด</td>\n",
       "      <td>นครราชสีมา</td>\n",
       "    </tr>\n",
       "    <tr>\n",
       "      <th>17</th>\n",
       "      <td>รถยนต์เก๋ง ชนกับ รถบรรทุกพ่วง มีผู้เสียชีวิต 2...</td>\n",
       "      <td>17</td>\n",
       "      <td>11</td>\n",
       "      <td>2561</td>\n",
       "      <td>21.55</td>\n",
       "      <td>เมือง</td>\n",
       "      <td>สิงห์บุรี</td>\n",
       "    </tr>\n",
       "    <tr>\n",
       "      <th>18</th>\n",
       "      <td>รถยนต์ชนกับรถกระบะและชนกับรถบรรทุกตู้คอนเทน...</td>\n",
       "      <td>17</td>\n",
       "      <td>11</td>\n",
       "      <td>2561</td>\n",
       "      <td>15.00</td>\n",
       "      <td>บางปะหัน</td>\n",
       "      <td>พระนครศรีอยุธยา</td>\n",
       "    </tr>\n",
       "    <tr>\n",
       "      <th>19</th>\n",
       "      <td>รถยนต์กระบะชนกับรถยนต์กระบะ เจ็บ 4 คนเสียชี...</td>\n",
       "      <td>17</td>\n",
       "      <td>11</td>\n",
       "      <td>2561</td>\n",
       "      <td>14.00</td>\n",
       "      <td>น้ำโสม</td>\n",
       "      <td>อุดรธานี</td>\n",
       "    </tr>\n",
       "    <tr>\n",
       "      <th>20</th>\n",
       "      <td>รถยนต์โดยสารเสียหลักพลิกคว่ำ เจ็บกว่าสิบราย</td>\n",
       "      <td>17</td>\n",
       "      <td>11</td>\n",
       "      <td>2561</td>\n",
       "      <td>01.55</td>\n",
       "      <td>วิเชียรบุรี</td>\n",
       "      <td>เพชรบูรณ์</td>\n",
       "    </tr>\n",
       "    <tr>\n",
       "      <th>21</th>\n",
       "      <td>รถบรรทุกหกล้อห้องเย็นชนท้ายกับรถโดยสารสองแถว เ...</td>\n",
       "      <td>16</td>\n",
       "      <td>11</td>\n",
       "      <td>2561</td>\n",
       "      <td>06.58</td>\n",
       "      <td>เมือง</td>\n",
       "      <td>พัทลุง</td>\n",
       "    </tr>\n",
       "    <tr>\n",
       "      <th>22</th>\n",
       "      <td>รถกระบะชนรถกระบะ เสียชีวิต 1 ราย เจ็บ 6 ราย</td>\n",
       "      <td>16</td>\n",
       "      <td>11</td>\n",
       "      <td>61</td>\n",
       "      <td>22.50</td>\n",
       "      <td>ศรีนคร</td>\n",
       "      <td>สุโขทัย</td>\n",
       "    </tr>\n",
       "    <tr>\n",
       "      <th>23</th>\n",
       "      <td>รถตู้โดยสารชนกับรถกระบะ เจ็บ 10 คน</td>\n",
       "      <td>14</td>\n",
       "      <td>11</td>\n",
       "      <td>2561</td>\n",
       "      <td>22.55</td>\n",
       "      <td>วังทอง</td>\n",
       "      <td>พิษณุโลก</td>\n",
       "    </tr>\n",
       "    <tr>\n",
       "      <th>24</th>\n",
       "      <td>รถยนต์กระบะชนกับรถจักรยานยนต์พ่วงข้าง เสียชีวิ...</td>\n",
       "      <td>13</td>\n",
       "      <td>11</td>\n",
       "      <td>2561</td>\n",
       "      <td>18.30</td>\n",
       "      <td>วังวิเศษ</td>\n",
       "      <td>ตรัง</td>\n",
       "    </tr>\n",
       "    <tr>\n",
       "      <th>25</th>\n",
       "      <td>รถยนต์กระบะ ชนกับ รถยนต์เก๋ง เสียชีวิต 3 ราย บ...</td>\n",
       "      <td>13</td>\n",
       "      <td>11</td>\n",
       "      <td>2561</td>\n",
       "      <td>13.40</td>\n",
       "      <td>กุฉินารายณ์</td>\n",
       "      <td>กาฬสินธุ์</td>\n",
       "    </tr>\n",
       "    <tr>\n",
       "      <th>26</th>\n",
       "      <td>รถยนต์บุคคล ชน รถจักรยานยนต์  เสียชีวิต 2 ราย</td>\n",
       "      <td>13</td>\n",
       "      <td>11</td>\n",
       "      <td>61</td>\n",
       "      <td>11.00</td>\n",
       "      <td>ตาพระยา</td>\n",
       "      <td>สระแก้ว</td>\n",
       "    </tr>\n",
       "    <tr>\n",
       "      <th>27</th>\n",
       "      <td>รถยนต์กระบะชนกับรถจักรยานยนต์ เสียชีวิต 2 ราย</td>\n",
       "      <td>13</td>\n",
       "      <td>11</td>\n",
       "      <td>2561</td>\n",
       "      <td>07.45</td>\n",
       "      <td>ทุ่งสง</td>\n",
       "      <td>นครศรีธรรมราช</td>\n",
       "    </tr>\n",
       "    <tr>\n",
       "      <th>28</th>\n",
       "      <td>รถบรรทุกชนกับรถจักรยานยนต์ เสียชีวิต 2 ราย</td>\n",
       "      <td>13</td>\n",
       "      <td>11</td>\n",
       "      <td>2561</td>\n",
       "      <td>06.25</td>\n",
       "      <td>ปากท่อ</td>\n",
       "      <td>ราชบุรี</td>\n",
       "    </tr>\n",
       "  </tbody>\n",
       "</table>\n",
       "</div>"
      ],
      "text/plain": [
       "                                             acc_text acc_day acc_month  \\\n",
       "0       รถยนต์กระบะ ชนกับ รถยนต์เก๋ง เสียชีวิต 2 ราย       26        11   \n",
       "1   รถจักรยานยนต์ ชนกับ รถจักรยานยนต์ เสียชีวิต 2 ...      26        11   \n",
       "2                รถกระบะเสียหลักหลุดขอบทาง เจ็บ 15 คน      26        11   \n",
       "3              รถยนต์ตู้ เสียหลักพลิกคว่ำ เจ็บ 12 คน       26        11   \n",
       "4              รถสิบล้อ ชนกับรถกระบะ ดับ 3 เจ็บ 6 คน       25        11   \n",
       "5      รถยนต์เก๋ง ชนกับ รถบรรทุก เสียชีวิต 4 ราย           24        11   \n",
       "6             กระบะชนเสาไฟฟ้าข้างทาง  เสียชีวิต 2 ราย      23        11   \n",
       "7   รถยนต์บรรทุกชนกับจยย. นักกีฬาทีมชาติ เสียชีวิต...      21        11   \n",
       "8   รถรับส่งนักเรียนถูกรถบรรทุกชนท้าย แล้วเสียหลัก...      21        11   \n",
       "9      รถยนต์ส่วนบุคคลเสียหลักพลิกคว่ำ   เสียชีวิต...      21        11   \n",
       "10    รถจักรยานยนต์ ชนกับ รถพ่วง เสียชีวิต 2 ราย           20        11   \n",
       "11  รถยนต์กระบะชนต้นไม้ เสียชีวิต 1 ราย บาดเจ็บ 4 ...      20        11   \n",
       "12     รถยนต์กระบะเสียหลักชนเสาไฟฟ้า เสียชีวิต 4 ราย       20        11   \n",
       "13    รถยนต์ชนกัน 4 คัน มีผู้ได้รับบาดเจ็บ 23 ราย          19        11   \n",
       "14  รถยนต์ตู้ เสียหลักชนต้นไม้ เสียชีวิต 1 ราย เจ็...      19        11   \n",
       "15  รถยนต์กระบะ  ชนกับ รถยนต์เก๋ง เสียชีวิต 2 ราย ...      18        11   \n",
       "16  รถยนต์กระบะ ชนกับ รถยนต์ตู้ มีผู้เสียชีวิต 2 ร...      18        11   \n",
       "17  รถยนต์เก๋ง ชนกับ รถบรรทุกพ่วง มีผู้เสียชีวิต 2...      17        11   \n",
       "18     รถยนต์ชนกับรถกระบะและชนกับรถบรรทุกตู้คอนเทน...      17        11   \n",
       "19     รถยนต์กระบะชนกับรถยนต์กระบะ เจ็บ 4 คนเสียชี...      17        11   \n",
       "20        รถยนต์โดยสารเสียหลักพลิกคว่ำ เจ็บกว่าสิบราย      17        11   \n",
       "21  รถบรรทุกหกล้อห้องเย็นชนท้ายกับรถโดยสารสองแถว เ...      16        11   \n",
       "22       รถกระบะชนรถกระบะ เสียชีวิต 1 ราย เจ็บ 6 ราย       16        11   \n",
       "23                 รถตู้โดยสารชนกับรถกระบะ เจ็บ 10 คน      14        11   \n",
       "24  รถยนต์กระบะชนกับรถจักรยานยนต์พ่วงข้าง เสียชีวิ...      13        11   \n",
       "25  รถยนต์กระบะ ชนกับ รถยนต์เก๋ง เสียชีวิต 3 ราย บ...      13        11   \n",
       "26      รถยนต์บุคคล ชน รถจักรยานยนต์  เสียชีวิต 2 ราย      13        11   \n",
       "27     รถยนต์กระบะชนกับรถจักรยานยนต์ เสียชีวิต 2 ราย       13        11   \n",
       "28        รถบรรทุกชนกับรถจักรยานยนต์ เสียชีวิต 2 ราย       13        11   \n",
       "\n",
       "   acc_year acc_time      acc_add1         acc_add2  \n",
       "0      2561    14.00      สร้างคอม         อุดรธานี  \n",
       "1      2561    20.00       สูงเนิน       นครราชสีมา  \n",
       "2        61    08.00        สะเมิง        เชียงใหม่  \n",
       "3      2561    00.20     ประโคนชัย        บุรีรัมย์  \n",
       "4      2561    10.30          แกลง            ระยอง  \n",
       "5      2561    02.00      บางละมุง           ชลบุรี  \n",
       "6        60    03.57          ชะอำ         เพชรบุรี  \n",
       "7      2561    20.30        ประเวศ    กรุงเทพมหานคร  \n",
       "8      2561    07.45  เกษตรสมบูรณ์          ชัยภูมิ  \n",
       "9      2561    01.10      ปากเกร็ด          นนทบุรี  \n",
       "10     2561    17.20         เมือง          สระแก้ว  \n",
       "11     2561    11.20        ชื่นชม        มหาสารคาม  \n",
       "12     2561    01.20       ศรีราชา           ชลบุรี  \n",
       "13     2561    17.03      กงไกรลาศ          สุโขทัย  \n",
       "14     2561    02.00   วิเชียรบุรี        เพชรบูรณ์  \n",
       "15       61    23.53       ท่าม่วง        กาญจนบุรี  \n",
       "16     2561    03.20     ด่านขุนทด       นครราชสีมา  \n",
       "17     2561    21.55         เมือง        สิงห์บุรี  \n",
       "18     2561    15.00      บางปะหัน  พระนครศรีอยุธยา  \n",
       "19     2561    14.00        น้ำโสม         อุดรธานี  \n",
       "20     2561    01.55   วิเชียรบุรี        เพชรบูรณ์  \n",
       "21     2561    06.58         เมือง           พัทลุง  \n",
       "22       61    22.50        ศรีนคร          สุโขทัย  \n",
       "23     2561    22.55        วังทอง         พิษณุโลก  \n",
       "24     2561    18.30      วังวิเศษ             ตรัง  \n",
       "25     2561    13.40   กุฉินารายณ์        กาฬสินธุ์  \n",
       "26       61    11.00       ตาพระยา          สระแก้ว  \n",
       "27     2561    07.45        ทุ่งสง    นครศรีธรรมราช  \n",
       "28     2561    06.25        ปากท่อ          ราชบุรี  "
      ]
     },
     "execution_count": 59,
     "metadata": {},
     "output_type": "execute_result"
    }
   ],
   "source": [
    "df"
   ]
  },
  {
   "cell_type": "code",
   "execution_count": 61,
   "metadata": {},
   "outputs": [
    {
     "data": {
      "text/plain": [
       "(29, 7)"
      ]
     },
     "execution_count": 61,
     "metadata": {},
     "output_type": "execute_result"
    }
   ],
   "source": [
    "df.shape"
   ]
  },
  {
   "cell_type": "code",
   "execution_count": 62,
   "metadata": {},
   "outputs": [
    {
     "data": {
      "text/plain": [
       "acc_text     object\n",
       "acc_day      object\n",
       "acc_month    object\n",
       "acc_year     object\n",
       "acc_time     object\n",
       "acc_add1     object\n",
       "acc_add2     object\n",
       "dtype: object"
      ]
     },
     "execution_count": 62,
     "metadata": {},
     "output_type": "execute_result"
    }
   ],
   "source": [
    "df.dtypes\n"
   ]
  },
  {
   "cell_type": "code",
   "execution_count": 74,
   "metadata": {},
   "outputs": [
    {
     "data": {
      "text/plain": [
       "14.00    2\n",
       "02.00    2\n",
       "07.45    2\n",
       "22.50    1\n",
       "01.55    1\n",
       "01.10    1\n",
       "01.20    1\n",
       "20.30    1\n",
       "06.25    1\n",
       "03.20    1\n",
       "03.57    1\n",
       "08.00    1\n",
       "11.00    1\n",
       "22.55    1\n",
       "06.58    1\n",
       "20.00    1\n",
       "13.40    1\n",
       "17.20    1\n",
       "11.20    1\n",
       "00.20    1\n",
       "15.00    1\n",
       "21.55    1\n",
       "23.53    1\n",
       "10.30    1\n",
       "18.30    1\n",
       "17.03    1\n",
       "Name: acc_time, dtype: int64"
      ]
     },
     "execution_count": 74,
     "metadata": {},
     "output_type": "execute_result"
    }
   ],
   "source": [
    "# df.acc_day\n",
    "df['acc_time'].value_counts()"
   ]
  },
  {
   "cell_type": "code",
   "execution_count": 80,
   "metadata": {},
   "outputs": [],
   "source": [
    "%matplotlib inline\n",
    "import matplotlib.pyplot as mplib"
   ]
  },
  {
   "cell_type": "code",
   "execution_count": null,
   "metadata": {},
   "outputs": [],
   "source": []
  },
  {
   "cell_type": "code",
   "execution_count": null,
   "metadata": {},
   "outputs": [],
   "source": []
  },
  {
   "cell_type": "code",
   "execution_count": 91,
   "metadata": {},
   "outputs": [
    {
     "data": {
      "text/plain": [
       "<matplotlib.axes._subplots.AxesSubplot at 0x1c0c100acc0>"
      ]
     },
     "execution_count": 91,
     "metadata": {},
     "output_type": "execute_result"
    },
    {
     "data": {
      "image/png": "[encoded data removed]",
      "text/plain": [
       "<Figure size 432x288 with 1 Axes>"
      ]
     },
     "metadata": {},
     "output_type": "display_data"
    }
   ],
   "source": [
    "mplib.rcParams['font.family'] = 'Tahoma'\n",
    "pd.value_counts(df['acc_add1']).plot.bar()"
   ]
  },
  {
   "cell_type": "markdown",
   "metadata": {},
   "source": [
    "# White to Excel\n"
   ]
  },
  {
   "cell_type": "code",
   "execution_count": 94,
   "metadata": {},
   "outputs": [],
   "source": [
    "df.to_excel('../data/accident.xlsx')"
   ]
  },
  {
   "cell_type": "code",
   "execution_count": 95,
   "metadata": {},
   "outputs": [],
   "source": [
    "import sqlite3"
   ]
  },
  {
   "cell_type": "code",
   "execution_count": 101,
   "metadata": {},
   "outputs": [],
   "source": [
    "conn= sqlite3.connect('../data/accident.db')"
   ]
  },
  {
   "cell_type": "code",
   "execution_count": null,
   "metadata": {},
   "outputs": [],
   "source": []
  },
  {
   "cell_type": "code",
   "execution_count": 102,
   "metadata": {},
   "outputs": [],
   "source": [
    "df.to_sql('accident_table',conn)"
   ]
  },
  {
   "cell_type": "code",
   "execution_count": 109,
   "metadata": {},
   "outputs": [],
   "source": [
    "q = pd.read_sql_query('select count(*) from accident_table where acc_day = 26 ',conn)"
   ]
  },
  {
   "cell_type": "code",
   "execution_count": 110,
   "metadata": {},
   "outputs": [
    {
     "name": "stdout",
     "output_type": "stream",
     "text": [
      "   count(*)\n",
      "0         4\n"
     ]
    }
   ],
   "source": [
    "print(q)"
   ]
  },
  {
   "cell_type": "code",
   "execution_count": null,
   "metadata": {},
   "outputs": [],
   "source": []
  },
  {
   "cell_type": "code",
   "execution_count": null,
   "metadata": {},
   "outputs": [],
   "source": []
  },
  {
   "cell_type": "code",
   "execution_count": null,
   "metadata": {},
   "outputs": [],
   "source": []
  },
  {
   "cell_type": "code",
   "execution_count": null,
   "metadata": {},
   "outputs": [],
   "source": []
  },
  {
   "cell_type": "code",
   "execution_count": null,
   "metadata": {},
   "outputs": [],
   "source": []
  },
  {
   "cell_type": "code",
   "execution_count": null,
   "metadata": {},
   "outputs": [],
   "source": []
  },
  {
   "cell_type": "code",
   "execution_count": null,
   "metadata": {},
   "outputs": [],
   "source": []
  },
  {
   "cell_type": "code",
   "execution_count": null,
   "metadata": {},
   "outputs": [],
   "source": []
  },
  {
   "cell_type": "code",
   "execution_count": null,
   "metadata": {},
   "outputs": [],
   "source": []
  },
  {
   "cell_type": "code",
   "execution_count": null,
   "metadata": {},
   "outputs": [],
   "source": []
  },
  {
   "cell_type": "code",
   "execution_count": null,
   "metadata": {},
   "outputs": [],
   "source": []
  },
  {
   "cell_type": "code",
   "execution_count": null,
   "metadata": {},
   "outputs": [],
   "source": []
  },
  {
   "cell_type": "code",
   "execution_count": null,
   "metadata": {},
   "outputs": [],
   "source": []
  },
  {
   "cell_type": "code",
   "execution_count": null,
   "metadata": {},
   "outputs": [],
   "source": []
  },
  {
   "cell_type": "code",
   "execution_count": null,
   "metadata": {},
   "outputs": [],
   "source": []
  },
  {
   "cell_type": "code",
   "execution_count": null,
   "metadata": {},
   "outputs": [],
   "source": []
  },
  {
   "cell_type": "code",
   "execution_count": null,
   "metadata": {},
   "outputs": [],
   "source": []
  },
  {
   "cell_type": "code",
   "execution_count": null,
   "metadata": {},
   "outputs": [],
   "source": []
  },
  {
   "cell_type": "code",
   "execution_count": null,
   "metadata": {},
   "outputs": [],
   "source": []
  },
  {
   "cell_type": "code",
   "execution_count": null,
   "metadata": {},
   "outputs": [],
   "source": []
  },
  {
   "cell_type": "code",
   "execution_count": null,
   "metadata": {},
   "outputs": [],
   "source": []
  },
  {
   "cell_type": "code",
   "execution_count": null,
   "metadata": {},
   "outputs": [],
   "source": []
  },
  {
   "cell_type": "code",
   "execution_count": null,
   "metadata": {},
   "outputs": [],
   "source": []
  },
  {
   "cell_type": "code",
   "execution_count": null,
   "metadata": {},
   "outputs": [],
   "source": []
  },
  {
   "cell_type": "code",
   "execution_count": null,
   "metadata": {},
   "outputs": [],
   "source": []
  },
  {
   "cell_type": "code",
   "execution_count": null,
   "metadata": {},
   "outputs": [],
   "source": []
  },
  {
   "cell_type": "code",
   "execution_count": null,
   "metadata": {},
   "outputs": [],
   "source": []
  },
  {
   "cell_type": "code",
   "execution_count": null,
   "metadata": {},
   "outputs": [],
   "source": []
  },
  {
   "cell_type": "code",
   "execution_count": null,
   "metadata": {},
   "outputs": [],
   "source": []
  },
  {
   "cell_type": "code",
   "execution_count": null,
   "metadata": {},
   "outputs": [],
   "source": []
  },
  {
   "cell_type": "code",
   "execution_count": null,
   "metadata": {},
   "outputs": [],
   "source": []
  },
  {
   "cell_type": "code",
   "execution_count": null,
   "metadata": {},
   "outputs": [],
   "source": []
  },
  {
   "cell_type": "code",
   "execution_count": null,
   "metadata": {},
   "outputs": [],
   "source": []
  },
  {
   "cell_type": "code",
   "execution_count": null,
   "metadata": {},
   "outputs": [],
   "source": []
  },
  {
   "cell_type": "code",
   "execution_count": null,
   "metadata": {},
   "outputs": [],
   "source": []
  },
  {
   "cell_type": "code",
   "execution_count": null,
   "metadata": {},
   "outputs": [],
   "source": []
  },
  {
   "cell_type": "code",
   "execution_count": null,
   "metadata": {},
   "outputs": [],
   "source": []
  },
  {
   "cell_type": "code",
   "execution_count": null,
   "metadata": {},
   "outputs": [],
   "source": []
  },
  {
   "cell_type": "code",
   "execution_count": null,
   "metadata": {},
   "outputs": [],
   "source": []
  },
  {
   "cell_type": "code",
   "execution_count": null,
   "metadata": {},
   "outputs": [],
   "source": []
  },
  {
   "cell_type": "code",
   "execution_count": null,
   "metadata": {},
   "outputs": [],
   "source": []
  },
  {
   "cell_type": "code",
   "execution_count": null,
   "metadata": {},
   "outputs": [],
   "source": []
  }
 ],
 "metadata": {
  "kernelspec": {
   "display_name": "Python 3",
   "language": "python",
   "name": "python3"
  },
  "language_info": {
   "codemirror_mode": {
    "name": "ipython",
    "version": 3
   },
   "file_extension": ".py",
   "mimetype": "text/x-python",
   "name": "python",
   "nbconvert_exporter": "python",
   "pygments_lexer": "ipython3",
   "version": "3.6.5"
  },
  "toc": {
   "base_numbering": 1,
   "nav_menu": {},
   "number_sections": false,
   "sideBar": true,
   "skip_h1_title": true,
   "title_cell": "Table of Contents",
   "title_sidebar": "Contents",
   "toc_cell": false,
   "toc_position": {
    "height": "calc(100% - 180px)",
    "left": "10px",
    "top": "150px",
    "width": "165px"
   },
   "toc_section_display": true,
   "toc_window_display": false
  }
 },
 "nbformat": 4,
 "nbformat_minor": 2
}
