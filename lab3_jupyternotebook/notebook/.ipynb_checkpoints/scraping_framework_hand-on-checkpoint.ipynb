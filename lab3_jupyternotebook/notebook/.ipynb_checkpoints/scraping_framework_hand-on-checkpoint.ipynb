{
 "cells": [
  {
   "cell_type": "markdown",
   "metadata": {},
   "source": [
    "# Machine Learning for Data Science: Scraping Framework"
   ]
  },
  {
   "cell_type": "markdown",
   "metadata": {},
   "source": [
    "---"
   ]
  },
  {
   "cell_type": "markdown",
   "metadata": {},
   "source": [
    "## Table of Contents"
   ]
  },
  {
   "cell_type": "markdown",
   "metadata": {},
   "source": [
    "### 1. Web Scraping\n",
    "- Step 1. First of all, you will have to install Beautifulsoup and Requests\n",
    "- Step 2. Find the URL you want to scrape\n",
    "- Step 3. Define what information you want to scrape\n",
    "- Step 4. Identify the structure of the sites HTML\n",
    "- Step 5. Write the scraping code for retrieving the “soup”\n",
    "- Step 6. Extract the information from the “soup”"
   ]
  },
  {
   "cell_type": "markdown",
   "metadata": {},
   "source": [
    "### 2. Write the data to SQLite"
   ]
  },
  {
   "cell_type": "markdown",
   "metadata": {},
   "source": [
    "### 3. Write the data to Excel"
   ]
  },
  {
   "cell_type": "markdown",
   "metadata": {},
   "source": [
    "### 4. Plot the accident data"
   ]
  },
  {
   "cell_type": "markdown",
   "metadata": {},
   "source": [
    "---"
   ]
  },
  {
   "cell_type": "markdown",
   "metadata": {},
   "source": [
    "## Web Scraping with Beautiful Soup\n",
    "### What is Beautiful Soup?\n",
    "<br>\n",
    "The major concept with Beautiful Soup is that it allows you to access elements of your page by following the CSS structures. Once we grab elements, Python makes it easy to write the elements or relevant components of the elements into other files, such as a CSV, that can be stored in a database or opened in other software.\n",
    "<br><br>\n",
    "__First__, we have to turn the website code into a Python object. <br>\n",
    "print response.text. Then turns the text into an Python object named soup. <br>\n",
    "__Second__, the built in Python parser, which we can call using html.parser that Beautiful Soup uses to parse your text. "
   ]
  },
  {
   "cell_type": "markdown",
   "metadata": {},
   "source": [
    "#### Step 1. First of all, you will have to install Beautifulsoup and Requests<br>\n",
    "Beautiful Soup 4 is published through PyPi, so you can install it with pip. <br>\n",
    "> _pip install beautifulsoup4_"
   ]
  },
  {
   "cell_type": "code",
   "execution_count": 2,
   "metadata": {},
   "outputs": [],
   "source": [
    "import requests as re\n",
    "import bs4 as b\n"
   ]
  },
  {
   "cell_type": "markdown",
   "metadata": {},
   "source": [
    "#### Step 2 and 3\n",
    "- Find the URL\n",
    "- Define what information you want"
   ]
  },
  {
   "cell_type": "code",
   "execution_count": 3,
   "metadata": {},
   "outputs": [],
   "source": [
    "response = re.get(\"http://www.thairsc.com/th/BigAccidentAll.aspx?l=th\")"
   ]
  },
  {
   "cell_type": "code",
   "execution_count": 4,
   "metadata": {},
   "outputs": [
    {
     "data": {
      "text/plain": [
       "'\\r\\n\\r\\n<!DOCTYPE html PUBLIC \"-//W3C//DTD XHTML 1.0 Transitional//EN\" \"http://www.w3.org/TR/xhtml1/DTD/xhtml1-transitional.dtd\">\\r\\n<html xmlns=\"http://www.w3.org/1999/xhtml\">\\r\\n<head><meta http-equiv=\"X-UA-Compatible\" content=\"IE=edge,chrome=1\" /><meta name=\"viewport\" content=\"width=device-width, initial-scale=1\" /><meta name=\"Keywords\" content=\"thai rsc, thairsc, thai-rsc, strive for by,road safety culture, road safety citizens,  road safety collaboration, ศูนย์ข้อมูล, ศูนย์ข้อมูลอุบัติเหตุ, ศูนย์ข้อมูลอุบัติเหตุ Thai Rsc, ศูนย์ข้อมูลอุบัติเหตุ ThaiRsc, ศูนย์ข้อมูลอุบัติเหตุ Thai-Rsc , อุบัติเหตุ, ข้อมูลอุบัติเหตุ , ทศวรรษ, White Paper, เครือข่ายเฝ้าระวัง อบถ., สถิติ, Remembrance, ปฏิทินกิจกรรม, พ.ร.บ., ข้อมูลรับแจ้งอุบัติเหตุทางถนน, ข้อมูลรับแจ้ง, อุบัติเหตุทางถนน, ทางถนน, บาดเจ็บ, เสียชีวิต, ข้อมูลสะสมปี, ศูนย์รับแจ้งเหตุ, สถานที่เกิดอุบัติเหตุ, ทศวรรษแห่งความปลอดภัยทางถนน 2554-2563, ทศวรรษแห่งความปลอดภัยทางถนน, 2554-2563, ความปลอดภัยทางถนน\" /><meta name=\"Description\" content=\"ศูนย์ข้อมูลอุบัติเหตุ เพื่อเสริมสร้างวัฒนธรรม ความปลอดภัยทางถนน ทศวรรษแห่งความปลอดภัยทางถนน 2554-2563\" /><link rel=\"shortcut icon\" type=\"image/x-icon\" href=\"images/favicon.ico\" /><title>\\r\\n\\tศูนย์ข้อมูลอุบัติเหตุ\\r\\n</title><link href=\"App_Themes/rsc_mp_dt.css\" rel=\"stylesheet\" type=\"text/css\" />\\r\\n\\r\\n    <script src=\"js/jquery-1.8.3.min.js\" type=\"text/javascript\"></script>\\r\\n\\r\\n    <style type=\"text/css\">\\r\\n        *\\r\\n        {\\r\\n            padding: 0;\\r\\n            margin: 0;\\r\\n        }\\r\\n        html, body\\r\\n        {\\r\\n            height: 100%;\\r\\n        }\\r\\n        body\\r\\n        {\\r\\n            font-family: \\'Lucida Grande\\' , Tahoma, Verdana, Arial, sans-serif;\\r\\n            font-size: 13px;\\r\\n        }\\r\\n        h1\\r\\n        {\\r\\n            color: #FF8000;\\r\\n            font-size: 16px;\\r\\n            padding: 10px 0px 10px;\\r\\n            border-bottom: 1px dashed #144865;\\r\\n            margin-bottom: 10px;\\r\\n        }\\r\\n        p\\r\\n        {\\r\\n            padding: 0 0 1em;\\r\\n        }\\r\\n        #page\\r\\n        {\\r\\n            min-height: 100%;\\r\\n            position: relative;\\r\\n        }\\r\\n        .wrapper\\r\\n        {\\r\\n            width: 980px;\\r\\n            margin: 0 auto;\\r\\n            text-align: left;\\r\\n        }\\r\\n        #header\\r\\n        {\\r\\n        }\\r\\n        div.top\\r\\n        {\\r\\n            line-height: 30px;\\r\\n            background: #16A2EB;\\r\\n            color: white;\\r\\n            font-family: \"ProximaNova\" , \"Helvetica Neue\" ,Arial,sans-serif;\\r\\n            border-top: 0px solid #484848;\\r\\n            margin-bottom: 0px;\\r\\n            border-bottom: 0px solid #333;\\r\\n        }\\r\\n        div.top .pagewidth\\r\\n        {\\r\\n            width: 980px;\\r\\n            margin: 0 auto;\\r\\n            position: relative;\\r\\n        }\\r\\n        * html #page\\r\\n        {\\r\\n            height: 100%;\\r\\n        }\\r\\n        .clear\\r\\n        {\\r\\n            clear: both;\\r\\n        }\\r\\n        #container\\r\\n        {\\r\\n            padding-bottom: 120px;\\r\\n        }\\r\\n        #footer\\r\\n        {\\r\\n            background: #16A2EB;\\r\\n            min-height: 100px;\\r\\n            position: absolute;\\r\\n            bottom: 0;\\r\\n            width: 100%;\\r\\n        }\\r\\n        #footer .wrapper\\r\\n        {\\r\\n            margin: 25px auto 10px;\\r\\n        }\\r\\n        #ft-link\\r\\n        {\\r\\n            margin-bottom: 10px;\\r\\n            display: none;\\r\\n        }\\r\\n        #footer .ft1, #footer .ft2, #footer .ft3, #footer .ft4\\r\\n        {\\r\\n            float: left;\\r\\n            width: 230px;\\r\\n            color: #fff;\\r\\n        }\\r\\n        #footer .ft2, #footer .ft3, #footer .ft4\\r\\n        {\\r\\n            margin-left: 20px;\\r\\n        }\\r\\n        #footer h4\\r\\n        {\\r\\n            margin: 0;\\r\\n            margin-bottom: 10px;\\r\\n            padding-bottom: 10px;\\r\\n            border-bottom: 1px dashed #fff;\\r\\n        }\\r\\n        .ft-box div\\r\\n        {\\r\\n            line-height: 22px;\\r\\n        }\\r\\n        #copyright\\r\\n        {\\r\\n            color: #fff;\\r\\n            padding: 10px 0 0 0;\\r\\n            border-top: 1px dashed #fff;\\r\\n            font-size: 11px;\\r\\n            font-weight: bold;\\r\\n        }\\r\\n        #copyright #cL\\r\\n        {\\r\\n            float: left;\\r\\n        }\\r\\n        #copyright #cR\\r\\n        {\\r\\n            float: right;\\r\\n        }\\r\\n    </style>\\r\\n    \\r\\n    <style type=\"text/css\">\\r\\n        /*#FirstRight\\r\\n        {\\r\\n            margin-top: 20px;\\r\\n            background: #dedede; //#766771;//#16A2EB;border-radius:4px4px00;border:1pxsolid#cecece;border-bottom:0;}\\r\\n        #FirstRight h1\\r\\n        {\\r\\n            color: #fff;\\r\\n            font-size: 16px;\\r\\n            line-height: 36px;\\r\\n            padding: 5px;\\r\\n        }\\r\\n        #FirstRight h2\\r\\n        {\\r\\n            color: #000;\\r\\n            font-size: 16px;\\r\\n            padding: 5px;\\r\\n            margin: 0;\\r\\n        }\\r\\n        #FirstRight p\\r\\n        {\\r\\n            padding: 0px 5px 5px;\\r\\n            color: #666;\\r\\n        }\\r\\n        #FirstRight p.source_by_rvp\\r\\n        {\\r\\n            margin-bottom: 0px;\\r\\n        }\\r\\n        #FirstRight span\\r\\n        {\\r\\n            color: #16A2EB;\\r\\n            text-decoration: none;\\r\\n        }\\r\\n        .s-box\\r\\n        {\\r\\n            margin: 0;\\r\\n            border: 0px solid #ddd;\\r\\n            border-top: 0;\\r\\n        }\\r\\n        table.gv-list\\r\\n        {\\r\\n            border-collapse: collapse;\\r\\n            width: 100%;\\r\\n            border-width: 0;\\r\\n            border: 1px solid #ddd;\\r\\n            border-top: 0;\\r\\n        }\\r\\n        table.gv-list td\\r\\n        {\\r\\n            padding: 7px;\\r\\n            border: 1px solid #ddd;\\r\\n            border-top: 0;\\r\\n        }\\r\\n        table.gv-list td a\\r\\n        {\\r\\n            color: #3B5998;\\r\\n            text-decoration: none;\\r\\n        }\\r\\n        table.gv-list td a:hover\\r\\n        {\\r\\n            text-decoration: underline;\\r\\n        }\\r\\n        */\\r\\n\\r\\n        .gv-list tr:last-child td {\\r\\n            padding: 7px;\\r\\n            border: 0px solid #ddd;\\r\\n            border-top: 0;\\r\\n        }\\r\\n    </style>\\r\\n</head>\\r\\n<body>\\r\\n    <div id=\"wrap\">\\r\\n        <form method=\"post\" action=\"./BigAccidentAll.aspx?l=th\" id=\"form1\">\\r\\n<input type=\"hidden\" name=\"__VIEWSTATE\" id=\"__VIEWSTATE\" value=\"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\" />\\r\\n\\r\\n<input type=\"hidden\" name=\"__VIEWSTATEGENERATOR\" id=\"__VIEWSTATEGENERATOR\" value=\"1AC41D59\" />\\r\\n<input type=\"hidden\" name=\"__EVENTVALIDATION\" id=\"__EVENTVALIDATION\" value=\"uG7j1wSyY7oqH15hn67wfCCWiv+JXWR7b1hJ4l/kFwTd1RgjFnIavXFuoK9xpbeb4mWP1wDhTMZkdctexXL9csr6m1IPKn0px06+G+HFLxakBiXr56hZed2hzKKdz5cR6zj1x5zHc1XknqD+SiEf2hHqZvGFNMgMm4qXMD2MloFUjZB/WMoSo0Qk+9PT4jf9EDkpDZdieE+0a1aQ0bJDV4lsMvc2qgeYHBUoPsA+zBOo2EUybIGJALPaILW/pslP9PG1VooiYSttMJ+puLfgVt+S403wgGdSpDByeSKk0IoScaQLjOAlA+JxqWjWrYHN\" />\\r\\n        <header id=\"header\">\\r\\n            <div class=\"wrap-in\">\\r\\n                <div class=\"clearfix\">\\r\\n                    <div id=\"logoheader\">\\r\\n                        <img alt=\"\" src=\"images/clear.gif\" class=\"toplogo\" width=\"980\" height=\"170\" />\\r\\n                    </div>\\r\\n                    <div style=\"text-align: center; padding-top: 15px; color: orange; display: none;\">\\r\\n                        <h2 style=\"font-size: 20px;\">\\r\\n                            ศูนย์ข้อมูลอุบัติเหตุ</h2>\\r\\n                        <h1 style=\"font-size: 30px; color: #444;\">\\r\\n                            Thai RSC</h1>\\r\\n                        <h2 style=\"font-size: 20px; border-bottom: 0px solid #ddd; padding-bottom: 10px;\">\\r\\n                            เพื่อเสริมสร้างวัฒนธรรมการขับขี่ปลอดภัยทางถนน</h2>\\r\\n                    </div>\\r\\n                </div>\\r\\n                <div class=\"clear\">\\r\\n                </div>\\r\\n            </div>\\r\\n            <div class=\"top\">\\r\\n                <div class=\"wrap-in\">\\r\\n                    ศูนย์ข้อมูลอุบัติเหตุ Thai Rsc :: ทศวรรษแห่งความปลอดภัยทางถนน พ.ศ. 2554 - 2563\\r\\n                </div>\\r\\n            </div>\\r\\n            <!-- / .top -->\\r\\n        </header>\\r\\n        <!-- / #header -->\\r\\n        <section id=\"section\">\\r\\n            <div class=\"wrap-in\">\\r\\n                \\r\\n    <div id=\"FirstRight\">\\r\\n        <h2>รายงานอุบัติเหตุรายใหญ่</h2>\\r\\n        <p class=\"source_by_rvp\">\\r\\n            คลิ๊กรายการเพื่ออ่านรายละเอียดเพิ่มเติม <span></span>\\r\\n        </p>\\r\\n        <span class=\"bdTip\"></span>\\r\\n        <span class=\"bdTip bdTip-bg\"></span>\\r\\n    </div>\\r\\n    <!-- End FirstLeftTitleBox-->\\r\\n    <div class=\"s-box\">\\r\\n        <div class=\"s-sum-content\" style=\"margin: 0px;\">\\r\\n            <div>\\r\\n\\t<table class=\"gv-list\" cellspacing=\"0\" rules=\"all\" border=\"1\" id=\"ContentPlaceHolder1_gv_list\">\\r\\n\\t\\t<tr>\\r\\n\\t\\t\\t<td class=\"col-hide\">1</td><td class=\"col-hide\">\\r\\n                            27/11/2561 10:40\\r\\n                        </td><td>\\r\\n                            <a class=\"text-detail\" href=\\'BigAccDetail.aspx?qid=47149&l=th\\' target=\"_blank\">\\r\\n                                อุบัติเหตุ \"รถปิคอัพ ประสานงาน รถ จยย. ดับคาที่ 2  ศพ \" ที่ เขตหนองแขม กรุงเทพฯ (เหตุเกิด วันที่ 27/11/2561 เวลาประมาณ 03.30น.)</a>\\r\\n                            <p class=\"postdate-detail\">\\r\\n                                <span class=\"order-no\">1</span><span class=\"postdate\">27/11/2561 10:40</span>\\r\\n                            </p>\\r\\n                        </td>\\r\\n\\t\\t</tr><tr>\\r\\n\\t\\t\\t<td class=\"col-hide\">2</td><td class=\"col-hide\">\\r\\n                            27/11/2561 09:55\\r\\n                        </td><td>\\r\\n                            <a class=\"text-detail\" href=\\'BigAccDetail.aspx?qid=47148&l=th\\' target=\"_blank\">\\r\\n                                อุบัติเหตุ \"รถยนต์กระบะ ชนกับ รถยนต์เก๋ง เสียชีวิต 2 ราย \" อ.สร้างคอม จ.อุดรธานี (เหตุเกิด วันที่ 26/11/2561 เวลาประมาณ 14.00น.)</a>\\r\\n                            <p class=\"postdate-detail\">\\r\\n                                <span class=\"order-no\">2</span><span class=\"postdate\">27/11/2561 09:55</span>\\r\\n                            </p>\\r\\n                        </td>\\r\\n\\t\\t</tr><tr>\\r\\n\\t\\t\\t<td class=\"col-hide\">3</td><td class=\"col-hide\">\\r\\n                            26/11/2561 22:42\\r\\n                        </td><td>\\r\\n                            <a class=\"text-detail\" href=\\'BigAccDetail.aspx?qid=47147&l=th\\' target=\"_blank\">\\r\\n                                อุบัติเหตุ \"รถจักรยานยนต์ ชนกับ รถจักรยานยนต์ เสียชีวิต 2 ราย      “ที่  อ.สูงเนิน  จ.นครราชสีมา  (เหตุเกิด วันที่ 26/11/2561 เวลา 20.00 น.)</a>\\r\\n                            <p class=\"postdate-detail\">\\r\\n                                <span class=\"order-no\">3</span><span class=\"postdate\">26/11/2561 22:42</span>\\r\\n                            </p>\\r\\n                        </td>\\r\\n\\t\\t</tr><tr>\\r\\n\\t\\t\\t<td class=\"col-hide\">4</td><td class=\"col-hide\">\\r\\n                            26/11/2561 14:21\\r\\n                        </td><td>\\r\\n                            <a class=\"text-detail\" href=\\'BigAccDetail.aspx?qid=47146&l=th\\' target=\"_blank\">\\r\\n                                อุบัติเหตุ  “รถกระบะเสียหลักหลุดขอบทาง เจ็บ 15 คน”  ที่เกิดเหตุ อ.สะเมิง จ.เชียงใหม่ (เหตุเกิดวันที่ 26-11-61  เวลาประมาณ  08.00น.)</a>\\r\\n                            <p class=\"postdate-detail\">\\r\\n                                <span class=\"order-no\">4</span><span class=\"postdate\">26/11/2561 14:21</span>\\r\\n                            </p>\\r\\n                        </td>\\r\\n\\t\\t</tr><tr>\\r\\n\\t\\t\\t<td class=\"col-hide\">5</td><td class=\"col-hide\">\\r\\n                            26/11/2561 09:38\\r\\n                        </td><td>\\r\\n                            <a class=\"text-detail\" href=\\'BigAccDetail.aspx?qid=47145&l=th\\' target=\"_blank\">\\r\\n                                อุบัติเหตุ \"รถยนต์ตู้ เสียหลักพลิกคว่ำ เจ็บ 12 คน \" ที่ อ.ประโคนชัย จ.บุรีรัมย์(เหตุเกิด วันที่ 26/11/2561 เวลาประมาณ 00.20น.)</a>\\r\\n                            <p class=\"postdate-detail\">\\r\\n                                <span class=\"order-no\">5</span><span class=\"postdate\">26/11/2561 09:38</span>\\r\\n                            </p>\\r\\n                        </td>\\r\\n\\t\\t</tr><tr>\\r\\n\\t\\t\\t<td class=\"col-hide\">6</td><td class=\"col-hide\">\\r\\n                            25/11/2561 15:30\\r\\n                        </td><td>\\r\\n                            <a class=\"text-detail\" href=\\'BigAccDetail.aspx?qid=47144&l=th\\' target=\"_blank\">\\r\\n                                อุบัติเหตุ \"รถสิบล้อ ชนกับรถกระบะ ดับ 3 เจ็บ 6 คน \" ที่ อ.แกลง จ.ระยอง (เหตุเกิด วันที่ 25/11/2561 เวลาประมาณ 10.30น.)</a>\\r\\n                            <p class=\"postdate-detail\">\\r\\n                                <span class=\"order-no\">6</span><span class=\"postdate\">25/11/2561 15:30</span>\\r\\n                            </p>\\r\\n                        </td>\\r\\n\\t\\t</tr><tr>\\r\\n\\t\\t\\t<td class=\"col-hide\">7</td><td class=\"col-hide\">\\r\\n                            24/11/2561 07:59\\r\\n                        </td><td>\\r\\n                            <a class=\"text-detail\" href=\\'BigAccDetail.aspx?qid=47143&l=th\\' target=\"_blank\">\\r\\n                                อุบัติเหตุ \"รถยนต์เก๋ง ชนกับ รถบรรทุก เสียชีวิต 4 ราย     “ที่  อ.บางละมุง  จ.ชลบุรี  (เหตุเกิด วันที่ 24/11/2561 เวลา 02.00 น.)</a>\\r\\n                            <p class=\"postdate-detail\">\\r\\n                                <span class=\"order-no\">7</span><span class=\"postdate\">24/11/2561 07:59</span>\\r\\n                            </p>\\r\\n                        </td>\\r\\n\\t\\t</tr><tr>\\r\\n\\t\\t\\t<td class=\"col-hide\">8</td><td class=\"col-hide\">\\r\\n                            23/11/2561 11:24\\r\\n                        </td><td>\\r\\n                            <a class=\"text-detail\" href=\\'BigAccDetail.aspx?qid=47142&l=th\\' target=\"_blank\">\\r\\n                                อุบัติเหตุ  “กระบะชนเสาไฟฟ้าข้างทาง  เสียชีวิต 2 ราย”  ที่เกิดเหตุ อ.ชะอำ จ.เพชรบุรี (เหตุเกิดวันที่ 23-11-60 เวลาประมาณ 03.57 น.)</a>\\r\\n                            <p class=\"postdate-detail\">\\r\\n                                <span class=\"order-no\">8</span><span class=\"postdate\">23/11/2561 11:24</span>\\r\\n                            </p>\\r\\n                        </td>\\r\\n\\t\\t</tr><tr>\\r\\n\\t\\t\\t<td class=\"col-hide\">9</td><td class=\"col-hide\">\\r\\n                            22/11/2561 13:59\\r\\n                        </td><td>\\r\\n                            <a class=\"text-detail\" href=\\'BigAccDetail.aspx?qid=47141&l=th\\' target=\"_blank\">\\r\\n                                อุบัติเหตุ \"รถยนต์บรรทุกชนกับจยย. นักกีฬาทีมชาติ เสียชีวิต 1 ราย \" เขตประเวศ จ.กรุงเทพมหานคร (เหตุเกิด วันที่ 21/11/2561 เวลาประมาณ 20.30 น.)</a>\\r\\n                            <p class=\"postdate-detail\">\\r\\n                                <span class=\"order-no\">9</span><span class=\"postdate\">22/11/2561 13:59</span>\\r\\n                            </p>\\r\\n                        </td>\\r\\n\\t\\t</tr><tr>\\r\\n\\t\\t\\t<td class=\"col-hide\">10</td><td class=\"col-hide\">\\r\\n                            21/11/2561 17:13\\r\\n                        </td><td>\\r\\n                            <a class=\"text-detail\" href=\\'BigAccDetail.aspx?qid=47140&l=th\\' target=\"_blank\">\\r\\n                                อุบัติเหตุ \"รถรับส่งนักเรียนถูกรถบรรทุกชนท้าย แล้วเสียหลักชนต้นไม้ข้างทาง เจ็บ 18 คน \" ที่ อ.เกษตรสมบูรณ์ จ.ชัยภูมิ (เหตุเกิด วันที่ 21/11/2561 เวลาประมาณ 07.45น.)</a>\\r\\n                            <p class=\"postdate-detail\">\\r\\n                                <span class=\"order-no\">10</span><span class=\"postdate\">21/11/2561 17:13</span>\\r\\n                            </p>\\r\\n                        </td>\\r\\n\\t\\t</tr><tr>\\r\\n\\t\\t\\t<td class=\"col-hide\">11</td><td class=\"col-hide\">\\r\\n                            21/11/2561 08:27\\r\\n                        </td><td>\\r\\n                            <a class=\"text-detail\" href=\\'BigAccDetail.aspx?qid=47139&l=th\\' target=\"_blank\">\\r\\n                                อุบัติเหตุ   \"   รถยนต์ส่วนบุคคลเสียหลักพลิกคว่ำ   เสียชีวิต 2 ราย \"  ที่        อ.ปากเกร็ด  จ.นนทบุรี  (เหตุเกิด วันที่    21/11/2561 เวลาประมาณ  01.10 น.)</a>\\r\\n                            <p class=\"postdate-detail\">\\r\\n                                <span class=\"order-no\">11</span><span class=\"postdate\">21/11/2561 08:27</span>\\r\\n                            </p>\\r\\n                        </td>\\r\\n\\t\\t</tr><tr>\\r\\n\\t\\t\\t<td class=\"col-hide\">12</td><td class=\"col-hide\">\\r\\n                            20/11/2561 21:20\\r\\n                        </td><td>\\r\\n                            <a class=\"text-detail\" href=\\'BigAccDetail.aspx?qid=47138&l=th\\' target=\"_blank\">\\r\\n                                อุบัติเหตุ \"รถจักรยานยนต์ ชนกับ รถพ่วง เสียชีวิต 2 ราย     “ที่  อ.เมือง จ.สระแก้ว  (เหตุเกิด วันที่ 20/11/2561 เวลา 17.20 น.)</a>\\r\\n                            <p class=\"postdate-detail\">\\r\\n                                <span class=\"order-no\">12</span><span class=\"postdate\">20/11/2561 21:20</span>\\r\\n                            </p>\\r\\n                        </td>\\r\\n\\t\\t</tr><tr>\\r\\n\\t\\t\\t<td class=\"col-hide\">13</td><td class=\"col-hide\">\\r\\n                            20/11/2561 20:30\\r\\n                        </td><td>\\r\\n                            <a class=\"text-detail\" href=\\'BigAccDetail.aspx?qid=47137&l=th\\' target=\"_blank\">\\r\\n                                อุบัติเหตุ \"รถยนต์กระบะชนต้นไม้ เสียชีวิต 1 ราย บาดเจ็บ 4 ราย     “ที่  อ.ชื่นชม จ.มหาสารคาม  (เหตุเกิด วันที่ 20/11/2561 เวลา 11.20 น.)</a>\\r\\n                            <p class=\"postdate-detail\">\\r\\n                                <span class=\"order-no\">13</span><span class=\"postdate\">20/11/2561 20:30</span>\\r\\n                            </p>\\r\\n                        </td>\\r\\n\\t\\t</tr><tr>\\r\\n\\t\\t\\t<td class=\"col-hide\">14</td><td class=\"col-hide\">\\r\\n                            20/11/2561 09:44\\r\\n                        </td><td>\\r\\n                            <a class=\"text-detail\" href=\\'BigAccDetail.aspx?qid=47136&l=th\\' target=\"_blank\">\\r\\n                                อุบัติเหตุ \"รถยนต์กระบะเสียหลักชนเสาไฟฟ้า เสียชีวิต 4 ราย “ที่ อ.ศรีราชา จ.ชลบุรี (เหตุเกิดวันที่ 20/11/2561 เวลา01.20น.)</a>\\r\\n                            <p class=\"postdate-detail\">\\r\\n                                <span class=\"order-no\">14</span><span class=\"postdate\">20/11/2561 09:44</span>\\r\\n                            </p>\\r\\n                        </td>\\r\\n\\t\\t</tr><tr>\\r\\n\\t\\t\\t<td class=\"col-hide\">15</td><td class=\"col-hide\">\\r\\n                            19/11/2561 21:36\\r\\n                        </td><td>\\r\\n                            <a class=\"text-detail\" href=\\'BigAccDetail.aspx?qid=47135&l=th\\' target=\"_blank\">\\r\\n                                อุบัติเหตุ \"รถยนต์ชนกัน 4 คัน มีผู้ได้รับบาดเจ็บ 23 ราย    “ที่  อ.กงไกรลาศ จ.สุโขทัย  (เหตุเกิด วันที่ 19/11/2561 เวลา 17.03 น.)</a>\\r\\n                            <p class=\"postdate-detail\">\\r\\n                                <span class=\"order-no\">15</span><span class=\"postdate\">19/11/2561 21:36</span>\\r\\n                            </p>\\r\\n                        </td>\\r\\n\\t\\t</tr><tr>\\r\\n\\t\\t\\t<td class=\"col-hide\">16</td><td class=\"col-hide\">\\r\\n                            19/11/2561 09:43\\r\\n                        </td><td>\\r\\n                            <a class=\"text-detail\" href=\\'BigAccDetail.aspx?qid=47134&l=th\\' target=\"_blank\">\\r\\n                                อุบัติเหตุ \"รถยนต์ตู้ เสียหลักชนต้นไม้ เสียชีวิต 1 ราย เจ็บ 5 คน \" ที่ อ.วิเชียรบุรี จ.เพชรบูรณ์ (เหตุเกิด วันที่ 19/11/2561 เวลาประมาณ 02.00น.)</a>\\r\\n                            <p class=\"postdate-detail\">\\r\\n                                <span class=\"order-no\">16</span><span class=\"postdate\">19/11/2561 09:43</span>\\r\\n                            </p>\\r\\n                        </td>\\r\\n\\t\\t</tr><tr>\\r\\n\\t\\t\\t<td class=\"col-hide\">17</td><td class=\"col-hide\">\\r\\n                            19/11/2561 08:24\\r\\n                        </td><td>\\r\\n                            <a class=\"text-detail\" href=\\'BigAccDetail.aspx?qid=47133&l=th\\' target=\"_blank\">\\r\\n                                อุบัติเหตุ  “รถยนต์กระบะ  ชนกับ รถยนต์เก๋ง เสียชีวิต 2 ราย เจ็บ 1 คน”  ที่ อ.ท่าม่วง จ.กาญจนบุรี (เหตุเกิดวันที่  18-11-61  เวลาประมาณ 23.53 น.)</a>\\r\\n                            <p class=\"postdate-detail\">\\r\\n                                <span class=\"order-no\">17</span><span class=\"postdate\">19/11/2561 08:24</span>\\r\\n                            </p>\\r\\n                        </td>\\r\\n\\t\\t</tr><tr>\\r\\n\\t\\t\\t<td class=\"col-hide\">18</td><td class=\"col-hide\">\\r\\n                            18/11/2561 09:43\\r\\n                        </td><td>\\r\\n                            <a class=\"text-detail\" href=\\'BigAccDetail.aspx?qid=47132&l=th\\' target=\"_blank\">\\r\\n                                อุบัติเหตุ \"รถยนต์กระบะ ชนกับ รถยนต์ตู้ มีผู้เสียชีวิต 2 ราย บาดเจ็บ 13 ราย     “ที่  อ.ด่านขุนทด จ.นครราชสีมา  (เหตุเกิด วันที่ 18/11/2561 เวลา 03.20 น.)</a>\\r\\n                            <p class=\"postdate-detail\">\\r\\n                                <span class=\"order-no\">18</span><span class=\"postdate\">18/11/2561 09:43</span>\\r\\n                            </p>\\r\\n                        </td>\\r\\n\\t\\t</tr><tr>\\r\\n\\t\\t\\t<td class=\"col-hide\">19</td><td class=\"col-hide\">\\r\\n                            18/11/2561 06:45\\r\\n                        </td><td>\\r\\n                            <a class=\"text-detail\" href=\\'BigAccDetail.aspx?qid=47131&l=th\\' target=\"_blank\">\\r\\n                                อุบัติเหตุ \"รถยนต์เก๋ง ชนกับ รถบรรทุกพ่วง มีผู้เสียชีวิต 2 ราย    “ที่  อ.เมือง  จ.สิงห์บุรี  (เหตุเกิด วันที่ 17/11/2561 เวลา 21.55 น.)</a>\\r\\n                            <p class=\"postdate-detail\">\\r\\n                                <span class=\"order-no\">19</span><span class=\"postdate\">18/11/2561 06:45</span>\\r\\n                            </p>\\r\\n                        </td>\\r\\n\\t\\t</tr><tr>\\r\\n\\t\\t\\t<td class=\"col-hide\">20</td><td class=\"col-hide\">\\r\\n                            17/11/2561 19:49\\r\\n                        </td><td>\\r\\n                            <a class=\"text-detail\" href=\\'BigAccDetail.aspx?qid=47130&l=th\\' target=\"_blank\">\\r\\n                                อุบัติเหตุ   \"   รถยนต์ชนกับรถกระบะและชนกับรถบรรทุกตู้คอนเทนเนอร์   เสียชีวิต 2 ราย \"  ที่    อ.บางปะหัน จ.พระนครศรีอยุธยา     (เหตุเกิด วันที่    17/11/2561 เวลาประมาณ  15.00 น.)</a>\\r\\n                            <p class=\"postdate-detail\">\\r\\n                                <span class=\"order-no\">20</span><span class=\"postdate\">17/11/2561 19:49</span>\\r\\n                            </p>\\r\\n                        </td>\\r\\n\\t\\t</tr><tr>\\r\\n\\t\\t\\t<td class=\"col-hide\">21</td><td class=\"col-hide\">\\r\\n                            17/11/2561 19:12\\r\\n                        </td><td>\\r\\n                            <a class=\"text-detail\" href=\\'BigAccDetail.aspx?qid=47129&l=th\\' target=\"_blank\">\\r\\n                                 อุบัติเหตุ   \"   รถยนต์กระบะชนกับรถยนต์กระบะ เจ็บ 4 คนเสียชีวิต 2 ราย \"  ที่       อ.น้ำโสม จ.อุดรธานี (เหตุเกิด วันที่    17/11/2561 เวลาประมาณ  14.00 น.)</a>\\r\\n                            <p class=\"postdate-detail\">\\r\\n                                <span class=\"order-no\">21</span><span class=\"postdate\">17/11/2561 19:12</span>\\r\\n                            </p>\\r\\n                        </td>\\r\\n\\t\\t</tr><tr>\\r\\n\\t\\t\\t<td class=\"col-hide\">22</td><td class=\"col-hide\">\\r\\n                            17/11/2561 12:37\\r\\n                        </td><td>\\r\\n                            <a class=\"text-detail\" href=\\'BigAccDetail.aspx?qid=47128&l=th\\' target=\"_blank\">\\r\\n                                อุบัติเหตุ \"รถยนต์โดยสารเสียหลักพลิกคว่ำ เจ็บกว่าสิบราย\"  อ.วิเชียรบุรี จ.เพชรบูรณ์ (เหตุเกิด วันที่ 17/11/2561 เวลา 01.55น.)</a>\\r\\n                            <p class=\"postdate-detail\">\\r\\n                                <span class=\"order-no\">22</span><span class=\"postdate\">17/11/2561 12:37</span>\\r\\n                            </p>\\r\\n                        </td>\\r\\n\\t\\t</tr><tr>\\r\\n\\t\\t\\t<td class=\"col-hide\">23</td><td class=\"col-hide\">\\r\\n                            16/11/2561 20:22\\r\\n                        </td><td>\\r\\n                            <a class=\"text-detail\" href=\\'BigAccDetail.aspx?qid=47127&l=th\\' target=\"_blank\">\\r\\n                                อุบัติเหตุ \"รถบรรทุกหกล้อห้องเย็นชนท้ายกับรถโดยสารสองแถว เสียชีวิต 1 ราย เจ็บ 19 คน \" ที่ อ.เมือง จ.พัทลุง (เหตุเกิด วันที่ 16/11/2561 เวลาประมาณ 06.58น.)</a>\\r\\n                            <p class=\"postdate-detail\">\\r\\n                                <span class=\"order-no\">23</span><span class=\"postdate\">16/11/2561 20:22</span>\\r\\n                            </p>\\r\\n                        </td>\\r\\n\\t\\t</tr><tr>\\r\\n\\t\\t\\t<td class=\"col-hide\">24</td><td class=\"col-hide\">\\r\\n                            16/11/2561 11:43\\r\\n                        </td><td>\\r\\n                            <a class=\"text-detail\" href=\\'BigAccDetail.aspx?qid=47126&l=th\\' target=\"_blank\">\\r\\n                                อุบัติเหตุ “รถกระบะชนรถกระบะ เสียชีวิต 1 ราย เจ็บ 6 ราย ”  ที่เกิดเหตุ อ.ศรีนคร จ.สุโขทัย (เหตุเกิดวันที่ 16-11-61  เวลาประมาณ 22.50 น.)</a>\\r\\n                            <p class=\"postdate-detail\">\\r\\n                                <span class=\"order-no\">24</span><span class=\"postdate\">16/11/2561 11:43</span>\\r\\n                            </p>\\r\\n                        </td>\\r\\n\\t\\t</tr><tr>\\r\\n\\t\\t\\t<td class=\"col-hide\">25</td><td class=\"col-hide\">\\r\\n                            15/11/2561 09:40\\r\\n                        </td><td>\\r\\n                            <a class=\"text-detail\" href=\\'BigAccDetail.aspx?qid=47125&l=th\\' target=\"_blank\">\\r\\n                                อุบัติเหตุ   \"   รถตู้โดยสารชนกับรถกระบะ เจ็บ 10 คน\"  ที่      อำเภอ วังทอง  จังหวัด พิษณุโลก (เหตุเกิด วันที่    14/11/2561 เวลาประมาณ  22.55 น.)</a>\\r\\n                            <p class=\"postdate-detail\">\\r\\n                                <span class=\"order-no\">25</span><span class=\"postdate\">15/11/2561 09:40</span>\\r\\n                            </p>\\r\\n                        </td>\\r\\n\\t\\t</tr><tr>\\r\\n\\t\\t\\t<td class=\"col-hide\">26</td><td class=\"col-hide\">\\r\\n                            14/11/2561 12:45\\r\\n                        </td><td>\\r\\n                            <a class=\"text-detail\" href=\\'BigAccDetail.aspx?qid=47124&l=th\\' target=\"_blank\">\\r\\n                                อุบัติเหตุ \"รถยนต์กระบะชนกับรถจักรยานยนต์พ่วงข้าง เสียชีวิต 3 ราย เจ็บ 1 คน \" ที่ อ.วังวิเศษ จ.ตรัง (เหตุเกิด วันที่ 13/11/2561 เวลาประมาณ 18.30น.)</a>\\r\\n                            <p class=\"postdate-detail\">\\r\\n                                <span class=\"order-no\">26</span><span class=\"postdate\">14/11/2561 12:45</span>\\r\\n                            </p>\\r\\n                        </td>\\r\\n\\t\\t</tr><tr>\\r\\n\\t\\t\\t<td class=\"col-hide\">27</td><td class=\"col-hide\">\\r\\n                            13/11/2561 19:05\\r\\n                        </td><td>\\r\\n                            <a class=\"text-detail\" href=\\'BigAccDetail.aspx?qid=47123&l=th\\' target=\"_blank\">\\r\\n                                อุบัติเหตุ \"รถยนต์กระบะ ชนกับ รถยนต์เก๋ง เสียชีวิต 3 ราย บาดเจ็บ 1 ราย   “ที่  อ.กุฉินารายณ์ จ.กาฬสินธุ์  (เหตุเกิด วันที่ 13/11/2561 เวลา 13.40 น.)</a>\\r\\n                            <p class=\"postdate-detail\">\\r\\n                                <span class=\"order-no\">27</span><span class=\"postdate\">13/11/2561 19:05</span>\\r\\n                            </p>\\r\\n                        </td>\\r\\n\\t\\t</tr><tr>\\r\\n\\t\\t\\t<td class=\"col-hide\">28</td><td class=\"col-hide\">\\r\\n                            13/11/2561 14:19\\r\\n                        </td><td>\\r\\n                            <a class=\"text-detail\" href=\\'BigAccDetail.aspx?qid=47122&l=th\\' target=\"_blank\">\\r\\n                                อุบัติเหตุ  “รถยนต์บุคคล ชน รถจักรยานยนต์  เสียชีวิต 2 ราย”  ที่ อ.ตาพระยา จ.สระแก้ว (เหตุเกิดวันที่  13-11-61  เวลาประมาณ 11.00 น.)</a>\\r\\n                            <p class=\"postdate-detail\">\\r\\n                                <span class=\"order-no\">28</span><span class=\"postdate\">13/11/2561 14:19</span>\\r\\n                            </p>\\r\\n                        </td>\\r\\n\\t\\t</tr><tr>\\r\\n\\t\\t\\t<td class=\"col-hide\">29</td><td class=\"col-hide\">\\r\\n                            13/11/2561 14:12\\r\\n                        </td><td>\\r\\n                            <a class=\"text-detail\" href=\\'BigAccDetail.aspx?qid=47121&l=th\\' target=\"_blank\">\\r\\n                                อุบัติเหตุ \"รถยนต์กระบะชนกับรถจักรยานยนต์ เสียชีวิต 2 ราย \" ที่ อ.ทุ่งสง จ.นครศรีธรรมราช (เหตุเกิด วันที่ 13/11/2561 เวลาประมาณ 07.45น.)</a>\\r\\n                            <p class=\"postdate-detail\">\\r\\n                                <span class=\"order-no\">29</span><span class=\"postdate\">13/11/2561 14:12</span>\\r\\n                            </p>\\r\\n                        </td>\\r\\n\\t\\t</tr><tr>\\r\\n\\t\\t\\t<td class=\"col-hide\">30</td><td class=\"col-hide\">\\r\\n                            13/11/2561 10:26\\r\\n                        </td><td>\\r\\n                            <a class=\"text-detail\" href=\\'BigAccDetail.aspx?qid=47120&l=th\\' target=\"_blank\">\\r\\n                                อุบัติเหตุ \"รถบรรทุกชนกับรถจักรยานยนต์ เสียชีวิต 2 ราย \" ที่ อ.ปากท่อ จ.ราชบุรี (เหตุเกิด วันที่ 13/11/2561 เวลาประมาณ 06.25น.)</a>\\r\\n                            <p class=\"postdate-detail\">\\r\\n                                <span class=\"order-no\">30</span><span class=\"postdate\">13/11/2561 10:26</span>\\r\\n                            </p>\\r\\n                        </td>\\r\\n\\t\\t</tr><tr>\\r\\n\\t\\t\\t<td colspan=\"3\"><table>\\r\\n\\t\\t\\t\\t<tr>\\r\\n\\t\\t\\t\\t\\t<td><span>1</span></td><td><a href=\"javascript:__doPostBack(&#39;ctl00$ContentPlaceHolder1$gv_list&#39;,&#39;Page$2&#39;)\">2</a></td><td><a href=\"javascript:__doPostBack(&#39;ctl00$ContentPlaceHolder1$gv_list&#39;,&#39;Page$3&#39;)\">3</a></td><td><a href=\"javascript:__doPostBack(&#39;ctl00$ContentPlaceHolder1$gv_list&#39;,&#39;Page$4&#39;)\">4</a></td><td><a href=\"javascript:__doPostBack(&#39;ctl00$ContentPlaceHolder1$gv_list&#39;,&#39;Page$5&#39;)\">5</a></td><td><a href=\"javascript:__doPostBack(&#39;ctl00$ContentPlaceHolder1$gv_list&#39;,&#39;Page$6&#39;)\">6</a></td><td><a href=\"javascript:__doPostBack(&#39;ctl00$ContentPlaceHolder1$gv_list&#39;,&#39;Page$7&#39;)\">7</a></td><td><a href=\"javascript:__doPostBack(&#39;ctl00$ContentPlaceHolder1$gv_list&#39;,&#39;Page$8&#39;)\">8</a></td><td><a href=\"javascript:__doPostBack(&#39;ctl00$ContentPlaceHolder1$gv_list&#39;,&#39;Page$9&#39;)\">9</a></td><td><a href=\"javascript:__doPostBack(&#39;ctl00$ContentPlaceHolder1$gv_list&#39;,&#39;Page$10&#39;)\">10</a></td><td><a href=\"javascript:__doPostBack(&#39;ctl00$ContentPlaceHolder1$gv_list&#39;,&#39;Page$11&#39;)\">...</a></td>\\r\\n\\t\\t\\t\\t</tr>\\r\\n\\t\\t\\t</table></td>\\r\\n\\t\\t</tr>\\r\\n\\t</table>\\r\\n</div>\\r\\n            <!-- serviceTb -->\\r\\n        </div>\\r\\n    </div>\\r\\n\\r\\n            </div>\\r\\n        </section>\\r\\n        <!-- / #header -->\\r\\n        <footer id=\"footer\" class=\" clearfix\">\\r\\n            <div class=\"wrap-in clearfix\">\\r\\n                <div>\\r\\n                    <h4 style=\"color: #fff; border: 0; margin: 0; font-size: 11px;\">\\r\\n                        ร่วมสร้างวัฒนธรรมแห่งความปลอดภัยทางถนนด้วย &nbsp;<a href=\"#\" style=\"text-decoration: none;\\r\\n                            font-size: 11px; color: #F5DA7A;\">\"บัญญัติเพื่อความปลอดภัยทางถนน\"</a></h4>\\r\\n                </div>\\r\\n                <div id=\"copyright\">\\r\\n                    <div id=\"cL\" >\\r\\n                        Thai RSC © 2012 All rights reserved.</div>\\r\\n                    <div id=\"cR\" >\\r\\n                        ทศวรรษแห่งความปลอดภัยทางถนน พ.ศ. 2554-2563\\r\\n                    </div>\\r\\n                    <div class=\"clear\">\\r\\n                    </div>\\r\\n                </div>\\r\\n            </div>\\r\\n            <!-- wrap-in -->\\r\\n        </footer>\\r\\n        <!-- / #footer -->\\r\\n        </form>\\r\\n    </div>\\r\\n    <!-- / #wrap -->\\r\\n</body>\\r\\n</html>\\r\\n'"
      ]
     },
     "execution_count": 4,
     "metadata": {},
     "output_type": "execute_result"
    }
   ],
   "source": [
    "response.text"
   ]
  },
  {
   "cell_type": "code",
   "execution_count": 5,
   "metadata": {},
   "outputs": [],
   "source": [
    "soup = b.BeautifulSoup(response.text,'html.parser')"
   ]
  },
  {
   "cell_type": "code",
   "execution_count": 10,
   "metadata": {},
   "outputs": [
    {
     "data": {
      "text/plain": [
       "'\\r\\n\\tศูนย์ข้อมูลอุบัติเหตุ\\r\\n'"
      ]
     },
     "execution_count": 10,
     "metadata": {},
     "output_type": "execute_result"
    }
   ],
   "source": [
    "soup.title.text\n"
   ]
  },
  {
   "cell_type": "code",
   "execution_count": 11,
   "metadata": {},
   "outputs": [],
   "source": [
    "data = soup.findAll(attrs={'class':'text-detail'})"
   ]
  },
  {
   "cell_type": "code",
   "execution_count": 13,
   "metadata": {
    "scrolled": false
   },
   "outputs": [
    {
     "name": "stdout",
     "output_type": "stream",
     "text": [
      "<a class=\"text-detail\" href=\"BigAccDetail.aspx?qid=47149&amp;l=th\" target=\"_blank\">\r\n",
      "                                อุบัติเหตุ \"รถปิคอัพ ประสานงาน รถ จยย. ดับคาที่ 2  ศพ \" ที่ เขตหนองแขม กรุงเทพฯ (เหตุเกิด วันที่ 27/11/2561 เวลาประมาณ 03.30น.)</a>\n"
     ]
    }
   ],
   "source": [
    "print(data[0])"
   ]
  },
  {
   "cell_type": "code",
   "execution_count": 14,
   "metadata": {},
   "outputs": [
    {
     "data": {
      "text/plain": [
       "30"
      ]
     },
     "execution_count": 14,
     "metadata": {},
     "output_type": "execute_result"
    }
   ],
   "source": [
    "len(data)"
   ]
  },
  {
   "cell_type": "code",
   "execution_count": 21,
   "metadata": {},
   "outputs": [
    {
     "name": "stdout",
     "output_type": "stream",
     "text": [
      "\r\n",
      "                                อุบัติเหตุ \"รถปิคอัพ ประสานงาน รถ จยย. ดับคาที่ 2  ศพ \" ที่ เขตหนองแขม กรุงเทพฯ (เหตุเกิด วันที่ 27/11/2561 เวลาประมาณ 03.30น.)\n",
      "\r\n",
      "                                อุบัติเหตุ \"รถยนต์กระบะ ชนกับ รถยนต์เก๋ง เสียชีวิต 2 ราย \" อ.สร้างคอม จ.อุดรธานี (เหตุเกิด วันที่ 26/11/2561 เวลาประมาณ 14.00น.)\n",
      "\r\n",
      "                                อุบัติเหตุ \"รถจักรยานยนต์ ชนกับ รถจักรยานยนต์ เสียชีวิต 2 ราย      “ที่  อ.สูงเนิน  จ.นครราชสีมา  (เหตุเกิด วันที่ 26/11/2561 เวลา 20.00 น.)\n",
      "\r\n",
      "                                อุบัติเหตุ  “รถกระบะเสียหลักหลุดขอบทาง เจ็บ 15 คน”  ที่เกิดเหตุ อ.สะเมิง จ.เชียงใหม่ (เหตุเกิดวันที่ 26-11-61  เวลาประมาณ  08.00น.)\n",
      "\r\n",
      "                                อุบัติเหตุ \"รถยนต์ตู้ เสียหลักพลิกคว่ำ เจ็บ 12 คน \" ที่ อ.ประโคนชัย จ.บุรีรัมย์(เหตุเกิด วันที่ 26/11/2561 เวลาประมาณ 00.20น.)\n",
      "\r\n",
      "                                อุบัติเหตุ \"รถสิบล้อ ชนกับรถกระบะ ดับ 3 เจ็บ 6 คน \" ที่ อ.แกลง จ.ระยอง (เหตุเกิด วันที่ 25/11/2561 เวลาประมาณ 10.30น.)\n",
      "\r\n",
      "                                อุบัติเหตุ \"รถยนต์เก๋ง ชนกับ รถบรรทุก เสียชีวิต 4 ราย     “ที่  อ.บางละมุง  จ.ชลบุรี  (เหตุเกิด วันที่ 24/11/2561 เวลา 02.00 น.)\n",
      "\r\n",
      "                                อุบัติเหตุ  “กระบะชนเสาไฟฟ้าข้างทาง  เสียชีวิต 2 ราย”  ที่เกิดเหตุ อ.ชะอำ จ.เพชรบุรี (เหตุเกิดวันที่ 23-11-60 เวลาประมาณ 03.57 น.)\n",
      "\r\n",
      "                                อุบัติเหตุ \"รถยนต์บรรทุกชนกับจยย. นักกีฬาทีมชาติ เสียชีวิต 1 ราย \" เขตประเวศ จ.กรุงเทพมหานคร (เหตุเกิด วันที่ 21/11/2561 เวลาประมาณ 20.30 น.)\n",
      "\r\n",
      "                                อุบัติเหตุ \"รถรับส่งนักเรียนถูกรถบรรทุกชนท้าย แล้วเสียหลักชนต้นไม้ข้างทาง เจ็บ 18 คน \" ที่ อ.เกษตรสมบูรณ์ จ.ชัยภูมิ (เหตุเกิด วันที่ 21/11/2561 เวลาประมาณ 07.45น.)\n",
      "\r\n",
      "                                อุบัติเหตุ   \"   รถยนต์ส่วนบุคคลเสียหลักพลิกคว่ำ   เสียชีวิต 2 ราย \"  ที่        อ.ปากเกร็ด  จ.นนทบุรี  (เหตุเกิด วันที่    21/11/2561 เวลาประมาณ  01.10 น.)\n",
      "\r\n",
      "                                อุบัติเหตุ \"รถจักรยานยนต์ ชนกับ รถพ่วง เสียชีวิต 2 ราย     “ที่  อ.เมือง จ.สระแก้ว  (เหตุเกิด วันที่ 20/11/2561 เวลา 17.20 น.)\n",
      "\r\n",
      "                                อุบัติเหตุ \"รถยนต์กระบะชนต้นไม้ เสียชีวิต 1 ราย บาดเจ็บ 4 ราย     “ที่  อ.ชื่นชม จ.มหาสารคาม  (เหตุเกิด วันที่ 20/11/2561 เวลา 11.20 น.)\n",
      "\r\n",
      "                                อุบัติเหตุ \"รถยนต์กระบะเสียหลักชนเสาไฟฟ้า เสียชีวิต 4 ราย “ที่ อ.ศรีราชา จ.ชลบุรี (เหตุเกิดวันที่ 20/11/2561 เวลา01.20น.)\n",
      "\r\n",
      "                                อุบัติเหตุ \"รถยนต์ชนกัน 4 คัน มีผู้ได้รับบาดเจ็บ 23 ราย    “ที่  อ.กงไกรลาศ จ.สุโขทัย  (เหตุเกิด วันที่ 19/11/2561 เวลา 17.03 น.)\n",
      "\r\n",
      "                                อุบัติเหตุ \"รถยนต์ตู้ เสียหลักชนต้นไม้ เสียชีวิต 1 ราย เจ็บ 5 คน \" ที่ อ.วิเชียรบุรี จ.เพชรบูรณ์ (เหตุเกิด วันที่ 19/11/2561 เวลาประมาณ 02.00น.)\n",
      "\r\n",
      "                                อุบัติเหตุ  “รถยนต์กระบะ  ชนกับ รถยนต์เก๋ง เสียชีวิต 2 ราย เจ็บ 1 คน”  ที่ อ.ท่าม่วง จ.กาญจนบุรี (เหตุเกิดวันที่  18-11-61  เวลาประมาณ 23.53 น.)\n",
      "\r\n",
      "                                อุบัติเหตุ \"รถยนต์กระบะ ชนกับ รถยนต์ตู้ มีผู้เสียชีวิต 2 ราย บาดเจ็บ 13 ราย     “ที่  อ.ด่านขุนทด จ.นครราชสีมา  (เหตุเกิด วันที่ 18/11/2561 เวลา 03.20 น.)\n",
      "\r\n",
      "                                อุบัติเหตุ \"รถยนต์เก๋ง ชนกับ รถบรรทุกพ่วง มีผู้เสียชีวิต 2 ราย    “ที่  อ.เมือง  จ.สิงห์บุรี  (เหตุเกิด วันที่ 17/11/2561 เวลา 21.55 น.)\n",
      "\r\n",
      "                                อุบัติเหตุ   \"   รถยนต์ชนกับรถกระบะและชนกับรถบรรทุกตู้คอนเทนเนอร์   เสียชีวิต 2 ราย \"  ที่    อ.บางปะหัน จ.พระนครศรีอยุธยา     (เหตุเกิด วันที่    17/11/2561 เวลาประมาณ  15.00 น.)\n",
      "\r\n",
      "                                 อุบัติเหตุ   \"   รถยนต์กระบะชนกับรถยนต์กระบะ เจ็บ 4 คนเสียชีวิต 2 ราย \"  ที่       อ.น้ำโสม จ.อุดรธานี (เหตุเกิด วันที่    17/11/2561 เวลาประมาณ  14.00 น.)\n",
      "\r\n",
      "                                อุบัติเหตุ \"รถยนต์โดยสารเสียหลักพลิกคว่ำ เจ็บกว่าสิบราย\"  อ.วิเชียรบุรี จ.เพชรบูรณ์ (เหตุเกิด วันที่ 17/11/2561 เวลา 01.55น.)\n",
      "\r\n",
      "                                อุบัติเหตุ \"รถบรรทุกหกล้อห้องเย็นชนท้ายกับรถโดยสารสองแถว เสียชีวิต 1 ราย เจ็บ 19 คน \" ที่ อ.เมือง จ.พัทลุง (เหตุเกิด วันที่ 16/11/2561 เวลาประมาณ 06.58น.)\n",
      "\r\n",
      "                                อุบัติเหตุ “รถกระบะชนรถกระบะ เสียชีวิต 1 ราย เจ็บ 6 ราย ”  ที่เกิดเหตุ อ.ศรีนคร จ.สุโขทัย (เหตุเกิดวันที่ 16-11-61  เวลาประมาณ 22.50 น.)\n",
      "\r\n",
      "                                อุบัติเหตุ   \"   รถตู้โดยสารชนกับรถกระบะ เจ็บ 10 คน\"  ที่      อำเภอ วังทอง  จังหวัด พิษณุโลก (เหตุเกิด วันที่    14/11/2561 เวลาประมาณ  22.55 น.)\n",
      "\r\n",
      "                                อุบัติเหตุ \"รถยนต์กระบะชนกับรถจักรยานยนต์พ่วงข้าง เสียชีวิต 3 ราย เจ็บ 1 คน \" ที่ อ.วังวิเศษ จ.ตรัง (เหตุเกิด วันที่ 13/11/2561 เวลาประมาณ 18.30น.)\n",
      "\r\n",
      "                                อุบัติเหตุ \"รถยนต์กระบะ ชนกับ รถยนต์เก๋ง เสียชีวิต 3 ราย บาดเจ็บ 1 ราย   “ที่  อ.กุฉินารายณ์ จ.กาฬสินธุ์  (เหตุเกิด วันที่ 13/11/2561 เวลา 13.40 น.)\n",
      "\r\n",
      "                                อุบัติเหตุ  “รถยนต์บุคคล ชน รถจักรยานยนต์  เสียชีวิต 2 ราย”  ที่ อ.ตาพระยา จ.สระแก้ว (เหตุเกิดวันที่  13-11-61  เวลาประมาณ 11.00 น.)\n",
      "\r\n",
      "                                อุบัติเหตุ \"รถยนต์กระบะชนกับรถจักรยานยนต์ เสียชีวิต 2 ราย \" ที่ อ.ทุ่งสง จ.นครศรีธรรมราช (เหตุเกิด วันที่ 13/11/2561 เวลาประมาณ 07.45น.)\n",
      "\r\n",
      "                                อุบัติเหตุ \"รถบรรทุกชนกับรถจักรยานยนต์ เสียชีวิต 2 ราย \" ที่ อ.ปากท่อ จ.ราชบุรี (เหตุเกิด วันที่ 13/11/2561 เวลาประมาณ 06.25น.)\n"
     ]
    }
   ],
   "source": [
    "for i in data:\n",
    "    print(i.text)"
   ]
  },
  {
   "cell_type": "code",
   "execution_count": 31,
   "metadata": {},
   "outputs": [],
   "source": [
    "import re "
   ]
  },
  {
   "cell_type": "code",
   "execution_count": 33,
   "metadata": {},
   "outputs": [
    {
     "name": "stdout",
     "output_type": "stream",
     "text": [
      "<_sre.SRE_Match object; span=(115, 123), match='เหตุเกิด'>\n",
      "<_sre.SRE_Match object; span=(116, 124), match='เหตุเกิด'>\n",
      "<_sre.SRE_Match object; span=(133, 141), match='เหตุเกิด'>\n",
      "<_sre.SRE_Match object; span=(120, 128), match='เหตุเกิด'>\n",
      "<_sre.SRE_Match object; span=(114, 122), match='เหตุเกิด'>\n",
      "<_sre.SRE_Match object; span=(106, 114), match='เหตุเกิด'>\n",
      "<_sre.SRE_Match object; span=(121, 129), match='เหตุเกิด'>\n",
      "<_sre.SRE_Match object; span=(120, 128), match='เหตุเกิด'>\n",
      "<_sre.SRE_Match object; span=(128, 136), match='เหตุเกิด'>\n",
      "<_sre.SRE_Match object; span=(151, 159), match='เหตุเกิด'>\n",
      "<_sre.SRE_Match object; span=(139, 147), match='เหตุเกิด'>\n",
      "<_sre.SRE_Match object; span=(119, 127), match='เหตุเกิด'>\n",
      "<_sre.SRE_Match object; span=(129, 137), match='เหตุเกิด'>\n",
      "<_sre.SRE_Match object; span=(117, 125), match='เหตุเกิด'>\n",
      "<_sre.SRE_Match object; span=(122, 130), match='เหตุเกิด'>\n",
      "<_sre.SRE_Match object; span=(132, 140), match='เหตุเกิด'>\n",
      "<_sre.SRE_Match object; span=(132, 140), match='เหตุเกิด'>\n",
      "<_sre.SRE_Match object; span=(147, 155), match='เหตุเกิด'>\n",
      "<_sre.SRE_Match object; span=(129, 137), match='เหตุเกิด'>\n",
      "<_sre.SRE_Match object; span=(162, 170), match='เหตุเกิด'>\n",
      "<_sre.SRE_Match object; span=(139, 147), match='เหตุเกิด'>\n",
      "<_sre.SRE_Match object; span=(119, 127), match='เหตุเกิด'>\n",
      "<_sre.SRE_Match object; span=(142, 150), match='เหตุเกิด'>\n",
      "<_sre.SRE_Match object; span=(125, 133), match='เหตุเกิด'>\n",
      "<_sre.SRE_Match object; span=(129, 137), match='เหตุเกิด'>\n",
      "<_sre.SRE_Match object; span=(135, 143), match='เหตุเกิด'>\n",
      "<_sre.SRE_Match object; span=(141, 149), match='เหตุเกิด'>\n",
      "<_sre.SRE_Match object; span=(120, 128), match='เหตุเกิด'>\n",
      "<_sre.SRE_Match object; span=(124, 132), match='เหตุเกิด'>\n",
      "<_sre.SRE_Match object; span=(115, 123), match='เหตุเกิด'>\n"
     ]
    }
   ],
   "source": [
    "for i in data:\n",
    "    print(re.search('เหตุเกิด',i.text))"
   ]
  },
  {
   "cell_type": "code",
   "execution_count": 41,
   "metadata": {
    "scrolled": true
   },
   "outputs": [],
   "source": [
    "re_date = re.compile(r\"วันที่\\s*(\\d+)[/-](\\d+)[/-](\\d+)\")\n"
   ]
  },
  {
   "cell_type": "code",
   "execution_count": 52,
   "metadata": {},
   "outputs": [
    {
     "name": "stdout",
     "output_type": "stream",
     "text": [
      "2561\n",
      "2561\n",
      "2561\n",
      "61\n",
      "2561\n",
      "2561\n",
      "2561\n",
      "60\n",
      "2561\n",
      "2561\n",
      "2561\n",
      "2561\n",
      "2561\n",
      "2561\n",
      "2561\n",
      "2561\n",
      "61\n",
      "2561\n",
      "2561\n",
      "2561\n",
      "2561\n",
      "2561\n",
      "2561\n",
      "61\n",
      "2561\n",
      "2561\n",
      "2561\n",
      "61\n",
      "2561\n",
      "2561\n"
     ]
    }
   ],
   "source": [
    "for i in data:\n",
    "    mdate = re_date.search(i.text)\n",
    "    print(mdate.group(3))\n",
    "    "
   ]
  },
  {
   "cell_type": "code",
   "execution_count": null,
   "metadata": {},
   "outputs": [],
   "source": [
    "\n"
   ]
  },
  {
   "cell_type": "code",
   "execution_count": null,
   "metadata": {},
   "outputs": [],
   "source": []
  },
  {
   "cell_type": "code",
   "execution_count": null,
   "metadata": {},
   "outputs": [],
   "source": []
  },
  {
   "cell_type": "code",
   "execution_count": null,
   "metadata": {},
   "outputs": [],
   "source": []
  },
  {
   "cell_type": "markdown",
   "metadata": {},
   "source": [
    "## Extract the data using RegEx"
   ]
  },
  {
   "cell_type": "markdown",
   "metadata": {},
   "source": [
    "#### Step 6 Extract the data"
   ]
  },
  {
   "cell_type": "code",
   "execution_count": 53,
   "metadata": {},
   "outputs": [],
   "source": [
    "#1.1 Pattern ข้อความแจ้งอุบัติเหตุ\n",
    "re_text = re.compile(r\"อุบัติเหตุ\\s*[\\\"“]*([\\s\\w\\-\\.ก-๙]+)[\\\"”]*\")\n",
    "\n",
    "#1.2 Pattern วันที่เกิดอุบัติเหตุ\n",
    "re_date = re.compile(r\"วันที่\\s*(\\d+)[/-](\\d+)[/-](\\d+)\")\n",
    "\n",
    "#1.3 Pattern เวลาเกิดเหตุ\n",
    "re_time = re.compile(r\"(เวลา|เวลาประมาณ)\\s*(\\d+\\.\\d+)\\s*\")\n",
    "\n",
    "#1.4 Pattern สถานที่เกิดเหตุ (อำเภอ และ จังหวัด)\n",
    "re_addr = re.compile(r\"(อ\\.|อำเภอ|เขต)\\s*([ก-๙]+)\\s*(จ\\.|จังหวัด)\\s*([ก-๙]+)\")\n",
    "\n",
    "\n"
   ]
  },
  {
   "cell_type": "code",
   "execution_count": null,
   "metadata": {},
   "outputs": [],
   "source": []
  },
  {
   "cell_type": "code",
   "execution_count": 54,
   "metadata": {},
   "outputs": [],
   "source": [
    "acc_day = []\n",
    "acc_month = []\n",
    "acc_year = []\n",
    "acc_time = []\n",
    "acc_addr1 = []\n",
    "acc_addr2 = []\n",
    "acc_text = []\n",
    "\n",
    "\n",
    "for i in range(1,len(data)):\n",
    "    ## Date\n",
    "    mdate = re_date.search(data[i].string)\n",
    "    acc_day.append(mdate.group(1))\n",
    "    acc_month.append(mdate.group(2))\n",
    "    acc_year.append(mdate.group(3))\n",
    "    \n",
    "    ## Time\n",
    "    mtime = re_time.search(data[i].string)\n",
    "    acc_time.append(mtime.group(2))\n",
    "    \n",
    "   ## Accident Address\n",
    "    maddr = re_addr.search(data[i].string)\n",
    "    acc_addr1.append(maddr.group(2))\n",
    "    acc_addr2.append(maddr.group(4))\n",
    "    \n",
    "    ## Accident message\n",
    "    mtext = re_text.search(data[i].string)\n",
    "    acc_text.append(mtext.group(1))"
   ]
  },
  {
   "cell_type": "code",
   "execution_count": 56,
   "metadata": {},
   "outputs": [
    {
     "name": "stdout",
     "output_type": "stream",
     "text": [
      "['26', '26', '26', '26', '25', '24', '23', '21', '21', '21', '20', '20', '20', '19', '19', '18', '18', '17', '17', '17', '17', '16', '16', '14', '13', '13', '13', '13', '13']\n"
     ]
    }
   ],
   "source": [
    "print(acc_day)"
   ]
  },
  {
   "cell_type": "code",
   "execution_count": 58,
   "metadata": {},
   "outputs": [],
   "source": [
    "import pandas as pd\n",
    "acc_data = {\n",
    "        'acc_text':     acc_text , \n",
    "        'acc_day':     acc_day , \n",
    "        'acc_month': acc_month , \n",
    "        'acc_year':    acc_year, \n",
    "        'acc_time':    acc_time, \n",
    "        'acc_add1':   acc_addr1, \n",
    "        'acc_add2':   acc_addr2\n",
    "}\n",
    "\n",
    "df = pd.DataFrame(acc_data)\n",
    "\n"
   ]
  },
  {
   "cell_type": "code",
   "execution_count": 59,
   "metadata": {},
   "outputs": [
    {
     "data": {
      "text/html": [
       "<div>\n",
       "<style scoped>\n",
       "    .dataframe tbody tr th:only-of-type {\n",
       "        vertical-align: middle;\n",
       "    }\n",
       "\n",
       "    .dataframe tbody tr th {\n",
       "        vertical-align: top;\n",
       "    }\n",
       "\n",
       "    .dataframe thead th {\n",
       "        text-align: right;\n",
       "    }\n",
       "</style>\n",
       "<table border=\"1\" class=\"dataframe\">\n",
       "  <thead>\n",
       "    <tr style=\"text-align: right;\">\n",
       "      <th></th>\n",
       "      <th>acc_text</th>\n",
       "      <th>acc_day</th>\n",
       "      <th>acc_month</th>\n",
       "      <th>acc_year</th>\n",
       "      <th>acc_time</th>\n",
       "      <th>acc_add1</th>\n",
       "      <th>acc_add2</th>\n",
       "    </tr>\n",
       "  </thead>\n",
       "  <tbody>\n",
       "    <tr>\n",
       "      <th>0</th>\n",
       "      <td>รถยนต์กระบะ ชนกับ รถยนต์เก๋ง เสียชีวิต 2 ราย</td>\n",
       "      <td>26</td>\n",
       "      <td>11</td>\n",
       "      <td>2561</td>\n",
       "      <td>14.00</td>\n",
       "      <td>สร้างคอม</td>\n",
       "      <td>อุดรธานี</td>\n",
       "    </tr>\n",
       "    <tr>\n",
       "      <th>1</th>\n",
       "      <td>รถจักรยานยนต์ ชนกับ รถจักรยานยนต์ เสียชีวิต 2 ...</td>\n",
       "      <td>26</td>\n",
       "      <td>11</td>\n",
       "      <td>2561</td>\n",
       "      <td>20.00</td>\n",
       "      <td>สูงเนิน</td>\n",
       "      <td>นครราชสีมา</td>\n",
       "    </tr>\n",
       "    <tr>\n",
       "      <th>2</th>\n",
       "      <td>รถกระบะเสียหลักหลุดขอบทาง เจ็บ 15 คน</td>\n",
       "      <td>26</td>\n",
       "      <td>11</td>\n",
       "      <td>61</td>\n",
       "      <td>08.00</td>\n",
       "      <td>สะเมิง</td>\n",
       "      <td>เชียงใหม่</td>\n",
       "    </tr>\n",
       "    <tr>\n",
       "      <th>3</th>\n",
       "      <td>รถยนต์ตู้ เสียหลักพลิกคว่ำ เจ็บ 12 คน</td>\n",
       "      <td>26</td>\n",
       "      <td>11</td>\n",
       "      <td>2561</td>\n",
       "      <td>00.20</td>\n",
       "      <td>ประโคนชัย</td>\n",
       "      <td>บุรีรัมย์</td>\n",
       "    </tr>\n",
       "    <tr>\n",
       "      <th>4</th>\n",
       "      <td>รถสิบล้อ ชนกับรถกระบะ ดับ 3 เจ็บ 6 คน</td>\n",
       "      <td>25</td>\n",
       "      <td>11</td>\n",
       "      <td>2561</td>\n",
       "      <td>10.30</td>\n",
       "      <td>แกลง</td>\n",
       "      <td>ระยอง</td>\n",
       "    </tr>\n",
       "    <tr>\n",
       "      <th>5</th>\n",
       "      <td>รถยนต์เก๋ง ชนกับ รถบรรทุก เสียชีวิต 4 ราย</td>\n",
       "      <td>24</td>\n",
       "      <td>11</td>\n",
       "      <td>2561</td>\n",
       "      <td>02.00</td>\n",
       "      <td>บางละมุง</td>\n",
       "      <td>ชลบุรี</td>\n",
       "    </tr>\n",
       "    <tr>\n",
       "      <th>6</th>\n",
       "      <td>กระบะชนเสาไฟฟ้าข้างทาง  เสียชีวิต 2 ราย</td>\n",
       "      <td>23</td>\n",
       "      <td>11</td>\n",
       "      <td>60</td>\n",
       "      <td>03.57</td>\n",
       "      <td>ชะอำ</td>\n",
       "      <td>เพชรบุรี</td>\n",
       "    </tr>\n",
       "    <tr>\n",
       "      <th>7</th>\n",
       "      <td>รถยนต์บรรทุกชนกับจยย. นักกีฬาทีมชาติ เสียชีวิต...</td>\n",
       "      <td>21</td>\n",
       "      <td>11</td>\n",
       "      <td>2561</td>\n",
       "      <td>20.30</td>\n",
       "      <td>ประเวศ</td>\n",
       "      <td>กรุงเทพมหานคร</td>\n",
       "    </tr>\n",
       "    <tr>\n",
       "      <th>8</th>\n",
       "      <td>รถรับส่งนักเรียนถูกรถบรรทุกชนท้าย แล้วเสียหลัก...</td>\n",
       "      <td>21</td>\n",
       "      <td>11</td>\n",
       "      <td>2561</td>\n",
       "      <td>07.45</td>\n",
       "      <td>เกษตรสมบูรณ์</td>\n",
       "      <td>ชัยภูมิ</td>\n",
       "    </tr>\n",
       "    <tr>\n",
       "      <th>9</th>\n",
       "      <td>รถยนต์ส่วนบุคคลเสียหลักพลิกคว่ำ   เสียชีวิต...</td>\n",
       "      <td>21</td>\n",
       "      <td>11</td>\n",
       "      <td>2561</td>\n",
       "      <td>01.10</td>\n",
       "      <td>ปากเกร็ด</td>\n",
       "      <td>นนทบุรี</td>\n",
       "    </tr>\n",
       "    <tr>\n",
       "      <th>10</th>\n",
       "      <td>รถจักรยานยนต์ ชนกับ รถพ่วง เสียชีวิต 2 ราย</td>\n",
       "      <td>20</td>\n",
       "      <td>11</td>\n",
       "      <td>2561</td>\n",
       "      <td>17.20</td>\n",
       "      <td>เมือง</td>\n",
       "      <td>สระแก้ว</td>\n",
       "    </tr>\n",
       "    <tr>\n",
       "      <th>11</th>\n",
       "      <td>รถยนต์กระบะชนต้นไม้ เสียชีวิต 1 ราย บาดเจ็บ 4 ...</td>\n",
       "      <td>20</td>\n",
       "      <td>11</td>\n",
       "      <td>2561</td>\n",
       "      <td>11.20</td>\n",
       "      <td>ชื่นชม</td>\n",
       "      <td>มหาสารคาม</td>\n",
       "    </tr>\n",
       "    <tr>\n",
       "      <th>12</th>\n",
       "      <td>รถยนต์กระบะเสียหลักชนเสาไฟฟ้า เสียชีวิต 4 ราย</td>\n",
       "      <td>20</td>\n",
       "      <td>11</td>\n",
       "      <td>2561</td>\n",
       "      <td>01.20</td>\n",
       "      <td>ศรีราชา</td>\n",
       "      <td>ชลบุรี</td>\n",
       "    </tr>\n",
       "    <tr>\n",
       "      <th>13</th>\n",
       "      <td>รถยนต์ชนกัน 4 คัน มีผู้ได้รับบาดเจ็บ 23 ราย</td>\n",
       "      <td>19</td>\n",
       "      <td>11</td>\n",
       "      <td>2561</td>\n",
       "      <td>17.03</td>\n",
       "      <td>กงไกรลาศ</td>\n",
       "      <td>สุโขทัย</td>\n",
       "    </tr>\n",
       "    <tr>\n",
       "      <th>14</th>\n",
       "      <td>รถยนต์ตู้ เสียหลักชนต้นไม้ เสียชีวิต 1 ราย เจ็...</td>\n",
       "      <td>19</td>\n",
       "      <td>11</td>\n",
       "      <td>2561</td>\n",
       "      <td>02.00</td>\n",
       "      <td>วิเชียรบุรี</td>\n",
       "      <td>เพชรบูรณ์</td>\n",
       "    </tr>\n",
       "    <tr>\n",
       "      <th>15</th>\n",
       "      <td>รถยนต์กระบะ  ชนกับ รถยนต์เก๋ง เสียชีวิต 2 ราย ...</td>\n",
       "      <td>18</td>\n",
       "      <td>11</td>\n",
       "      <td>61</td>\n",
       "      <td>23.53</td>\n",
       "      <td>ท่าม่วง</td>\n",
       "      <td>กาญจนบุรี</td>\n",
       "    </tr>\n",
       "    <tr>\n",
       "      <th>16</th>\n",
       "      <td>รถยนต์กระบะ ชนกับ รถยนต์ตู้ มีผู้เสียชีวิต 2 ร...</td>\n",
       "      <td>18</td>\n",
       "      <td>11</td>\n",
       "      <td>2561</td>\n",
       "      <td>03.20</td>\n",
       "      <td>ด่านขุนทด</td>\n",
       "      <td>นครราชสีมา</td>\n",
       "    </tr>\n",
       "    <tr>\n",
       "      <th>17</th>\n",
       "      <td>รถยนต์เก๋ง ชนกับ รถบรรทุกพ่วง มีผู้เสียชีวิต 2...</td>\n",
       "      <td>17</td>\n",
       "      <td>11</td>\n",
       "      <td>2561</td>\n",
       "      <td>21.55</td>\n",
       "      <td>เมือง</td>\n",
       "      <td>สิงห์บุรี</td>\n",
       "    </tr>\n",
       "    <tr>\n",
       "      <th>18</th>\n",
       "      <td>รถยนต์ชนกับรถกระบะและชนกับรถบรรทุกตู้คอนเทน...</td>\n",
       "      <td>17</td>\n",
       "      <td>11</td>\n",
       "      <td>2561</td>\n",
       "      <td>15.00</td>\n",
       "      <td>บางปะหัน</td>\n",
       "      <td>พระนครศรีอยุธยา</td>\n",
       "    </tr>\n",
       "    <tr>\n",
       "      <th>19</th>\n",
       "      <td>รถยนต์กระบะชนกับรถยนต์กระบะ เจ็บ 4 คนเสียชี...</td>\n",
       "      <td>17</td>\n",
       "      <td>11</td>\n",
       "      <td>2561</td>\n",
       "      <td>14.00</td>\n",
       "      <td>น้ำโสม</td>\n",
       "      <td>อุดรธานี</td>\n",
       "    </tr>\n",
       "    <tr>\n",
       "      <th>20</th>\n",
       "      <td>รถยนต์โดยสารเสียหลักพลิกคว่ำ เจ็บกว่าสิบราย</td>\n",
       "      <td>17</td>\n",
       "      <td>11</td>\n",
       "      <td>2561</td>\n",
       "      <td>01.55</td>\n",
       "      <td>วิเชียรบุรี</td>\n",
       "      <td>เพชรบูรณ์</td>\n",
       "    </tr>\n",
       "    <tr>\n",
       "      <th>21</th>\n",
       "      <td>รถบรรทุกหกล้อห้องเย็นชนท้ายกับรถโดยสารสองแถว เ...</td>\n",
       "      <td>16</td>\n",
       "      <td>11</td>\n",
       "      <td>2561</td>\n",
       "      <td>06.58</td>\n",
       "      <td>เมือง</td>\n",
       "      <td>พัทลุง</td>\n",
       "    </tr>\n",
       "    <tr>\n",
       "      <th>22</th>\n",
       "      <td>รถกระบะชนรถกระบะ เสียชีวิต 1 ราย เจ็บ 6 ราย</td>\n",
       "      <td>16</td>\n",
       "      <td>11</td>\n",
       "      <td>61</td>\n",
       "      <td>22.50</td>\n",
       "      <td>ศรีนคร</td>\n",
       "      <td>สุโขทัย</td>\n",
       "    </tr>\n",
       "    <tr>\n",
       "      <th>23</th>\n",
       "      <td>รถตู้โดยสารชนกับรถกระบะ เจ็บ 10 คน</td>\n",
       "      <td>14</td>\n",
       "      <td>11</td>\n",
       "      <td>2561</td>\n",
       "      <td>22.55</td>\n",
       "      <td>วังทอง</td>\n",
       "      <td>พิษณุโลก</td>\n",
       "    </tr>\n",
       "    <tr>\n",
       "      <th>24</th>\n",
       "      <td>รถยนต์กระบะชนกับรถจักรยานยนต์พ่วงข้าง เสียชีวิ...</td>\n",
       "      <td>13</td>\n",
       "      <td>11</td>\n",
       "      <td>2561</td>\n",
       "      <td>18.30</td>\n",
       "      <td>วังวิเศษ</td>\n",
       "      <td>ตรัง</td>\n",
       "    </tr>\n",
       "    <tr>\n",
       "      <th>25</th>\n",
       "      <td>รถยนต์กระบะ ชนกับ รถยนต์เก๋ง เสียชีวิต 3 ราย บ...</td>\n",
       "      <td>13</td>\n",
       "      <td>11</td>\n",
       "      <td>2561</td>\n",
       "      <td>13.40</td>\n",
       "      <td>กุฉินารายณ์</td>\n",
       "      <td>กาฬสินธุ์</td>\n",
       "    </tr>\n",
       "    <tr>\n",
       "      <th>26</th>\n",
       "      <td>รถยนต์บุคคล ชน รถจักรยานยนต์  เสียชีวิต 2 ราย</td>\n",
       "      <td>13</td>\n",
       "      <td>11</td>\n",
       "      <td>61</td>\n",
       "      <td>11.00</td>\n",
       "      <td>ตาพระยา</td>\n",
       "      <td>สระแก้ว</td>\n",
       "    </tr>\n",
       "    <tr>\n",
       "      <th>27</th>\n",
       "      <td>รถยนต์กระบะชนกับรถจักรยานยนต์ เสียชีวิต 2 ราย</td>\n",
       "      <td>13</td>\n",
       "      <td>11</td>\n",
       "      <td>2561</td>\n",
       "      <td>07.45</td>\n",
       "      <td>ทุ่งสง</td>\n",
       "      <td>นครศรีธรรมราช</td>\n",
       "    </tr>\n",
       "    <tr>\n",
       "      <th>28</th>\n",
       "      <td>รถบรรทุกชนกับรถจักรยานยนต์ เสียชีวิต 2 ราย</td>\n",
       "      <td>13</td>\n",
       "      <td>11</td>\n",
       "      <td>2561</td>\n",
       "      <td>06.25</td>\n",
       "      <td>ปากท่อ</td>\n",
       "      <td>ราชบุรี</td>\n",
       "    </tr>\n",
       "  </tbody>\n",
       "</table>\n",
       "</div>"
      ],
      "text/plain": [
       "                                             acc_text acc_day acc_month  \\\n",
       "0       รถยนต์กระบะ ชนกับ รถยนต์เก๋ง เสียชีวิต 2 ราย       26        11   \n",
       "1   รถจักรยานยนต์ ชนกับ รถจักรยานยนต์ เสียชีวิต 2 ...      26        11   \n",
       "2                รถกระบะเสียหลักหลุดขอบทาง เจ็บ 15 คน      26        11   \n",
       "3              รถยนต์ตู้ เสียหลักพลิกคว่ำ เจ็บ 12 คน       26        11   \n",
       "4              รถสิบล้อ ชนกับรถกระบะ ดับ 3 เจ็บ 6 คน       25        11   \n",
       "5      รถยนต์เก๋ง ชนกับ รถบรรทุก เสียชีวิต 4 ราย           24        11   \n",
       "6             กระบะชนเสาไฟฟ้าข้างทาง  เสียชีวิต 2 ราย      23        11   \n",
       "7   รถยนต์บรรทุกชนกับจยย. นักกีฬาทีมชาติ เสียชีวิต...      21        11   \n",
       "8   รถรับส่งนักเรียนถูกรถบรรทุกชนท้าย แล้วเสียหลัก...      21        11   \n",
       "9      รถยนต์ส่วนบุคคลเสียหลักพลิกคว่ำ   เสียชีวิต...      21        11   \n",
       "10    รถจักรยานยนต์ ชนกับ รถพ่วง เสียชีวิต 2 ราย           20        11   \n",
       "11  รถยนต์กระบะชนต้นไม้ เสียชีวิต 1 ราย บาดเจ็บ 4 ...      20        11   \n",
       "12     รถยนต์กระบะเสียหลักชนเสาไฟฟ้า เสียชีวิต 4 ราย       20        11   \n",
       "13    รถยนต์ชนกัน 4 คัน มีผู้ได้รับบาดเจ็บ 23 ราย          19        11   \n",
       "14  รถยนต์ตู้ เสียหลักชนต้นไม้ เสียชีวิต 1 ราย เจ็...      19        11   \n",
       "15  รถยนต์กระบะ  ชนกับ รถยนต์เก๋ง เสียชีวิต 2 ราย ...      18        11   \n",
       "16  รถยนต์กระบะ ชนกับ รถยนต์ตู้ มีผู้เสียชีวิต 2 ร...      18        11   \n",
       "17  รถยนต์เก๋ง ชนกับ รถบรรทุกพ่วง มีผู้เสียชีวิต 2...      17        11   \n",
       "18     รถยนต์ชนกับรถกระบะและชนกับรถบรรทุกตู้คอนเทน...      17        11   \n",
       "19     รถยนต์กระบะชนกับรถยนต์กระบะ เจ็บ 4 คนเสียชี...      17        11   \n",
       "20        รถยนต์โดยสารเสียหลักพลิกคว่ำ เจ็บกว่าสิบราย      17        11   \n",
       "21  รถบรรทุกหกล้อห้องเย็นชนท้ายกับรถโดยสารสองแถว เ...      16        11   \n",
       "22       รถกระบะชนรถกระบะ เสียชีวิต 1 ราย เจ็บ 6 ราย       16        11   \n",
       "23                 รถตู้โดยสารชนกับรถกระบะ เจ็บ 10 คน      14        11   \n",
       "24  รถยนต์กระบะชนกับรถจักรยานยนต์พ่วงข้าง เสียชีวิ...      13        11   \n",
       "25  รถยนต์กระบะ ชนกับ รถยนต์เก๋ง เสียชีวิต 3 ราย บ...      13        11   \n",
       "26      รถยนต์บุคคล ชน รถจักรยานยนต์  เสียชีวิต 2 ราย      13        11   \n",
       "27     รถยนต์กระบะชนกับรถจักรยานยนต์ เสียชีวิต 2 ราย       13        11   \n",
       "28        รถบรรทุกชนกับรถจักรยานยนต์ เสียชีวิต 2 ราย       13        11   \n",
       "\n",
       "   acc_year acc_time      acc_add1         acc_add2  \n",
       "0      2561    14.00      สร้างคอม         อุดรธานี  \n",
       "1      2561    20.00       สูงเนิน       นครราชสีมา  \n",
       "2        61    08.00        สะเมิง        เชียงใหม่  \n",
       "3      2561    00.20     ประโคนชัย        บุรีรัมย์  \n",
       "4      2561    10.30          แกลง            ระยอง  \n",
       "5      2561    02.00      บางละมุง           ชลบุรี  \n",
       "6        60    03.57          ชะอำ         เพชรบุรี  \n",
       "7      2561    20.30        ประเวศ    กรุงเทพมหานคร  \n",
       "8      2561    07.45  เกษตรสมบูรณ์          ชัยภูมิ  \n",
       "9      2561    01.10      ปากเกร็ด          นนทบุรี  \n",
       "10     2561    17.20         เมือง          สระแก้ว  \n",
       "11     2561    11.20        ชื่นชม        มหาสารคาม  \n",
       "12     2561    01.20       ศรีราชา           ชลบุรี  \n",
       "13     2561    17.03      กงไกรลาศ          สุโขทัย  \n",
       "14     2561    02.00   วิเชียรบุรี        เพชรบูรณ์  \n",
       "15       61    23.53       ท่าม่วง        กาญจนบุรี  \n",
       "16     2561    03.20     ด่านขุนทด       นครราชสีมา  \n",
       "17     2561    21.55         เมือง        สิงห์บุรี  \n",
       "18     2561    15.00      บางปะหัน  พระนครศรีอยุธยา  \n",
       "19     2561    14.00        น้ำโสม         อุดรธานี  \n",
       "20     2561    01.55   วิเชียรบุรี        เพชรบูรณ์  \n",
       "21     2561    06.58         เมือง           พัทลุง  \n",
       "22       61    22.50        ศรีนคร          สุโขทัย  \n",
       "23     2561    22.55        วังทอง         พิษณุโลก  \n",
       "24     2561    18.30      วังวิเศษ             ตรัง  \n",
       "25     2561    13.40   กุฉินารายณ์        กาฬสินธุ์  \n",
       "26       61    11.00       ตาพระยา          สระแก้ว  \n",
       "27     2561    07.45        ทุ่งสง    นครศรีธรรมราช  \n",
       "28     2561    06.25        ปากท่อ          ราชบุรี  "
      ]
     },
     "execution_count": 59,
     "metadata": {},
     "output_type": "execute_result"
    }
   ],
   "source": [
    "df"
   ]
  },
  {
   "cell_type": "code",
   "execution_count": 60,
   "metadata": {},
   "outputs": [
    {
     "data": {
      "text/plain": [
       "(29, 7)"
      ]
     },
     "execution_count": 60,
     "metadata": {},
     "output_type": "execute_result"
    }
   ],
   "source": [
    "df.shape"
   ]
  },
  {
   "cell_type": "code",
   "execution_count": 61,
   "metadata": {},
   "outputs": [
    {
     "data": {
      "text/plain": [
       "Index(['acc_text', 'acc_day', 'acc_month', 'acc_year', 'acc_time', 'acc_add1',\n",
       "       'acc_add2'],\n",
       "      dtype='object')"
      ]
     },
     "execution_count": 61,
     "metadata": {},
     "output_type": "execute_result"
    }
   ],
   "source": [
    "df.columns"
   ]
  },
  {
   "cell_type": "code",
   "execution_count": 63,
   "metadata": {},
   "outputs": [
    {
     "data": {
      "text/plain": [
       "acc_text     object\n",
       "acc_day      object\n",
       "acc_month    object\n",
       "acc_year     object\n",
       "acc_time     object\n",
       "acc_add1     object\n",
       "acc_add2     object\n",
       "dtype: object"
      ]
     },
     "execution_count": 63,
     "metadata": {},
     "output_type": "execute_result"
    }
   ],
   "source": [
    "df.dtypes"
   ]
  },
  {
   "cell_type": "code",
   "execution_count": 66,
   "metadata": {},
   "outputs": [
    {
     "data": {
      "text/plain": [
       "pandas.core.series.Series"
      ]
     },
     "execution_count": 66,
     "metadata": {},
     "output_type": "execute_result"
    }
   ],
   "source": [
    "type(df['acc_day'])"
   ]
  },
  {
   "cell_type": "code",
   "execution_count": 69,
   "metadata": {},
   "outputs": [
    {
     "data": {
      "text/plain": [
       "pandas.core.frame.DataFrame"
      ]
     },
     "execution_count": 69,
     "metadata": {},
     "output_type": "execute_result"
    }
   ],
   "source": [
    "type(df[['acc_day']])"
   ]
  },
  {
   "cell_type": "code",
   "execution_count": 79,
   "metadata": {
    "scrolled": true
   },
   "outputs": [
    {
     "data": {
      "text/plain": [
       "07.45    2\n",
       "14.00    2\n",
       "02.00    2\n",
       "20.00    1\n",
       "15.00    1\n",
       "22.50    1\n",
       "21.55    1\n",
       "17.20    1\n",
       "01.10    1\n",
       "20.30    1\n",
       "03.57    1\n",
       "17.03    1\n",
       "01.20    1\n",
       "23.53    1\n",
       "22.55    1\n",
       "06.25    1\n",
       "13.40    1\n",
       "11.20    1\n",
       "11.00    1\n",
       "08.00    1\n",
       "10.30    1\n",
       "18.30    1\n",
       "03.20    1\n",
       "01.55    1\n",
       "06.58    1\n",
       "00.20    1\n",
       "Name: acc_time, dtype: int64"
      ]
     },
     "execution_count": 79,
     "metadata": {},
     "output_type": "execute_result"
    }
   ],
   "source": [
    "df[\"acc_time\"].value_counts()"
   ]
  },
  {
   "cell_type": "code",
   "execution_count": 86,
   "metadata": {},
   "outputs": [],
   "source": [
    "%matplotlib inline\n",
    "import matplotlib.pyplot as plt\n"
   ]
  },
  {
   "cell_type": "code",
   "execution_count": 89,
   "metadata": {},
   "outputs": [
    {
     "data": {
      "text/plain": [
       "<matplotlib.axes._subplots.AxesSubplot at 0x2a59903f4e0>"
      ]
     },
     "execution_count": 89,
     "metadata": {},
     "output_type": "execute_result"
    },
    {
     "data": {
      "image/png": "[encoded data removed]",
      "text/plain": [
       "<Figure size 432x288 with 1 Axes>"
      ]
     },
     "metadata": {},
     "output_type": "display_data"
    }
   ],
   "source": [
    "df['acc_day'].hist()"
   ]
  },
  {
   "cell_type": "code",
   "execution_count": 101,
   "metadata": {},
   "outputs": [
    {
     "data": {
      "text/plain": [
       "<matplotlib.axes._subplots.AxesSubplot at 0x2a59968def0>"
      ]
     },
     "execution_count": 101,
     "metadata": {},
     "output_type": "execute_result"
    },
    {
     "data": {
      "image/png": "[encoded data removed]",
      "text/plain": [
       "<Figure size 432x288 with 1 Axes>"
      ]
     },
     "metadata": {},
     "output_type": "display_data"
    }
   ],
   "source": [
    "plt.rcParams['font.family']='tahoma'\n",
    "pd.value_counts(df['acc_add2']).plot.bar()"
   ]
  },
  {
   "cell_type": "code",
   "execution_count": 102,
   "metadata": {},
   "outputs": [],
   "source": [
    "df.to_excel('../data/accident_scrapong.xlsx')"
   ]
  },
  {
   "cell_type": "markdown",
   "metadata": {},
   "source": [
    "Write SQL"
   ]
  },
  {
   "cell_type": "code",
   "execution_count": 103,
   "metadata": {},
   "outputs": [],
   "source": [
    "import sqlite3\n"
   ]
  },
  {
   "cell_type": "code",
   "execution_count": 106,
   "metadata": {},
   "outputs": [],
   "source": [
    "conn = sqlite3.connect('../data/accident_scraping.db')"
   ]
  },
  {
   "cell_type": "code",
   "execution_count": 107,
   "metadata": {},
   "outputs": [],
   "source": [
    "df.to_sql('accident_table',conn)"
   ]
  },
  {
   "cell_type": "code",
   "execution_count": 114,
   "metadata": {},
   "outputs": [],
   "source": [
    "q = pd.read_sql_query('select * from accident_table where acc_day = 23',conn)"
   ]
  },
  {
   "cell_type": "code",
   "execution_count": 116,
   "metadata": {},
   "outputs": [
    {
     "data": {
      "text/html": [
       "<div>\n",
       "<style scoped>\n",
       "    .dataframe tbody tr th:only-of-type {\n",
       "        vertical-align: middle;\n",
       "    }\n",
       "\n",
       "    .dataframe tbody tr th {\n",
       "        vertical-align: top;\n",
       "    }\n",
       "\n",
       "    .dataframe thead th {\n",
       "        text-align: right;\n",
       "    }\n",
       "</style>\n",
       "<table border=\"1\" class=\"dataframe\">\n",
       "  <thead>\n",
       "    <tr style=\"text-align: right;\">\n",
       "      <th></th>\n",
       "      <th>index</th>\n",
       "      <th>acc_text</th>\n",
       "      <th>acc_day</th>\n",
       "      <th>acc_month</th>\n",
       "      <th>acc_year</th>\n",
       "      <th>acc_time</th>\n",
       "      <th>acc_add1</th>\n",
       "      <th>acc_add2</th>\n",
       "    </tr>\n",
       "  </thead>\n",
       "  <tbody>\n",
       "    <tr>\n",
       "      <th>0</th>\n",
       "      <td>6</td>\n",
       "      <td>กระบะชนเสาไฟฟ้าข้างทาง  เสียชีวิต 2 ราย</td>\n",
       "      <td>23</td>\n",
       "      <td>11</td>\n",
       "      <td>60</td>\n",
       "      <td>03.57</td>\n",
       "      <td>ชะอำ</td>\n",
       "      <td>เพชรบุรี</td>\n",
       "    </tr>\n",
       "  </tbody>\n",
       "</table>\n",
       "</div>"
      ],
      "text/plain": [
       "   index                                 acc_text acc_day acc_month acc_year  \\\n",
       "0      6  กระบะชนเสาไฟฟ้าข้างทาง  เสียชีวิต 2 ราย      23        11       60   \n",
       "\n",
       "  acc_time acc_add1  acc_add2  \n",
       "0    03.57     ชะอำ  เพชรบุรี  "
      ]
     },
     "execution_count": 116,
     "metadata": {},
     "output_type": "execute_result"
    }
   ],
   "source": [
    "q"
   ]
  },
  {
   "cell_type": "code",
   "execution_count": null,
   "metadata": {},
   "outputs": [],
   "source": []
  },
  {
   "cell_type": "code",
   "execution_count": null,
   "metadata": {},
   "outputs": [],
   "source": []
  },
  {
   "cell_type": "code",
   "execution_count": null,
   "metadata": {},
   "outputs": [],
   "source": []
  },
  {
   "cell_type": "code",
   "execution_count": null,
   "metadata": {},
   "outputs": [],
   "source": []
  },
  {
   "cell_type": "code",
   "execution_count": null,
   "metadata": {},
   "outputs": [],
   "source": []
  },
  {
   "cell_type": "code",
   "execution_count": null,
   "metadata": {},
   "outputs": [],
   "source": []
  }
 ],
 "metadata": {
  "kernelspec": {
   "display_name": "Python 3",
   "language": "python",
   "name": "python3"
  },
  "language_info": {
   "codemirror_mode": {
    "name": "ipython",
    "version": 3
   },
   "file_extension": ".py",
   "mimetype": "text/x-python",
   "name": "python",
   "nbconvert_exporter": "python",
   "pygments_lexer": "ipython3",
   "version": "3.6.5"
  },
  "toc": {
   "base_numbering": 1,
   "nav_menu": {},
   "number_sections": false,
   "sideBar": true,
   "skip_h1_title": true,
   "title_cell": "Table of Contents",
   "title_sidebar": "Contents",
   "toc_cell": false,
   "toc_position": {
    "height": "calc(100% - 180px)",
    "left": "10px",
    "top": "150px",
    "width": "165px"
   },
   "toc_section_display": true,
   "toc_window_display": false
  }
 },
 "nbformat": 4,
 "nbformat_minor": 2
}
