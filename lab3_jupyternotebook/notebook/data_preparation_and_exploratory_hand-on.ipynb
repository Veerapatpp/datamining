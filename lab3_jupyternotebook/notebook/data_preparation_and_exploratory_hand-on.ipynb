{
 "cells": [
  {
   "cell_type": "markdown",
   "metadata": {},
   "source": [
    "# Machine Learning for Data Science: Data Preparation and Exploratory"
   ]
  },
  {
   "cell_type": "markdown",
   "metadata": {},
   "source": [
    "---"
   ]
  },
  {
   "cell_type": "markdown",
   "metadata": {},
   "source": [
    "## Objectives\n",
    "- Part 1: Analyzing the Data\n",
    "- Part 2: Visualizing the Data\n",
    "<br><br>\n",
    "In this lab, you will import a data set into a pandas frame and generate descriptive statistics from the data. You will format text strings report the descriptive statistics and generate a plot of the data. Finally, you will experiment with parameters of the graph to become familiar with plotting data using the matplotlib.pyplot libary."
   ]
  },
  {
   "cell_type": "markdown",
   "metadata": {},
   "source": [
    "### Table of content\n",
    "- __Part1 : Analyzing the data__\n",
    "    1. Setup the environment and import the data\n",
    "    2. Understanding the data\n",
    "    3. Preprocess the data\n",
    "        - Filter data\n",
    "        - Handling Missing data\n",
    "        - Transform data \n",
    "            - convert latitute and longtitute to address\n",
    "            - convert data (numerical to nominal)\n",
    "        - Write data to excel or csv file<br><br>\n",
    "- __Part2 : Visualizing the data__\n",
    "    1. Histogram\n",
    "    2. Box plot\n",
    "    3. Bar chart\n",
    "    4. Scatter plot"
   ]
  },
  {
   "cell_type": "markdown",
   "metadata": {},
   "source": [
    "---"
   ]
  },
  {
   "cell_type": "markdown",
   "metadata": {},
   "source": [
    "## Part 1: Analyzing the Data"
   ]
  },
  {
   "cell_type": "markdown",
   "metadata": {},
   "source": [
    "### Step 1: Setup the environment and import data. \n",
    "\n",
    "First, you will import the modules and set up the enivronment to display matplotlib output to the notebook page. <br>\n",
    "Then, you will use pandas to import data from a csv file into a dataframe. <br>"
   ]
  },
  {
   "cell_type": "markdown",
   "metadata": {},
   "source": [
    "__a) Import modules and set up the environment.__"
   ]
  },
  {
   "cell_type": "code",
   "execution_count": null,
   "metadata": {
    "collapsed": true
   },
   "outputs": [],
   "source": [
    "# import pandas, matplotlib\n"
   ]
  },
  {
   "cell_type": "markdown",
   "metadata": {},
   "source": [
    "__b) Load dataset.__"
   ]
  },
  {
   "cell_type": "code",
   "execution_count": null,
   "metadata": {
    "collapsed": true
   },
   "outputs": [],
   "source": [
    "# load excel 'accident_data.xlsx'\n"
   ]
  },
  {
   "cell_type": "code",
   "execution_count": null,
   "metadata": {},
   "outputs": [],
   "source": [
    "# show top 5 records\n"
   ]
  },
  {
   "cell_type": "code",
   "execution_count": null,
   "metadata": {},
   "outputs": [],
   "source": [
    "# show shape\n"
   ]
  },
  {
   "cell_type": "code",
   "execution_count": null,
   "metadata": {},
   "outputs": [],
   "source": [
    "# show size\n"
   ]
  },
  {
   "cell_type": "code",
   "execution_count": null,
   "metadata": {},
   "outputs": [],
   "source": [
    "# show all columns\n"
   ]
  },
  {
   "cell_type": "code",
   "execution_count": null,
   "metadata": {},
   "outputs": [],
   "source": [
    "# show datatype of each columns\n"
   ]
  },
  {
   "cell_type": "markdown",
   "metadata": {},
   "source": [
    "---"
   ]
  },
  {
   "cell_type": "markdown",
   "metadata": {},
   "source": [
    "### Step 2: Data Understanding. "
   ]
  },
  {
   "cell_type": "markdown",
   "metadata": {},
   "source": [
    "The goal of the first part of the lab is to use pandas methods to import a dataset and generate the following descriptive statistics:\n",
    "\n",
    "1. sample size\n",
    "2. mean\n",
    "3. median\n",
    "4. standard deviation\n",
    "5. minimum, maximum, and range of values"
   ]
  },
  {
   "cell_type": "markdown",
   "metadata": {},
   "source": [
    "#### a) Descriptive statistics"
   ]
  },
  {
   "cell_type": "code",
   "execution_count": null,
   "metadata": {},
   "outputs": [],
   "source": [
    "# decribe the dataframe\n"
   ]
  },
  {
   "cell_type": "markdown",
   "metadata": {},
   "source": [
    "__ b) Filter data __"
   ]
  },
  {
   "cell_type": "code",
   "execution_count": null,
   "metadata": {},
   "outputs": [],
   "source": [
    "# filter accident data only 2014\n"
   ]
  },
  {
   "cell_type": "code",
   "execution_count": null,
   "metadata": {},
   "outputs": [],
   "source": [
    "# show shape\n"
   ]
  },
  {
   "cell_type": "code",
   "execution_count": null,
   "metadata": {},
   "outputs": [],
   "source": [
    "# visualization the data with hitogram for example 'ACCIDENT_COST'\n",
    "# df['column].hist()\n"
   ]
  },
  {
   "cell_type": "code",
   "execution_count": null,
   "metadata": {},
   "outputs": [],
   "source": [
    "# visualization the data with box plot for example 'ACCIDENT_COST'\n",
    "# df['column].plot.box()\n"
   ]
  },
  {
   "cell_type": "code",
   "execution_count": null,
   "metadata": {},
   "outputs": [],
   "source": [
    "#df1 = df[df['column'] < value]\n",
    "#df1['column'].plot.box()\n"
   ]
  },
  {
   "cell_type": "code",
   "execution_count": null,
   "metadata": {
    "collapsed": true
   },
   "outputs": [],
   "source": []
  },
  {
   "cell_type": "code",
   "execution_count": null,
   "metadata": {
    "collapsed": true
   },
   "outputs": [],
   "source": []
  },
  {
   "cell_type": "markdown",
   "metadata": {},
   "source": [
    "---"
   ]
  },
  {
   "cell_type": "markdown",
   "metadata": {},
   "source": [
    "### Step 3: Data Preparation. "
   ]
  },
  {
   "cell_type": "markdown",
   "metadata": {},
   "source": [
    "#### a) Data type convertion"
   ]
  },
  {
   "cell_type": "code",
   "execution_count": null,
   "metadata": {
    "collapsed": true
   },
   "outputs": [],
   "source": [
    "# convert datatype of 'accident_month' and 'accident_year' from integer to string \n",
    "# df[['col1','col2']] = df[['col1','col2']].astype(str)\n"
   ]
  },
  {
   "cell_type": "code",
   "execution_count": null,
   "metadata": {
    "collapsed": true
   },
   "outputs": [],
   "source": [
    "# describe() and show dtype\n"
   ]
  },
  {
   "cell_type": "markdown",
   "metadata": {},
   "source": [
    "#### b) Handling missing data"
   ]
  },
  {
   "cell_type": "code",
   "execution_count": 2,
   "metadata": {},
   "outputs": [],
   "source": [
    "# count null value\n",
    "# df.isnull().sum()\n"
   ]
  },
  {
   "cell_type": "code",
   "execution_count": 3,
   "metadata": {},
   "outputs": [],
   "source": [
    "# copy dataframe\n",
    "# tmp = df_2014.copy()\n",
    "# tmp.head()"
   ]
  },
  {
   "cell_type": "code",
   "execution_count": null,
   "metadata": {},
   "outputs": [],
   "source": [
    "# Handling missing value \n",
    "# solution 1 : fill null value with specific value\n",
    "# tmp['accident_cost'].fillna(0, inplace = True)\n",
    "# tmp.head()\n"
   ]
  },
  {
   "cell_type": "code",
   "execution_count": null,
   "metadata": {},
   "outputs": [],
   "source": []
  },
  {
   "cell_type": "code",
   "execution_count": null,
   "metadata": {},
   "outputs": [],
   "source": [
    "# Handling missing value \n",
    "# solution 2 : simplest drop all record that contain null value\n",
    "\n",
    "# copy dataframe\n",
    "# tmp = df_2014.copy()\n",
    "\n",
    "tmp = tmp.dropna()\n",
    "tmp.shape"
   ]
  },
  {
   "cell_type": "code",
   "execution_count": null,
   "metadata": {},
   "outputs": [],
   "source": [
    "tmp.head()"
   ]
  },
  {
   "cell_type": "code",
   "execution_count": null,
   "metadata": {},
   "outputs": [],
   "source": [
    "df_prep = df_2014.dropna()"
   ]
  },
  {
   "cell_type": "markdown",
   "metadata": {},
   "source": [
    "#### c) Data Conversion\n",
    "\n",
    "ROADTYPE_ID [0-5,90]\tสภาพถนน\t\n",
    "- 1 = 'ถนนกรมทางหลวง'\n",
    "- 2 = 'ถนนกรมทางหลวงชนบท'\n",
    "- 3 = 'ถนนในเมือง (เทศบาล)'\n",
    "- 4 = 'ถนนใน อบต. / หมู่บ้าน'\n",
    "- 5 = 'อื่นๆ'\n",
    "\n",
    "ROADSKIN_ID [0-5,90]\tผิวถนน\t\n",
    "- 1 = 'แห้ง'\n",
    "- 2 = 'เปียก'\n",
    "- 3 = 'เป็นคลื่น / หลุมบ่อ'\n",
    "- 4 = 'อื่นๆ'\n",
    "\n",
    "ACDPOINT_ID [0-5,90]\tจุดเกิดอุบัติเหตุ\t\n",
    "- 1 = 'ทางตรง'\n",
    "- 2 = 'ทางโค้ง'\n",
    "- 3 = 'ทางแยก'\n",
    "- 4 = 'ทางคนข้าม'\n",
    "- 5 = 'ทางมีสิ่งกีดขวาง'\n",
    "- 6 = 'อื่นๆ'\n",
    "\n",
    "ATMOSPHERE_ID [0-4,90]\tสภาพอากาศ\t\n",
    "- 1 = 'แจ่มใส'\n",
    "- 2 = 'มีหมอก'\n",
    "- 3 = 'ฝนตก'\n",
    "- 4 = 'ควัน / ฝุ่น'\n",
    "- 5 = 'อื่นๆ'\n",
    "\n",
    "LIGHT_ID [0-3,90]\tแสงในขณะเกิดอุบัติเหตุ\t\n",
    "- 1 = 'กลางวัน'\n",
    "- 2 = 'กลางคืนมีแสงไฟฟ้า'\n",
    "- 3 = 'กลางคืนไม่มีแสงไฟฟ้า'\n",
    "- 4 = 'อื่นๆ'"
   ]
  },
  {
   "cell_type": "code",
   "execution_count": null,
   "metadata": {},
   "outputs": [],
   "source": [
    "## ROADTYPE_ID [0-5,90] สภาพถนน\n",
    "road = []\n",
    "for x in df_prep['roadtype_id']:\n",
    "    if x == 1 :\n",
    "        road.append('ถนนกรมทางหลวง')\n",
    "    elif x == 2 :\n",
    "        road.append('ถนนกรมทางหลวงชนบท')\n",
    "    elif x == 3 :\n",
    "        road.append('ถนนในเมือง')\n",
    "    elif x == 4 :\n",
    "        road.append('ถนนในหมู่บ้าน')\n",
    "    else :\n",
    "        road.append('อื่นๆ')"
   ]
  },
  {
   "cell_type": "code",
   "execution_count": null,
   "metadata": {
    "collapsed": true
   },
   "outputs": [],
   "source": [
    "## ROADSKIN_ID [0-5,90] ผิวถนน\n",
    "\n",
    "road_skin = []\n",
    "for x in df_prep['roadskin_id']:\n",
    "    if x == 1 :\n",
    "        road_skin.append('แห้ง')\n",
    "    elif x == 2 :\n",
    "        road_skin.append('เปียก')\n",
    "    elif x == 3 :\n",
    "        road_skin.append('เป็นคลื่น')\n",
    "    else :\n",
    "        road_skin.append('อื่นๆ')"
   ]
  },
  {
   "cell_type": "code",
   "execution_count": null,
   "metadata": {},
   "outputs": [],
   "source": [
    "## ACDPOINT_ID [0-5,90] จุดเกิดอุบัติเหตุ\n",
    "\n",
    "acdpoint = []\n",
    "for x in df_prep['acdpoint_id']:\n",
    "    if x == 1 :\n",
    "        acdpoint.append('ทางตรง')\n",
    "    elif x == 2 :\n",
    "        acdpoint.append('ทางโค้ง')\n",
    "    elif x == 3 :\n",
    "        acdpoint.append('ทางแยก')\n",
    "    elif x == 4 :\n",
    "        acdpoint.append('ทางคนข้าม')\n",
    "    elif x == 5 :\n",
    "        acdpoint.append('ทางมีสิ่งกีดขวาง')\n",
    "    else :\n",
    "        acdpoint.append('อื่นๆ')"
   ]
  },
  {
   "cell_type": "code",
   "execution_count": null,
   "metadata": {
    "collapsed": true
   },
   "outputs": [],
   "source": [
    "## ATMOSPHERE_ID [0-4,90] สภาพอากาศ\n",
    "\n",
    "atmos = []\n",
    "for x in df_prep['atmosphere_id']:\n",
    "    if x == 1 :\n",
    "        atmos.append('แจ่มใส')\n",
    "    elif x == 2 :\n",
    "        atmos.append('มีหมอก')\n",
    "    elif x == 3 :\n",
    "        atmos.append('ฝนตก')\n",
    "    elif x == 4 :\n",
    "        atmos.append('ควันฝุ่น')\n",
    "    else :\n",
    "        atmos.append('อื่นๆ') "
   ]
  },
  {
   "cell_type": "code",
   "execution_count": null,
   "metadata": {
    "collapsed": true
   },
   "outputs": [],
   "source": [
    "## LIGHT_ID [0-3,90] แสงในขณะเกิดอุบัติเหตุ\n",
    "ligth = []\n",
    "for x in df_prep['light_id']:\n",
    "    if x == 1 :\n",
    "        ligth.append('กลางวัน')\n",
    "    elif x == 2 :\n",
    "        ligth.append('กลางคืนมีแสงไฟฟ้า')\n",
    "    elif x == 3 :\n",
    "        ligth.append('กลางคืนไม่มีแสงไฟฟ้า')\n",
    "    else :\n",
    "        ligth.append('อื่นๆ')          "
   ]
  },
  {
   "cell_type": "markdown",
   "metadata": {},
   "source": [
    "##### Write converted data to DataFrame"
   ]
  },
  {
   "cell_type": "code",
   "execution_count": null,
   "metadata": {},
   "outputs": [],
   "source": [
    "df_prep['roadtype_name'] = road             \n",
    "df_prep['roadskin_name'] = road_skin\n",
    "df_prep['acdpoint_name'] = acdpoint\n",
    "df_prep['atmosphere_name'] = atmos\n",
    "df_prep['light_name'] = ligth"
   ]
  },
  {
   "cell_type": "code",
   "execution_count": null,
   "metadata": {},
   "outputs": [],
   "source": [
    "df_prep.columns"
   ]
  },
  {
   "cell_type": "markdown",
   "metadata": {},
   "source": [
    "#### d) Filter data by columns"
   ]
  },
  {
   "cell_type": "code",
   "execution_count": null,
   "metadata": {},
   "outputs": [],
   "source": [
    "## select relevant columns\n",
    "select_cols = ['accident_id', 'accident_month', 'accident_cost', 'person_gender','person_age',\n",
    "               'province','roadtype_name','roadskin_name','acdpoint_name','atmosphere_name','light_name','human_admit','human_dead']\n",
    "df_prep = df_prep[select_cols]\n",
    "\n",
    "## drop irrelevant columns\n",
    "#drop_cols = ['LOCATE_ID_DISTRICT','LOCATE_ID_POLICE','HUMAN_ADMIT','HUMAN_DEAD','ROADTYPE_ID']\n",
    "#df_prep = df_prep.drop(drop_cols, axis=1)"
   ]
  },
  {
   "cell_type": "code",
   "execution_count": null,
   "metadata": {},
   "outputs": [],
   "source": [
    "df_prep.head()"
   ]
  },
  {
   "cell_type": "markdown",
   "metadata": {},
   "source": [
    "#### e) Sort value by province name"
   ]
  },
  {
   "cell_type": "code",
   "execution_count": null,
   "metadata": {},
   "outputs": [],
   "source": [
    "df_prep['province'].value_counts()\n",
    "#df_prep['province'].value_counts().sort_values(ascending=True)"
   ]
  },
  {
   "cell_type": "markdown",
   "metadata": {},
   "source": [
    "---"
   ]
  },
  {
   "cell_type": "markdown",
   "metadata": {},
   "source": [
    "## Part 2: Visualizing the Data"
   ]
  },
  {
   "cell_type": "markdown",
   "metadata": {},
   "source": [
    "### Data Exploratory"
   ]
  },
  {
   "cell_type": "code",
   "execution_count": null,
   "metadata": {
    "collapsed": true
   },
   "outputs": [],
   "source": [
    "import seaborn as sns"
   ]
  },
  {
   "cell_type": "markdown",
   "metadata": {},
   "source": [
    "__a) อายุของคนที่เกิดอุบัติเหตุ__"
   ]
  },
  {
   "cell_type": "markdown",
   "metadata": {},
   "source": [
    "_Histogram_"
   ]
  },
  {
   "cell_type": "code",
   "execution_count": null,
   "metadata": {},
   "outputs": [],
   "source": [
    "df_prep['person_age'].plot(kind='hist', bins=10)"
   ]
  },
  {
   "cell_type": "code",
   "execution_count": null,
   "metadata": {},
   "outputs": [],
   "source": [
    "sns.distplot( df_prep['person_age'] , bins=10)"
   ]
  },
  {
   "cell_type": "markdown",
   "metadata": {},
   "source": [
    "_Quartile Chart_"
   ]
  },
  {
   "cell_type": "code",
   "execution_count": null,
   "metadata": {
    "scrolled": true
   },
   "outputs": [],
   "source": [
    "sns.boxplot(x=\"person_age\", data=df_prep)"
   ]
  },
  {
   "cell_type": "markdown",
   "metadata": {},
   "source": [
    "_Filter age less than 100_"
   ]
  },
  {
   "cell_type": "code",
   "execution_count": null,
   "metadata": {},
   "outputs": [],
   "source": [
    "df_prep = df_prep[df_prep['person_age']<=100]"
   ]
  },
  {
   "cell_type": "code",
   "execution_count": null,
   "metadata": {},
   "outputs": [],
   "source": [
    "sns.boxplot(x=\"person_age\", data=df_prep)"
   ]
  },
  {
   "cell_type": "markdown",
   "metadata": {},
   "source": [
    "_Distribution Chart การกระจายตัวของอายุผู้ประสบอุบัติเหตุ_"
   ]
  },
  {
   "cell_type": "code",
   "execution_count": null,
   "metadata": {},
   "outputs": [],
   "source": [
    "plt.rcParams['figure.figsize'] = 8, 5\n",
    "sns.distplot( df_prep['person_age'] , bins=10)"
   ]
  },
  {
   "cell_type": "markdown",
   "metadata": {},
   "source": [
    "__b) จำนวนครั้งที่เกิดอุบัติเหตุ ในแต่ละเดือน__"
   ]
  },
  {
   "cell_type": "code",
   "execution_count": null,
   "metadata": {},
   "outputs": [],
   "source": [
    "#df_prep['accident_month'].plot(kind='hist', bins=12)\n",
    "sns.distplot(df_prep['accident_month'], bins=12)"
   ]
  },
  {
   "cell_type": "markdown",
   "metadata": {
    "collapsed": true
   },
   "source": [
    "__c) จำนวนครั้งที่เกิดอุบัติเหตุ แบ่งตามจังหวัด__"
   ]
  },
  {
   "cell_type": "code",
   "execution_count": null,
   "metadata": {},
   "outputs": [],
   "source": [
    "plt.rcParams['font.family'] = 'Tahoma'\n",
    "plt.rcParams['figure.figsize'] = 16, 5\n",
    "province_count = df_prep['province'].value_counts()[:40,]\n",
    "\n",
    "sns.barplot(province_count.index, province_count.values)\n",
    "\n",
    "plt.title('Number of Accidence', fontsize=16)\n",
    "plt.xlabel('Province', fontsize=18)\n",
    "plt.xticks(rotation=90)\n",
    "plt.show()"
   ]
  },
  {
   "cell_type": "markdown",
   "metadata": {},
   "source": [
    "__d) ถนนที่เกิดอุบัติเหตุบ่อยสุด __"
   ]
  },
  {
   "cell_type": "code",
   "execution_count": null,
   "metadata": {},
   "outputs": [],
   "source": [
    "plt.rcParams['figure.figsize'] = 10, 5\n",
    "count_data = df_prep['roadtype_name'].value_counts()\n",
    "sns.barplot(count_data.index, count_data.values)\n",
    "plt.title('Number of Accidence', fontsize=16)\n",
    "plt.xlabel('Roadtype Name', fontsize=18)\n",
    "plt.xticks()\n",
    "plt.show()"
   ]
  },
  {
   "cell_type": "markdown",
   "metadata": {},
   "source": [
    "__e) สภาพถนนที่เกิดอุบัติเหตุ__"
   ]
  },
  {
   "cell_type": "code",
   "execution_count": null,
   "metadata": {},
   "outputs": [],
   "source": []
  },
  {
   "cell_type": "markdown",
   "metadata": {},
   "source": [
    "__f) จุดที่เกิดอุบัติเหตุ__"
   ]
  },
  {
   "cell_type": "code",
   "execution_count": null,
   "metadata": {},
   "outputs": [],
   "source": []
  },
  {
   "cell_type": "markdown",
   "metadata": {},
   "source": [
    "__g) สภาพอากาศที่เกิดอุบัติเหตุ__"
   ]
  },
  {
   "cell_type": "code",
   "execution_count": null,
   "metadata": {},
   "outputs": [],
   "source": []
  },
  {
   "cell_type": "markdown",
   "metadata": {},
   "source": [
    "__h) แสงไฟที่เกิดอุบัติเหตุ__"
   ]
  },
  {
   "cell_type": "code",
   "execution_count": null,
   "metadata": {},
   "outputs": [],
   "source": [
    "   "
   ]
  },
  {
   "cell_type": "markdown",
   "metadata": {},
   "source": [
    "#### i) Scatter plot"
   ]
  },
  {
   "cell_type": "code",
   "execution_count": null,
   "metadata": {},
   "outputs": [],
   "source": [
    "# show correlation between accident_cost and human age\n",
    "# ax = sns.lmplot(x='col_1', y=\"col_2\", data=df)\n"
   ]
  },
  {
   "cell_type": "markdown",
   "metadata": {
    "collapsed": true
   },
   "source": [
    "---"
   ]
  }
 ],
 "metadata": {
  "kernelspec": {
   "display_name": "Python 3",
   "language": "python",
   "name": "python3"
  },
  "language_info": {
   "codemirror_mode": {
    "name": "ipython",
    "version": 3
   },
   "file_extension": ".py",
   "mimetype": "text/x-python",
   "name": "python",
   "nbconvert_exporter": "python",
   "pygments_lexer": "ipython3",
   "version": "3.6.5"
  },
  "toc": {
   "base_numbering": 1,
   "nav_menu": {},
   "number_sections": false,
   "sideBar": true,
   "skip_h1_title": true,
   "title_cell": "Table of Contents",
   "title_sidebar": "Contents",
   "toc_cell": false,
   "toc_position": {
    "height": "calc(100% - 180px)",
    "left": "10px",
    "top": "150px",
    "width": "165px"
   },
   "toc_section_display": true,
   "toc_window_display": false
  }
 },
 "nbformat": 4,
 "nbformat_minor": 2
}
